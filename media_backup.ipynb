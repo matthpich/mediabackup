{
 "cells": [
  {
   "cell_type": "markdown",
   "metadata": {},
   "source": [
    "# Import and functions"
   ]
  },
  {
   "cell_type": "code",
   "execution_count": 1,
   "metadata": {},
   "outputs": [],
   "source": [
    "import sys\n",
    "import os\n",
    "import re\n",
    "import gzip\n",
    "import pathlib\n",
    "import dhash\n",
    "import pandas as pd\n",
    "import shutil\n",
    "\n",
    "from tqdm import trange, tqdm\n",
    "\n",
    "from PIL import Image\n",
    "from pillow_heif import register_heif_opener\n",
    "\n",
    "import time\n",
    "import datetime\n",
    "\n",
    "import signal"
   ]
  },
  {
   "cell_type": "code",
   "execution_count": 10,
   "metadata": {},
   "outputs": [],
   "source": [
    "extension_image_l = [\".heic\", \".jpg\", \".jpeg\", \".png\"]; extension_image_l += [s.upper() for s in extension_image_l]\n",
    "extension_video_l = [\".mov\", \".mp4\", \".mpg\"];  extension_video_l += [s.upper() for s in extension_video_l]\n",
    "\n",
    "timelimit_seconds = 10 \n",
    "\n",
    "## Functions\n",
    "\n",
    "# Custom exception for the timeout\n",
    "# https://stackoverflow.com/questions/51712256/how-to-skip-to-the-next-input-if-time-is-out-in-python\n",
    "class TimeoutException(Exception):\n",
    "    pass\n",
    "\n",
    "# Handler function to be called when SIGALRM is received\n",
    "def sigalrm_handler(signum, frame):\n",
    "    # We get signal!\n",
    "    raise TimeoutException()\n",
    "\n",
    "def media_typeid(fn):\n",
    "    image = 0; video = 0\n",
    "    for extension in extension_image_l:\n",
    "        if fn.endswith(extension):\n",
    "            return \"image\"\n",
    "    if image == 0:\n",
    "        for extension in extension_video_l:\n",
    "            if fn.endswith(extension):\n",
    "                return \"video\"\n",
    "    return \"unknown\"  \n",
    "\n",
    "\n",
    "# - identify file creation date (file or exif data)\n",
    "\n",
    "def file_creationdate(fn):\n",
    "    fname = pathlib.Path(fn)\n",
    "    mtime = datetime.datetime.fromtimestamp(fname.stat().st_mtime)\n",
    "    return [str(mtime.year), str(mtime.month).zfill(2)]\n",
    "    \n",
    "def file_datepatternid(fn):\n",
    "    \n",
    "    pattern1 = re.compile(r\"^20\\d{6}_[a-zA-Z0-9_ ]*\\.jp(e)?g$\")\n",
    "    pattern2 = re.compile(r\"^20\\d{2}-\\d{2}-\\d{2} [a-zA-Z0-9-() ]*.jp(e)?g$\")\n",
    "    pattern3 = re.compile(r\"^IMG-20\\d{6}-[a-zA-Z0-9_ ]*\\.jp(e)?g$\")\n",
    "    pattern4 = re.compile(r\"^IMG_20\\d{6}_[a-zA-Z0-9_ ]*\\.jp(e)?g$\")\n",
    "    \n",
    "    if pattern1.match(fn):\n",
    "        year = fn[:4]\n",
    "        mo   = fn[4:6]\n",
    "        #print(\"! datepattern found -\", fn)\n",
    "        return [year, mo, fn]\n",
    "    elif pattern2.match(fn):\n",
    "        year = fn.split(\"-\")[0]\n",
    "        mo   = fn.split(\"-\")[1]\n",
    "        #print(\"! datepattern found -\", fn)\n",
    "        return [year, mo, fn]\n",
    "    elif pattern3.match(fn) or pattern4.match(fn):\n",
    "        year = fn[4:8]\n",
    "        mo = fn[8:10]\n",
    "        #print(\"! datepattern found -\", fn)\n",
    "        return [year, mo, fn]\n",
    "    return [\"\", \"\", fn]\n",
    "\n",
    "def image_creationdate(fn):\n",
    "    \"\"\"\n",
    "    Returns year and month based on either\n",
    "      1) file name\n",
    "      2) exif\n",
    "      3) creation date \n",
    "    \"\"\"\n",
    "    \n",
    "    # - attempt to get date from filename\n",
    "    creationdate = file_datepatternid(os.path.basename(fn))\n",
    "    if creationdate[0] != \"\":\n",
    "        return [\"filename\"]+creationdate[:-1]\n",
    "    \n",
    "    # - try to extract exif\n",
    "    try:    \n",
    "        exif = Image.open(fn)._getexif()\n",
    "        if exif is None:\n",
    "            return [\"creationdate\"]+file_creationdate(fn) \n",
    "        elif 36867 in exif:\n",
    "            yearmo_candidate = exif[36867].split()[0].split(\":\")[:2]\n",
    "            if yearmo_candidate[0] != \"\": return [\"exif\"] + yearmo_candidate\n",
    "        return [\"creationdate\"]+file_creationdate(fn) \n",
    "    except:\n",
    "        return [\"creationdate\"]+file_creationdate(fn) \n",
    "\n",
    "def video_creationdate(fn):\n",
    "    \"\"\"\n",
    "    Returns year and month based on either\n",
    "      1) file name\n",
    "      2) creation date \n",
    "    \"\"\"\n",
    "    \n",
    "    # - attempt to get date from filename\n",
    "    creationdate = file_datepatternid(os.path.basename(fn))\n",
    "    if creationdate[0] != -1:\n",
    "        return [\"filename\"]+creationdate[:-1]\n",
    "    else:\n",
    "        return [\"creationdate\"]+file_creationdate(fn)\n",
    "\n",
    "def media_info(media_fn):\n",
    "    \n",
    "    mediatype = media_typeid(media_fn)\n",
    "\n",
    "    if mediatype==\"image\":\n",
    "\n",
    "        image = Image.open(media_fn)\n",
    "        try:\n",
    "            image_hash = str(dhash.dhash_int(image, size=8))\n",
    "        except:\n",
    "            image_hash = \"FAILED\"\n",
    "            \n",
    "        image_filesize = os.path.getsize(media_fn)\n",
    "        image_date = image_creationdate(media_fn) \n",
    "\n",
    "        return( \n",
    "            {\n",
    "                \"folder\": os.path.dirname(media_fn),\n",
    "                \"basename\": os.path.basename(media_fn),\n",
    "                \"type\": \"image\",\n",
    "                \"dhash8\": image_hash,\n",
    "                \"filesize\": image_filesize,\n",
    "                \"datecreation_source\": image_date[0],\n",
    "                \"datecreation_year\":   image_date[1],\n",
    "                \"datecreation_month\":  image_date[2],\n",
    "                })\n",
    "\n",
    "    elif mediatype==\"video\":\n",
    "\n",
    "        video_filesize = os.path.getsize(media_fn)\n",
    "        video_date = video_creationdate(media_fn) \n",
    "\n",
    "        return(\n",
    "            {\n",
    "                \"folder\": os.path.dirname(media_fn),\n",
    "                \"basename\": os.path.basename(media_fn),\n",
    "                \"type\": \"video\",\n",
    "                \"dhash8\": \"\",\n",
    "                \"filesize\": video_filesize,\n",
    "                \"datecreation_source\": video_date[0],\n",
    "                \"datecreation_year\":   video_date[1],\n",
    "                \"datecreation_month\":  video_date[2],\n",
    "                })\n",
    "\n",
    "    else:\n",
    "        \n",
    "        return(\n",
    "            {\n",
    "                \"folder\": os.path.dirname(media_fn),\n",
    "                \"basename\": os.path.basename(media_fn),\n",
    "                \"type\": \"other\",\n",
    "                \"dhash8\": \"\",\n",
    "                \"filesize\": 0,\n",
    "                \"datecreation_source\": \"NA\",\n",
    "                \"datecreation_year\":   \"0000\",\n",
    "                \"datecreation_month\":  \"00\",\n",
    "                })\n",
    "\n",
    "\n",
    "def media_createdb_backup012023(mediafolder_in, skipfolder=[\"Corbeille\"]):\n",
    "    \"\"\"\n",
    "    - mediafolder_in      folder where source media are located\n",
    "    \"\"\"    \n",
    "\n",
    "    ## List media and get info\n",
    "    media_info_d = {}\n",
    "    \n",
    "    for root, subdirs, files in os.walk(mediafolder_in):\n",
    "        \n",
    "        print(\">\", root)\n",
    "        # -  if folder contains skipfolder, skip\n",
    "        for _ in skipfolder:\n",
    "            if _ in root: continue\n",
    "        \n",
    "        # - collect media data\n",
    "        for filename in files:\n",
    "            \n",
    "            # - if filename begins with ., skip\n",
    "            if filename.startswith(\".\"): continue\n",
    "\n",
    "            # - create complete path from root and filename\n",
    "            fn = os.path.join(root, filename)\n",
    "            \n",
    "            # - collect info\n",
    "            info = media_info(fn)\n",
    "            \n",
    "            media_info_d[fn] = info\n",
    "            \n",
    "    return media_info_d\n",
    "\n",
    "\n",
    "def media2backupscript(mediafolder_in, imagefolder_out, videofolder_out, script_fn, escape_space=1, force=0):\n",
    "    \"\"\"\n",
    "    - mediafolder_in      folder where source media are located\n",
    "    - imagefolder_out     folder where backup images are stored\n",
    "    - videofolder_out     folder where backup videos are stored\n",
    "    \"\"\"\n",
    "    \n",
    "    ## List media already stored\n",
    "    imagefolder_map_s = set(mediafolder_map(\"/Users/matthieupichaud/pCloud Drive/Photos/\").keys())\n",
    "    videofolder_map_s = set(mediafolder_map(\"/Users/matthieupichaud/pCloud Drive/Videos/\").keys())\n",
    "    \n",
    "    ## List media\n",
    "    with open(script_fn, \"wt\") as fo:\n",
    "        print(\"set +e\", file=fo)\n",
    "        for root, subdirs, files in os.walk(mediafolder_in):\n",
    "            for filename in files:\n",
    "\n",
    "                if not force:\n",
    "                    if filename in imagefolder_map_s or filename in videofolder_map_s: continue\n",
    "                \n",
    "                # Set up signal handler for SIGALRM, saving previous value\n",
    "                old_handler = signal.signal(signal.SIGALRM, sigalrm_handler)\n",
    "                # Start timer\n",
    "                signal.alarm(timelimit_seconds)\n",
    "\n",
    "                try:\n",
    "\n",
    "                        fn = os.path.join(root, filename)\n",
    "\n",
    "                        # identify media type\n",
    "                        mediatype = media_typeid(fn)   \n",
    "\n",
    "                        if mediatype==\"image\":\n",
    "                            creationdate = image_creationdate(fn)[1:]\n",
    "                            target_folder = os.path.join(imagefolder_out, creationdate[0], creationdate[1])\n",
    "                            if escape_space: fn_ = fn.replace(\"(\", \"\\(\").replace(\")\", \"\\)\") #.replace(' ', '\\ ')\n",
    "                            else: fn_ = fn\n",
    "                            if \"'\" not in fn_: print(f\"mkdir -p '{target_folder}'; rsync -a -v --ignore-existing '{fn_}' '{target_folder}/'\", file=fo)                \n",
    "                            else:              print(f'mkdir -p \"{target_folder}\"; rsync -a -v --ignore-existing \"{fn_}\" \"{target_folder}/\"', file=fo)  \n",
    "\n",
    "                        if mediatype==\"video\":\n",
    "                            fndt = datetime.datetime.fromtimestamp(os.path.getmtime(fn))\n",
    "                            creationdate = video_creationdate(fn)[1:]\n",
    "                            target_folder = os.path.join(videofolder_out, creationdate[0], creationdate[1])\n",
    "                            if escape_space: fn_ = fn.replace(\"(\", \"\\(\").replace(\")\", \"\\)\") #.replace(' ', '\\ ')\n",
    "                            else: fn_ = fn\n",
    "                            if \"'\" not in fn_: print(f\"mkdir -p '{target_folder}'; rsync -a -v --ignore-existing '{fn_}' '{target_folder}/'\", file=fo)  \n",
    "                            else:              print(f'mkdir -p \"{target_folder}\"; rsync -a -v --ignore-existing \"{fn_}\" \"{target_folder}/\"', file=fo)  \n",
    "\n",
    "                except TimeoutException:\n",
    "                    print(f\"#!!! Could not read {fn}\")\n",
    "\n",
    "                finally:\n",
    "                    # Turn off timer\n",
    "                    signal.alarm(0)\n",
    "                    # Restore handler to previous value\n",
    "                    signal.signal(signal.SIGALRM, old_handler)\n",
    "    \n",
    "    return 1\n",
    "\n",
    "\n",
    "## ====================================================================================\n",
    "##   HEIC files\n",
    "##   - helps convert HEIC files in jpeg\n",
    "## ====================================================================================\n",
    "\n",
    "def heic2jpg(fn):\n",
    "\n",
    "    # - convert heic to jpg\n",
    "    print(f\"# Convert heic file to jpg - {fn}\")\n",
    "    basename, ext = os.path.splitext(fn)\n",
    "    register_heif_opener()\n",
    "    image = Image.open(fn)\n",
    "    exif = image.info['exif']\n",
    "    image.save(basename+\".converted.jpg\", \"JPEG\", exif=exif)\n",
    "    fn = basename+\".converted.jpg\"\n",
    "        \n",
    "    return fn\n",
    "\n",
    "def mediafolder_heicconvert(media_folder):\n",
    "    for root, subdirs, files in os.walk(media_folder):\n",
    "        for filename in files:\n",
    "            basename, ext =  os.path.splitext(filename)\n",
    "            if ext.lower()==\".heig\" or ext.lower()==\".heic\":\n",
    "                fn = os.path.join(root, filename)\n",
    "                try:\n",
    "                    heic2jpg(fn)\n",
    "                except:\n",
    "                    print(\"# could not convert\", fn)\n",
    "                \n",
    "    return 1\n"
   ]
  },
  {
   "cell_type": "markdown",
   "metadata": {},
   "source": [
    "# Media info database"
   ]
  },
  {
   "cell_type": "markdown",
   "metadata": {},
   "source": [
    "## Functions"
   ]
  },
  {
   "cell_type": "code",
   "execution_count": 3,
   "metadata": {
    "tags": []
   },
   "outputs": [],
   "source": [
    "## ================================================================================\n",
    "##    media db\n",
    "## ================================================================================\n",
    "\n",
    "def media_todb_old(media_folder, skipfolder=[\"Corbeille\"], media_info_d={}, outputtype=\"dict\"):\n",
    "    \"\"\"\n",
    "    Input\n",
    "    - media_folder      folder where source media are located\n",
    "    \n",
    "    Output\n",
    "    - DataFrame         pandas dataframe that contains information about each media file\n",
    "    \"\"\"    \n",
    "\n",
    "    print(\"media_todb\")\n",
    "    \n",
    "    # - get basename from media_info_d\n",
    "    basename_original_l = media_info_df[\"basename\"].to_list()\n",
    "    \n",
    "    # - list media and get info\n",
    "    for root, subdirs, files in os.walk(media_folder):\n",
    "        \n",
    "        print(\">\", root)\n",
    "        # -  if folder contains skipfolder, skip\n",
    "        for _ in skipfolder:\n",
    "            if _ in root: continue\n",
    "        \n",
    "        # - files --> complete path\n",
    "        fn_l = [os.path.join(root, basename) for basename in files if basename not in basename_original_l]\n",
    "        \n",
    "        # - collect media data\n",
    "        media_info_d = media_filelist2infodict(fn_l, media_info_d)\n",
    "        \n",
    "    if outputtype==\"dict\":\n",
    "        return media_info_d\n",
    "    \n",
    "    elif outputtype==\"dataframe\":\n",
    "        # - create dataframe\n",
    "        return pd.DataFrame\\\n",
    "                    .from_dict(media_info_d, orient='index')\\\n",
    "                    .reset_index().drop(columns=[\"index\"])\\\n",
    "                    .sort_values([\"dhash8\", \"basename\", \"folder\"])\n",
    "    else:\n",
    "        return 0\n",
    "\n",
    "\n",
    "def media_filelist2infodict(fn_l, media_info_d = {}):\n",
    "\n",
    "    # - collect media data\n",
    "    for ifn in trange(len(fn_l)): \n",
    "\n",
    "        fn = fn_l[ifn]\n",
    "\n",
    "        # - if filename begins with ., skip\n",
    "        if fn.startswith(\".\"): continue\n",
    "        if fn.endswith(\".tsv\") or fn.endswith(\".tsv.gz\"): continue\n",
    "\n",
    "        # - collect info\n",
    "        try:\n",
    "            media_info_d[fn] = media_info(fn)\n",
    "        except:\n",
    "            print(f\"# problem with {fn}\")\n",
    "        \n",
    "    # - create dataframe\n",
    "    return media_info_d\n",
    "\n",
    "\n",
    "\n",
    "## ================================================================================\n",
    "##    dhash8\n",
    "## ================================================================================\n",
    "\n",
    "def mediadb_imagecompare(mediadb_df, bitdiff_target=10):\n",
    "    \n",
    "    # - filter images\n",
    "    mediadb_df = mediadb_df[mediadb_df[\"type\"]==\"image\"]\n",
    "    \n",
    "    # - extract hash8 data\n",
    "    dhash8_d = mediadb_df[[\"basename\", \"dhash8\"]]\\\n",
    "               .set_index(\"basename\")\\\n",
    "               .to_dict()[\"dhash8\"]\n",
    "\n",
    "    k_l = list(dhash8_d.keys())\n",
    "    \n",
    "    # - compare\n",
    "    bitdiff_l = []\n",
    "    \n",
    "    for ik1 in range(len(k_l)-1):\n",
    "        dh1 = dhash8_d[k_l[ik1]]\n",
    "        if dh1==\"FAILED\": continue\n",
    "        h1 = int(dh1)\n",
    "        \n",
    "        for ik2 in range((ik1+1), len(k_l)):\n",
    "            dh2 = dhash8_d[k_l[ik2]]\n",
    "            if dh2==\"FAILED\": continue\n",
    "            h2 = int(dh2)\n",
    "\n",
    "            bitdiff = dhash.get_num_bits_different(h1, h2)\n",
    "            if bitdiff <= bitdiff_target:\n",
    "                bitdiff_l.append([\n",
    "                    min([k_l[ik1], k_l[ik2]]),\n",
    "                    max([k_l[ik1], k_l[ik2]]),\n",
    "                    bitdiff]\n",
    "                )\n",
    "    \n",
    "    return bitdiff_l\n",
    "\n",
    "def mediafolder_map_old(media_folder):\n",
    "    \n",
    "    ## - list media files\n",
    "    fn_l = []\n",
    "    for root, subdirs, files in os.walk(media_folder):\n",
    "        fn_l = fn_l + [os.path.join(root, filename) \n",
    "                for filename in files\n",
    "                if media_typeid(os.path.join(root, filename)) in [\"image\", \"video\"]]\n",
    "    print(len(fn_l))\n",
    "    \n",
    "    ## - map media files\n",
    "    map_d = {os.path.basename(fn):fn for fn in fn_l}\n",
    "    \n",
    "    return map_d   \n",
    "\n",
    "def media_todb(media_folder, skipfolder=[\"Corbeille\"], media_info_d={}, outputtype=\"dict\"):\n",
    "    \"\"\"\n",
    "    Input\n",
    "    - media_folder      folder where source media are located\n",
    "    \n",
    "    Output\n",
    "    - DataFrame         pandas dataframe that contains information about each media file\n",
    "    \"\"\"    \n",
    "\n",
    "    # - get basename from media_info_d\n",
    "    basename_original_s = {v[\"basename\"] for v in media_info_d.values()}\n",
    "    print(\"# N_entries_existing:\", len(basename_original_s))\n",
    "    #basename_original_l = media_info_df[\"basename\"].to_list()\n",
    "    \n",
    "    # - list media and get info\n",
    "    for root, subdirs, files in os.walk(media_folder):\n",
    "        \n",
    "        print(\">\", root)\n",
    "        # -  if folder contains skipfolder, skip\n",
    "        for _ in skipfolder:\n",
    "            if _ in root: continue\n",
    "        \n",
    "        # - files --> complete path\n",
    "        \n",
    "        basename_all_s = set(files)\n",
    "        print(\"# N_files:\", len(basename_original_s))\n",
    "        fn_l = [os.path.join(root, basename) for basename in (basename_all_s - basename_original_s)]\n",
    "        print(\"# N_entries_tocompute:\", len(fn_l))\n",
    "        # - collect media data\n",
    "        media_info_d = media_filelist2infodict(fn_l, media_info_d)\n",
    "        \n",
    "    if outputtype==\"dict\":\n",
    "        return media_info_d\n",
    "    \n",
    "    elif outputtype==\"dataframe\":\n",
    "        # - create dataframe\n",
    "        return pd.DataFrame\\\n",
    "                    .from_dict(media_info_d, orient='index')\\\n",
    "                    .reset_index().drop(columns=[\"index\"])\\\n",
    "                    .sort_values([\"dhash8\", \"basename\", \"folder\"])\n",
    "    else:\n",
    "        return 0\n",
    "\n",
    "def mediafolder_map(media_folder):\n",
    "    \n",
    "    ## - list media files\n",
    "    fn_l = []\n",
    "    for root, subdirs, files in os.walk(media_folder):\n",
    "        fn_l = fn_l + [os.path.join(root, filename) \n",
    "                for filename in files\n",
    "                if media_typeid(os.path.join(root, filename)) in [\"image\", \"video\"]]\n",
    "    print(len(fn_l))\n",
    "    \n",
    "    ## - map media files\n",
    "    map_d = {os.path.basename(fn):fn for fn in fn_l}\n",
    "    \n",
    "    return map_d      \n",
    "\n",
    "## ================================================================================\n",
    "##    file stuffs\n",
    "## ================================================================================\n",
    "\n",
    "def gz_Nlines(input_fn):\n",
    "    with gzip.open(input_fn, \"r\") as fi:\n",
    "        for iline, line in enumerate(fi): pass\n",
    "    return iline\n",
    "\n",
    "def folder_Nmedia(input_folder):\n",
    "    Nmedia_d = {}\n",
    "    for root, subdirs, files in os.walk(input_folder):\n",
    "        for filename in files:\n",
    "            try:\n",
    "                fn = os.path.join(root, filename)\n",
    "                # identify media type\n",
    "                mediatype = media_typeid(fn)   \n",
    "                Nmedia_d[mediatype] = Nmedia_d.get(mediatype, 0) + 1\n",
    "            except TimeoutException:\n",
    "                print(f\"#!!! Could not read {fn}\")\n",
    "    return Nmedia_d\n",
    "\n",
    "def folder_flatten_old(folder):\n",
    "    all_files = []\n",
    "    first_loop_pass = True\n",
    "    for root, _dirs, files in os.walk(folder):\n",
    "        if first_loop_pass:\n",
    "            first_loop_pass = False\n",
    "            continue\n",
    "        for filename in files:\n",
    "            all_files.append(os.path.join(root, filename))\n",
    "    for filename in all_files:\n",
    "        shutil.move(filename, folder)\n",
    "    return 1\n",
    "\n",
    "def folder_flatten(folder, script_fn, prefix=[]):\n",
    "    # - create script\n",
    "    with open(script_fn, \"wt\") as fo:\n",
    "        \n",
    "        files_tomove_l = []\n",
    "        folder_torm_l = []\n",
    "        \n",
    "        first_loop_pass = True\n",
    "        for root, _dirs, files in os.walk(folder):\n",
    "            prefix_flag=0\n",
    "            if first_loop_pass:\n",
    "                first_loop_pass = False\n",
    "                continue\n",
    "            \n",
    "            # - test if folder contains prefix\n",
    "            if len(prefix)==0: prefix_flag=1\n",
    "            else:\n",
    "                rootbase=os.path.basename(root)\n",
    "                for _ in prefix:\n",
    "                    if rootbase.startswith(_):\n",
    "                        prefix_flag=1\n",
    "                        pass\n",
    "            # - list files that need to be moved\n",
    "            if prefix_flag:\n",
    "                for filename in files:\n",
    "                    files_tomove_l.append(os.path.join(root, filename))\n",
    "                folder_torm_l.append(root)\n",
    "                \n",
    "        # - create script to move files\n",
    "        for filename in files_tomove_l:\n",
    "            print(f\"mv '{filename}' '{folder}/'\", file=fo)\n",
    "        for folder in folder_torm_l:\n",
    "            print(f\"rm -d '{folder}'\", file=fo)\n",
    "            \n",
    "    return script_fn\n",
    "\n",
    "def folder_listfiles(folder):\n",
    "    return [os.path.join(dp, f) for dp, dn, filenames in os.walk(folder) for f in filenames]\n",
    "\n",
    "def folder_listnumericsubfolder(folder):\n",
    "    return [o for o in os.listdir(folder) \n",
    "                    if os.path.isdir(os.path.join(folder,o)) and o.isdigit()]"
   ]
  },
  {
   "cell_type": "markdown",
   "metadata": {},
   "source": [
    "## Initialize media info db from structured media repository"
   ]
  },
  {
   "cell_type": "code",
   "execution_count": null,
   "metadata": {
    "tags": []
   },
   "outputs": [],
   "source": [
    "media_repo = \"/Users/matthieupichaud/pCloud Drive/Photos/\"\n",
    "\n",
    "# - create media db\n",
    "for year in [\"2022\"]: #[\"0000\"] + [str(_) for _ in range(2000, 2022)]:\n",
    "    #for month in [\"00\", \"01\", \"02\", \"03\", \"04\", \"05\", \"06\", \"07\", \"08\", \"09\", \"10\", \"11\", \"12\"]:\n",
    "    for month in [\"07\", \"08\", \"09\", \"10\", \"11\", \"12\"]:\n",
    "        folder_candidate = os.path.join(f\"{media_repo}/{year}/{month}\")\n",
    "        mediainfodb_candidate = os.path.join(\n",
    "                                    folder_candidate,\n",
    "                                    f\"media_info_{year}{month}.tsv.gz\")\n",
    "        flag_compte = 0\n",
    "        if not os.path.exists(folder_candidate):  continue\n",
    "        if os.path.exists(mediainfodb_candidate):\n",
    "            Nlines  = gz_Nlines(mediainfodb_candidate)\n",
    "            Nimages = folder_Nmedia(folder_candidate)[\"image\"]\n",
    "            Ncoverage = Nlines/Nimages\n",
    "            ratio = (Nlines/Nimages)\n",
    "            if 0: #ratio >= .95:\n",
    "                print(f\"# {mediainfodb_candidate} found (Nimages: {Nimages}, ratio:{ratio}) - skip.\");\n",
    "                continue\n",
    "            else:\n",
    "                print(f\"# {mediainfodb_candidate} found (Nimages: {Nimages}, ratio:{ratio}) - compute again.\");\n",
    "                \n",
    "        media_info_df = media_todb(folder_candidate, outputtype=\"dataframe\")\n",
    "        media_info_df.to_csv(\n",
    "                            mediainfodb_candidate,\n",
    "                            sep=\"\\t\", index=False)"
   ]
  },
  {
   "cell_type": "markdown",
   "metadata": {},
   "source": [
    "## Reset image folders\n",
    "To copy images and remove imagecluster folders in media folders  \n",
    "==> flattens image folder structure"
   ]
  },
  {
   "cell_type": "code",
   "execution_count": null,
   "metadata": {},
   "outputs": [],
   "source": [
    "media_repo = \"/Users/matthieupichaud/pCloud Drive/Photos/\""
   ]
  },
  {
   "cell_type": "code",
   "execution_count": null,
   "metadata": {},
   "outputs": [],
   "source": [
    "for year in folder_listnumericsubfolder(media_repo):\n",
    "    for month in folder_listnumericsubfolder(os.path.join(media_repo, year)):\n",
    "        \n",
    "        media_folder = os.path.join(media_repo, year, month)\n",
    "        # - flatten folder\n",
    "        folder_flatten(media_folder, \"flatten.sh\", prefix=[\"imagecluster_\"])\n",
    "        !bash flatten.sh\n",
    "        print(\"# - folder flattened\", media_folder)\n",
    "        break\n",
    "    break"
   ]
  },
  {
   "cell_type": "code",
   "execution_count": null,
   "metadata": {},
   "outputs": [],
   "source": [
    "!pwd"
   ]
  },
  {
   "cell_type": "markdown",
   "metadata": {},
   "source": [
    "## Reset media info db"
   ]
  },
  {
   "cell_type": "code",
   "execution_count": null,
   "metadata": {},
   "outputs": [],
   "source": [
    "media_repo = \"/Users/matthieupichaud/pCloud Drive/Photos/\"\n",
    "year=\"2022\"\n",
    "month=\"11\""
   ]
  },
  {
   "cell_type": "code",
   "execution_count": null,
   "metadata": {},
   "outputs": [],
   "source": [
    "folder_candidate = os.path.join(f\"{media_repo}/{year}/{month}\")\n",
    "mediainfodb_candidate = os.path.join(\n",
    "                            folder_candidate,\n",
    "                            f\"media_info_{year}{month}.tsv.gz\")\n",
    "\n",
    "if os.path.exists(folder_candidate):\n",
    "    \n",
    "    Nimages = folder_Nmedia(folder_candidate)[\"image\"]\n",
    "    print(f\"# {mediainfodb_candidate} found (Nimages: {Nimages}) - compute.\");\n",
    "\n",
    "    media_info_df = media_todb(folder_candidate, media_info_d={}, outputtype=\"dataframe\")\n",
    "    media_info_df.to_csv(\n",
    "                        mediainfodb_candidate,\n",
    "                        sep=\"\\t\", index=False)"
   ]
  },
  {
   "cell_type": "code",
   "execution_count": null,
   "metadata": {},
   "outputs": [],
   "source": [
    "    media_info_df.to_csv(\n",
    "                        mediainfodb_candidate.replace(\".gz\", \"\"),\n",
    "                        sep=\"\\t\", index=False)"
   ]
  },
  {
   "cell_type": "markdown",
   "metadata": {},
   "source": [
    "## >>> Create and run backup script"
   ]
  },
  {
   "cell_type": "code",
   "execution_count": 4,
   "metadata": {},
   "outputs": [],
   "source": [
    "# - arguments\n",
    "media_repo      = \"/Users/matthieupichaud/Work/202104_photoautosort/tmp/\"\n",
    "imagefolder_out = \"/Users/matthieupichaud/pCloud Drive/Photos\"\n",
    "videofolder_out = \"/Users/matthieupichaud/pCloud Drive/Videos\""
   ]
  },
  {
   "cell_type": "code",
   "execution_count": 5,
   "metadata": {},
   "outputs": [
    {
     "data": {
      "text/plain": [
       "1"
      ]
     },
     "execution_count": 5,
     "metadata": {},
     "output_type": "execute_result"
    }
   ],
   "source": [
    "# - convert and copy HEIC\n",
    "mediafolder_heicconvert(media_repo)"
   ]
  },
  {
   "cell_type": "code",
   "execution_count": 11,
   "metadata": {},
   "outputs": [
    {
     "name": "stdout",
     "output_type": "stream",
     "text": [
      "94354\n",
      "7758\n"
     ]
    },
    {
     "data": {
      "text/plain": [
       "1"
      ]
     },
     "execution_count": 11,
     "metadata": {},
     "output_type": "execute_result"
    }
   ],
   "source": [
    "# - create backup script\n",
    "media2backupscript(media_repo, imagefolder_out, videofolder_out, \"backup.sh\", escape_space=0, force=1)"
   ]
  },
  {
   "cell_type": "code",
   "execution_count": 9,
   "metadata": {},
   "outputs": [
    {
     "name": "stdout",
     "output_type": "stream",
     "text": [
      "/Users/matthieupichaud/Work/202104_photoautosort\n"
     ]
    }
   ],
   "source": [
    "!pwd"
   ]
  },
  {
   "cell_type": "code",
   "execution_count": null,
   "metadata": {},
   "outputs": [],
   "source": [
    "# - run script\n",
    "!bash backup.sh > /dev/null"
   ]
  },
  {
   "cell_type": "code",
   "execution_count": null,
   "metadata": {},
   "outputs": [],
   "source": [
    "query_map_d = mediafolder_map(media_repo)\n",
    "imagefolder_map_d = mediafolder_map(imagefolder_out)\n",
    "videofolder_map_d = mediafolder_map(videofolder_out)\n",
    "\n",
    "set(query_map_d.keys()) - set(imagefolder_map_d.keys()) - set(videofolder_map_d.keys()) "
   ]
  },
  {
   "cell_type": "markdown",
   "metadata": {},
   "source": [
    "## >>> Update media db"
   ]
  },
  {
   "cell_type": "code",
   "execution_count": 14,
   "metadata": {
    "tags": []
   },
   "outputs": [
    {
     "name": "stdout",
     "output_type": "stream",
     "text": [
      "====================================================================================================\n",
      "/Users/matthieupichaud/pCloud Drive/Photos/2018/03\n",
      "384\n",
      "# - file mapping created\n",
      "# - mediainfo collected\n",
      "# - missing media from media info: set()\n",
      "# N_entries_existing: 378\n",
      "> /Users/matthieupichaud/pCloud Drive/Photos/2018/03\n",
      "# N_files: 378\n",
      "# N_entries_tocompute: 7\n"
     ]
    },
    {
     "name": "stderr",
     "output_type": "stream",
     "text": [
      "100%|██████████████████████████████████████████████████████████████████████████████████████████████████████████████████████████████████████████████████████████████████████████████████████████████████████| 7/7 [00:01<00:00,  3.56it/s]"
     ]
    },
    {
     "name": "stdout",
     "output_type": "stream",
     "text": [
      "# - mediainfodb dataframe updated\n",
      "# - images compared\n",
      "# - cluster initialized\n",
      "# - clusters identified\n"
     ]
    },
    {
     "name": "stderr",
     "output_type": "stream",
     "text": [
      "\n"
     ]
    },
    {
     "name": "stdout",
     "output_type": "stream",
     "text": [
      "# - file mapping updated\n",
      "0 ['20180324_124832.jpg', 'IMG-20180324-WA0005.jpg']\n",
      "2 ['20180304_134028.jpg', 'IMG-20180304-WA0000.jpg']\n",
      "7 ['20180313_073158.jpg', 'IMG-20180313-WA0001.jpg']\n",
      "9 ['20180313_090131.jpg', 'IMG-20180313-WA0002.jpg']\n",
      "37 ['20180321_133616.jpg', 'IMG-20180321-WA0005.jpg']\n",
      "40 ['20180321_162044.jpg', 'IMG-20180321-WA0006.jpg']\n",
      "72 ['20180323_114115.jpg', '20180323_114116.jpg']\n",
      "87 ['20180324_151811.jpg', 'IMG-20180324-WA0008.jpg']\n",
      "226 ['20180323_105801_001.jpg', 'IMG-20180323-WA0000.jpg', 'IMG-20180325-WA0002.jpg', 'IMG-20180325-WA0003.jpg', 'IMG-20180325-WA0004.jpg']\n",
      "288 ['DSC05144.JPG', 'DSC05144.jpg']\n",
      "290 ['DSC05147.JPG', 'DSC05148.JPG', 'DSC05147.jpg']\n",
      "292 ['DSC05152.JPG', 'DSC05152.jpg']\n",
      "293 ['DSC05153.JPG', 'DSC05153.jpg']\n",
      "294 ['DSC05154.JPG', 'DSC05154.jpg']\n",
      "295 ['DSC05159.JPG', 'DSC05159.jpg']\n",
      "321 ['IMG-20180324-WA0001.jpg', 'IMG-20180325-WA0001.jpg']\n",
      "345 ['IMG-20180313-WA0011.jpg', 'IMG-20180313-WA0012.jpg']\n",
      "382 ['20180308_152138.jpg', 'IMG-20180308-WA0006.jpg']\n",
      "# - cluster folders created\n",
      "# - mediainfodb dataframe written to file\n",
      "====================================================================================================\n",
      "/Users/matthieupichaud/pCloud Drive/Photos/2018/07\n",
      "401\n",
      "# - file mapping created\n",
      "# - mediainfo collected\n",
      "# - missing media from media info: set()\n",
      "# N_entries_existing: 318\n",
      "> /Users/matthieupichaud/pCloud Drive/Photos/2018/07\n",
      "# N_files: 318\n",
      "# N_entries_tocompute: 45\n"
     ]
    },
    {
     "name": "stderr",
     "output_type": "stream",
     "text": [
      "100%|████████████████████████████████████████████████████████████████████████████████████████████████████████████████████████████████████████████████████████████████████████████████████████████████████| 45/45 [00:24<00:00,  1.83it/s]\n"
     ]
    },
    {
     "name": "stdout",
     "output_type": "stream",
     "text": [
      "> /Users/matthieupichaud/pCloud Drive/Photos/2018/07/imagecluster_0\n",
      "# N_files: 318\n",
      "# N_entries_tocompute: 0\n"
     ]
    },
    {
     "name": "stderr",
     "output_type": "stream",
     "text": [
      "0it [00:00, ?it/s]\n"
     ]
    },
    {
     "name": "stdout",
     "output_type": "stream",
     "text": [
      "> /Users/matthieupichaud/pCloud Drive/Photos/2018/07/imagecluster_1\n",
      "# N_files: 318\n",
      "# N_entries_tocompute: 0\n"
     ]
    },
    {
     "name": "stderr",
     "output_type": "stream",
     "text": [
      "0it [00:00, ?it/s]\n"
     ]
    },
    {
     "name": "stdout",
     "output_type": "stream",
     "text": [
      "> /Users/matthieupichaud/pCloud Drive/Photos/2018/07/imagecluster_2\n",
      "# N_files: 318\n",
      "# N_entries_tocompute: 0\n"
     ]
    },
    {
     "name": "stderr",
     "output_type": "stream",
     "text": [
      "0it [00:00, ?it/s]\n"
     ]
    },
    {
     "name": "stdout",
     "output_type": "stream",
     "text": [
      "> /Users/matthieupichaud/pCloud Drive/Photos/2018/07/imagecluster_3\n",
      "# N_files: 318\n",
      "# N_entries_tocompute: 0\n"
     ]
    },
    {
     "name": "stderr",
     "output_type": "stream",
     "text": [
      "0it [00:00, ?it/s]\n"
     ]
    },
    {
     "name": "stdout",
     "output_type": "stream",
     "text": [
      "> /Users/matthieupichaud/pCloud Drive/Photos/2018/07/imagecluster_4\n",
      "# N_files: 318\n",
      "# N_entries_tocompute: 0\n"
     ]
    },
    {
     "name": "stderr",
     "output_type": "stream",
     "text": [
      "0it [00:00, ?it/s]\n"
     ]
    },
    {
     "name": "stdout",
     "output_type": "stream",
     "text": [
      "> /Users/matthieupichaud/pCloud Drive/Photos/2018/07/imagecluster_5\n",
      "# N_files: 318\n",
      "# N_entries_tocompute: 0\n"
     ]
    },
    {
     "name": "stderr",
     "output_type": "stream",
     "text": [
      "0it [00:00, ?it/s]\n"
     ]
    },
    {
     "name": "stdout",
     "output_type": "stream",
     "text": [
      "> /Users/matthieupichaud/pCloud Drive/Photos/2018/07/imagecluster_6\n",
      "# N_files: 318\n",
      "# N_entries_tocompute: 0\n"
     ]
    },
    {
     "name": "stderr",
     "output_type": "stream",
     "text": [
      "0it [00:00, ?it/s]\n"
     ]
    },
    {
     "name": "stdout",
     "output_type": "stream",
     "text": [
      "> /Users/matthieupichaud/pCloud Drive/Photos/2018/07/imagecluster_7\n",
      "# N_files: 318\n",
      "# N_entries_tocompute: 0\n"
     ]
    },
    {
     "name": "stderr",
     "output_type": "stream",
     "text": [
      "0it [00:00, ?it/s]\n"
     ]
    },
    {
     "name": "stdout",
     "output_type": "stream",
     "text": [
      "> /Users/matthieupichaud/pCloud Drive/Photos/2018/07/imagecluster_8\n",
      "# N_files: 318\n",
      "# N_entries_tocompute: 0\n"
     ]
    },
    {
     "name": "stderr",
     "output_type": "stream",
     "text": [
      "0it [00:00, ?it/s]\n"
     ]
    },
    {
     "name": "stdout",
     "output_type": "stream",
     "text": [
      "> /Users/matthieupichaud/pCloud Drive/Photos/2018/07/imagecluster_9\n",
      "# N_files: 318\n",
      "# N_entries_tocompute: 0\n"
     ]
    },
    {
     "name": "stderr",
     "output_type": "stream",
     "text": [
      "0it [00:00, ?it/s]\n"
     ]
    },
    {
     "name": "stdout",
     "output_type": "stream",
     "text": [
      "> /Users/matthieupichaud/pCloud Drive/Photos/2018/07/imagecluster_10\n",
      "# N_files: 318\n",
      "# N_entries_tocompute: 0\n"
     ]
    },
    {
     "name": "stderr",
     "output_type": "stream",
     "text": [
      "0it [00:00, ?it/s]\n"
     ]
    },
    {
     "name": "stdout",
     "output_type": "stream",
     "text": [
      "> /Users/matthieupichaud/pCloud Drive/Photos/2018/07/imagecluster_11\n",
      "# N_files: 318\n",
      "# N_entries_tocompute: 0\n"
     ]
    },
    {
     "name": "stderr",
     "output_type": "stream",
     "text": [
      "0it [00:00, ?it/s]\n"
     ]
    },
    {
     "name": "stdout",
     "output_type": "stream",
     "text": [
      "> /Users/matthieupichaud/pCloud Drive/Photos/2018/07/imagecluster_12\n",
      "# N_files: 318\n",
      "# N_entries_tocompute: 0\n"
     ]
    },
    {
     "name": "stderr",
     "output_type": "stream",
     "text": [
      "0it [00:00, ?it/s]\n"
     ]
    },
    {
     "name": "stdout",
     "output_type": "stream",
     "text": [
      "> /Users/matthieupichaud/pCloud Drive/Photos/2018/07/imagecluster_13\n",
      "# N_files: 318\n",
      "# N_entries_tocompute: 0\n"
     ]
    },
    {
     "name": "stderr",
     "output_type": "stream",
     "text": [
      "0it [00:00, ?it/s]\n"
     ]
    },
    {
     "name": "stdout",
     "output_type": "stream",
     "text": [
      "> /Users/matthieupichaud/pCloud Drive/Photos/2018/07/imagecluster_14\n",
      "# N_files: 318\n",
      "# N_entries_tocompute: 0\n"
     ]
    },
    {
     "name": "stderr",
     "output_type": "stream",
     "text": [
      "0it [00:00, ?it/s]\n"
     ]
    },
    {
     "name": "stdout",
     "output_type": "stream",
     "text": [
      "> /Users/matthieupichaud/pCloud Drive/Photos/2018/07/imagecluster_15\n",
      "# N_files: 318\n",
      "# N_entries_tocompute: 0\n"
     ]
    },
    {
     "name": "stderr",
     "output_type": "stream",
     "text": [
      "0it [00:00, ?it/s]\n"
     ]
    },
    {
     "name": "stdout",
     "output_type": "stream",
     "text": [
      "> /Users/matthieupichaud/pCloud Drive/Photos/2018/07/imagecluster_16\n",
      "# N_files: 318\n",
      "# N_entries_tocompute: 0\n"
     ]
    },
    {
     "name": "stderr",
     "output_type": "stream",
     "text": [
      "0it [00:00, ?it/s]\n"
     ]
    },
    {
     "name": "stdout",
     "output_type": "stream",
     "text": [
      "> /Users/matthieupichaud/pCloud Drive/Photos/2018/07/imagecluster_17\n",
      "# N_files: 318\n",
      "# N_entries_tocompute: 0\n"
     ]
    },
    {
     "name": "stderr",
     "output_type": "stream",
     "text": [
      "0it [00:00, ?it/s]\n"
     ]
    },
    {
     "name": "stdout",
     "output_type": "stream",
     "text": [
      "> /Users/matthieupichaud/pCloud Drive/Photos/2018/07/imagecluster_18\n",
      "# N_files: 318\n",
      "# N_entries_tocompute: 0\n"
     ]
    },
    {
     "name": "stderr",
     "output_type": "stream",
     "text": [
      "0it [00:00, ?it/s]"
     ]
    },
    {
     "name": "stdout",
     "output_type": "stream",
     "text": [
      ">"
     ]
    },
    {
     "name": "stderr",
     "output_type": "stream",
     "text": [
      "\n"
     ]
    },
    {
     "name": "stdout",
     "output_type": "stream",
     "text": [
      " /Users/matthieupichaud/pCloud Drive/Photos/2018/07/imagecluster_19\n",
      "# N_files: 318\n",
      "# N_entries_tocompute: 0\n"
     ]
    },
    {
     "name": "stderr",
     "output_type": "stream",
     "text": [
      "0it [00:00, ?it/s]\n"
     ]
    },
    {
     "name": "stdout",
     "output_type": "stream",
     "text": [
      "# - mediainfodb dataframe updated\n",
      "# - images compared\n",
      "# - cluster initialized\n",
      "# - clusters identified\n",
      "# - file mapping updated\n",
      "276 ['IMG-20180704-WA0002.jpg', 'IMG-20180704-WA0006.jpg', 'IMG-20180705-WA0000.jpg']\n",
      "289 ['20180711_194738.jpg', '20180711_194740(0).jpg', '20180711_194740.jpg']\n",
      "290 ['20180713_130802.jpg', '20180713_130800.jpg', '20180713_130803.jpg', 'IMG-20180714-WA0000.jpg']\n",
      "293 ['20180715_141604.jpg', '20180715_141605.jpg']\n",
      "297 ['20180716_184913_002.jpg', '20180716_184913_001.jpg', '20180716_184913_003.jpg', '20180716_184913_004.jpg']\n",
      "299 ['20180717_125723.jpg', 'IMG-20180731-WA0002.jpg']\n",
      "300 ['20180708_170135_001.jpg', '20180708_170135_002.jpg']\n",
      "302 ['20180720_102633.jpg', '20180720_102635.jpg']\n",
      "304 ['20180719_095522.jpg', '20180719_095525.jpg']\n",
      "306 ['20180731_114743.jpg', '20180731_114744.jpg', 'IMG-20180731-WA0013.jpg']\n",
      "308 ['20180721_092650.jpg', '20180728_074102.jpg', '20180728_074134.jpg']\n",
      "327 ['20180702_151526_001.jpg', '20180702_151526_002.jpg', '20180702_151526_004.jpg', '20180702_151526_005.jpg', '20180702_151526_003.jpg', '20180702_151526_006.jpg']\n",
      "329 ['20180701_163750.jpg', 'IMG-20180701-WA0003.jpg']\n",
      "345 ['20180702_151526_007.jpg', '20180702_151526_008.jpg', '20180702_151526_009.jpg', '20180702_151526_010.jpg', '20180702_151526_011.jpg', '20180702_151526_012.jpg', '20180702_151526_013.jpg', '20180702_151526_015.jpg', '20180702_151526_016.jpg', '20180702_151526_014.jpg']\n",
      "348 ['20180704_125621.jpg', '20180704_125623(0).jpg', '20180704_125623.jpg']\n",
      "352 ['20180717_122449.jpg', 'IMG-20180731-WA0001.jpg']\n",
      "353 ['20180719_111008.jpg', 'IMG-20180731-WA0003.jpg']\n",
      "354 ['20180719_112404.jpg', 'IMG-20180731-WA0005.jpg']\n",
      "355 ['20180721_202127.jpg', 'IMG-20180731-WA0000.jpg']\n",
      "356 ['20180729_140218.jpg', 'IMG-20180731-WA0006.jpg']\n",
      "357 ['20180729_132257.jpg', 'IMG-20180729-WA0002.jpg']\n",
      "358 ['20180731_121326.jpg', 'IMG-20180731-WA0014.jpg']\n",
      "359 ['20180731_145401.jpg', 'IMG-20180731-WA0011.jpg', 'IMG-20180731-WA0012.jpg']\n",
      "360 ['20180730_143545.jpg', 'IMG-20180730-WA0000.jpg']\n",
      "# - cluster folders created\n",
      "# - mediainfodb dataframe written to file\n",
      "====================================================================================================\n",
      "/Users/matthieupichaud/pCloud Drive/Photos/2018/12\n",
      "421\n",
      "# - file mapping created\n",
      "# - mediainfo collected\n",
      "# - missing media from media info: set()\n",
      "# N_entries_existing: 346\n",
      "> /Users/matthieupichaud/pCloud Drive/Photos/2018/12\n",
      "# N_files: 346\n",
      "# N_entries_tocompute: 22\n"
     ]
    },
    {
     "name": "stderr",
     "output_type": "stream",
     "text": [
      "100%|████████████████████████████████████████████████████████████████████████████████████████████████████████████████████████████████████████████████████████████████████████████████████████████████████| 22/22 [00:11<00:00,  1.87it/s]\n"
     ]
    },
    {
     "name": "stdout",
     "output_type": "stream",
     "text": [
      "> /Users/matthieupichaud/pCloud Drive/Photos/2018/12/imagecluster_0\n",
      "# N_files: 346\n",
      "# N_entries_tocompute: 0\n"
     ]
    },
    {
     "name": "stderr",
     "output_type": "stream",
     "text": [
      "0it [00:00, ?it/s]\n"
     ]
    },
    {
     "name": "stdout",
     "output_type": "stream",
     "text": [
      "> /Users/matthieupichaud/pCloud Drive/Photos/2018/12/imagecluster_1\n",
      "# N_files: 346\n",
      "# N_entries_tocompute: 0\n"
     ]
    },
    {
     "name": "stderr",
     "output_type": "stream",
     "text": [
      "0it [00:00, ?it/s]\n"
     ]
    },
    {
     "name": "stdout",
     "output_type": "stream",
     "text": [
      "> /Users/matthieupichaud/pCloud Drive/Photos/2018/12/imagecluster_2\n",
      "# N_files: 346\n",
      "# N_entries_tocompute: 0\n"
     ]
    },
    {
     "name": "stderr",
     "output_type": "stream",
     "text": [
      "0it [00:00, ?it/s]\n"
     ]
    },
    {
     "name": "stdout",
     "output_type": "stream",
     "text": [
      "> /Users/matthieupichaud/pCloud Drive/Photos/2018/12/imagecluster_3\n",
      "# N_files: 346\n",
      "# N_entries_tocompute: 0\n"
     ]
    },
    {
     "name": "stderr",
     "output_type": "stream",
     "text": [
      "0it [00:00, ?it/s]\n"
     ]
    },
    {
     "name": "stdout",
     "output_type": "stream",
     "text": [
      "> /Users/matthieupichaud/pCloud Drive/Photos/2018/12/imagecluster_4\n",
      "# N_files: 346\n",
      "# N_entries_tocompute: 0\n"
     ]
    },
    {
     "name": "stderr",
     "output_type": "stream",
     "text": [
      "0it [00:00, ?it/s]\n"
     ]
    },
    {
     "name": "stdout",
     "output_type": "stream",
     "text": [
      "> /Users/matthieupichaud/pCloud Drive/Photos/2018/12/imagecluster_5\n",
      "# N_files: 346\n",
      "# N_entries_tocompute: 0\n"
     ]
    },
    {
     "name": "stderr",
     "output_type": "stream",
     "text": [
      "0it [00:00, ?it/s]\n"
     ]
    },
    {
     "name": "stdout",
     "output_type": "stream",
     "text": [
      "> /Users/matthieupichaud/pCloud Drive/Photos/2018/12/imagecluster_6\n",
      "# N_files: 346\n",
      "# N_entries_tocompute: 0\n"
     ]
    },
    {
     "name": "stderr",
     "output_type": "stream",
     "text": [
      "0it [00:00, ?it/s]\n"
     ]
    },
    {
     "name": "stdout",
     "output_type": "stream",
     "text": [
      "> /Users/matthieupichaud/pCloud Drive/Photos/2018/12/imagecluster_7\n",
      "# N_files: 346\n",
      "# N_entries_tocompute: 0\n"
     ]
    },
    {
     "name": "stderr",
     "output_type": "stream",
     "text": [
      "0it [00:00, ?it/s]\n"
     ]
    },
    {
     "name": "stdout",
     "output_type": "stream",
     "text": [
      "> /Users/matthieupichaud/pCloud Drive/Photos/2018/12/imagecluster_8\n",
      "# N_files: 346\n",
      "# N_entries_tocompute: 0\n"
     ]
    },
    {
     "name": "stderr",
     "output_type": "stream",
     "text": [
      "0it [00:00, ?it/s]\n"
     ]
    },
    {
     "name": "stdout",
     "output_type": "stream",
     "text": [
      "> /Users/matthieupichaud/pCloud Drive/Photos/2018/12/imagecluster_9\n",
      "# N_files: 346\n",
      "# N_entries_tocompute: 0\n"
     ]
    },
    {
     "name": "stderr",
     "output_type": "stream",
     "text": [
      "0it [00:00, ?it/s]\n"
     ]
    },
    {
     "name": "stdout",
     "output_type": "stream",
     "text": [
      "> /Users/matthieupichaud/pCloud Drive/Photos/2018/12/imagecluster_10\n",
      "# N_files: 346\n",
      "# N_entries_tocompute: 0\n"
     ]
    },
    {
     "name": "stderr",
     "output_type": "stream",
     "text": [
      "0it [00:00, ?it/s]\n"
     ]
    },
    {
     "name": "stdout",
     "output_type": "stream",
     "text": [
      "> /Users/matthieupichaud/pCloud Drive/Photos/2018/12/imagecluster_11\n",
      "# N_files: 346\n",
      "# N_entries_tocompute: 0\n"
     ]
    },
    {
     "name": "stderr",
     "output_type": "stream",
     "text": [
      "0it [00:00, ?it/s]\n"
     ]
    },
    {
     "name": "stdout",
     "output_type": "stream",
     "text": [
      "> /Users/matthieupichaud/pCloud Drive/Photos/2018/12/imagecluster_12\n",
      "# N_files: 346\n",
      "# N_entries_tocompute: 0\n"
     ]
    },
    {
     "name": "stderr",
     "output_type": "stream",
     "text": [
      "0it [00:00, ?it/s]\n"
     ]
    },
    {
     "name": "stdout",
     "output_type": "stream",
     "text": [
      "> /Users/matthieupichaud/pCloud Drive/Photos/2018/12/imagecluster_13\n",
      "# N_files: 346\n",
      "# N_entries_tocompute: 0\n"
     ]
    },
    {
     "name": "stderr",
     "output_type": "stream",
     "text": [
      "0it [00:00, ?it/s]\n"
     ]
    },
    {
     "name": "stdout",
     "output_type": "stream",
     "text": [
      "> /Users/matthieupichaud/pCloud Drive/Photos/2018/12/imagecluster_14\n",
      "# N_files: 346\n",
      "# N_entries_tocompute: 0\n"
     ]
    },
    {
     "name": "stderr",
     "output_type": "stream",
     "text": [
      "0it [00:00, ?it/s]\n"
     ]
    },
    {
     "name": "stdout",
     "output_type": "stream",
     "text": [
      "> /Users/matthieupichaud/pCloud Drive/Photos/2018/12/imagecluster_15\n",
      "# N_files: 346\n",
      "# N_entries_tocompute: 0\n"
     ]
    },
    {
     "name": "stderr",
     "output_type": "stream",
     "text": [
      "0it [00:00, ?it/s]\n"
     ]
    },
    {
     "name": "stdout",
     "output_type": "stream",
     "text": [
      "> /Users/matthieupichaud/pCloud Drive/Photos/2018/12/imagecluster_16\n",
      "# N_files: 346\n",
      "# N_entries_tocompute: 0\n"
     ]
    },
    {
     "name": "stderr",
     "output_type": "stream",
     "text": [
      "0it [00:00, ?it/s]\n"
     ]
    },
    {
     "name": "stdout",
     "output_type": "stream",
     "text": [
      "> /Users/matthieupichaud/pCloud Drive/Photos/2018/12/imagecluster_17\n",
      "# N_files: 346\n",
      "# N_entries_tocompute: 0\n"
     ]
    },
    {
     "name": "stderr",
     "output_type": "stream",
     "text": [
      "0it [00:00, ?it/s]\n"
     ]
    },
    {
     "name": "stdout",
     "output_type": "stream",
     "text": [
      "> /Users/matthieupichaud/pCloud Drive/Photos/2018/12/imagecluster_18\n",
      "# N_files: 346\n",
      "# N_entries_tocompute: 0\n"
     ]
    },
    {
     "name": "stderr",
     "output_type": "stream",
     "text": [
      "0it [00:00, ?it/s]\n"
     ]
    },
    {
     "name": "stdout",
     "output_type": "stream",
     "text": [
      "> /Users/matthieupichaud/pCloud Drive/Photos/2018/12/imagecluster_19\n",
      "# N_files: 346\n",
      "# N_entries_tocompute: 0\n"
     ]
    },
    {
     "name": "stderr",
     "output_type": "stream",
     "text": [
      "0it [00:00, ?it/s]\n"
     ]
    },
    {
     "name": "stdout",
     "output_type": "stream",
     "text": [
      "> /Users/matthieupichaud/pCloud Drive/Photos/2018/12/imagecluster_20\n",
      "# N_files: 346\n",
      "# N_entries_tocompute: 0\n"
     ]
    },
    {
     "name": "stderr",
     "output_type": "stream",
     "text": [
      "0it [00:00, ?it/s]\n"
     ]
    },
    {
     "name": "stdout",
     "output_type": "stream",
     "text": [
      "> /Users/matthieupichaud/pCloud Drive/Photos/2018/12/imagecluster_21\n",
      "# N_files: 346\n",
      "# N_entries_tocompute: 0\n"
     ]
    },
    {
     "name": "stderr",
     "output_type": "stream",
     "text": [
      "0it [00:00, ?it/s]\n"
     ]
    },
    {
     "name": "stdout",
     "output_type": "stream",
     "text": [
      "> /Users/matthieupichaud/pCloud Drive/Photos/2018/12/imagecluster_22\n",
      "# N_files: 346\n",
      "# N_entries_tocompute: 0\n"
     ]
    },
    {
     "name": "stderr",
     "output_type": "stream",
     "text": [
      "0it [00:00, ?it/s]\n"
     ]
    },
    {
     "name": "stdout",
     "output_type": "stream",
     "text": [
      "> /Users/matthieupichaud/pCloud Drive/Photos/2018/12/imagecluster_23\n",
      "# N_files: 346\n",
      "# N_entries_tocompute: 0\n"
     ]
    },
    {
     "name": "stderr",
     "output_type": "stream",
     "text": [
      "0it [00:00, ?it/s]\n"
     ]
    },
    {
     "name": "stdout",
     "output_type": "stream",
     "text": [
      "> /Users/matthieupichaud/pCloud Drive/Photos/2018/12/imagecluster_24\n",
      "# N_files: 346\n",
      "# N_entries_tocompute: 0\n"
     ]
    },
    {
     "name": "stderr",
     "output_type": "stream",
     "text": [
      "0it [00:00, ?it/s]\n"
     ]
    },
    {
     "name": "stdout",
     "output_type": "stream",
     "text": [
      "> /Users/matthieupichaud/pCloud Drive/Photos/2018/12/imagecluster_25\n",
      "# N_files: 346\n",
      "# N_entries_tocompute: 0\n"
     ]
    },
    {
     "name": "stderr",
     "output_type": "stream",
     "text": [
      "0it [00:00, ?it/s]\n"
     ]
    },
    {
     "name": "stdout",
     "output_type": "stream",
     "text": [
      "> /Users/matthieupichaud/pCloud Drive/Photos/2018/12/imagecluster_26\n",
      "# N_files: 346\n",
      "# N_entries_tocompute: 0\n"
     ]
    },
    {
     "name": "stderr",
     "output_type": "stream",
     "text": [
      "0it [00:00, ?it/s]\n"
     ]
    },
    {
     "name": "stdout",
     "output_type": "stream",
     "text": [
      "> /Users/matthieupichaud/pCloud Drive/Photos/2018/12/imagecluster_27\n",
      "# N_files: 346\n",
      "# N_entries_tocompute: 0\n"
     ]
    },
    {
     "name": "stderr",
     "output_type": "stream",
     "text": [
      "0it [00:00, ?it/s]\n"
     ]
    },
    {
     "name": "stdout",
     "output_type": "stream",
     "text": [
      "> /Users/matthieupichaud/pCloud Drive/Photos/2018/12/imagecluster_28\n",
      "# N_files: 346\n",
      "# N_entries_tocompute: 0\n"
     ]
    },
    {
     "name": "stderr",
     "output_type": "stream",
     "text": [
      "0it [00:00, ?it/s]\n"
     ]
    },
    {
     "name": "stdout",
     "output_type": "stream",
     "text": [
      "> /Users/matthieupichaud/pCloud Drive/Photos/2018/12/imagecluster_29\n",
      "# N_files: 346\n",
      "# N_entries_tocompute: 0\n"
     ]
    },
    {
     "name": "stderr",
     "output_type": "stream",
     "text": [
      "0it [00:00, ?it/s]\n"
     ]
    },
    {
     "name": "stdout",
     "output_type": "stream",
     "text": [
      "> /Users/matthieupichaud/pCloud Drive/Photos/2018/12/imagecluster_30\n",
      "# N_files: 346\n",
      "# N_entries_tocompute: 0\n"
     ]
    },
    {
     "name": "stderr",
     "output_type": "stream",
     "text": [
      "0it [00:00, ?it/s]\n"
     ]
    },
    {
     "name": "stdout",
     "output_type": "stream",
     "text": [
      "> /Users/matthieupichaud/pCloud Drive/Photos/2018/12/imagecluster_31\n",
      "# N_files: 346\n",
      "# N_entries_tocompute: 0\n"
     ]
    },
    {
     "name": "stderr",
     "output_type": "stream",
     "text": [
      "0it [00:00, ?it/s]\n"
     ]
    },
    {
     "name": "stdout",
     "output_type": "stream",
     "text": [
      "> /Users/matthieupichaud/pCloud Drive/Photos/2018/12/imagecluster_32\n",
      "# N_files: 346\n",
      "# N_entries_tocompute: 0\n"
     ]
    },
    {
     "name": "stderr",
     "output_type": "stream",
     "text": [
      "0it [00:00, ?it/s]\n"
     ]
    },
    {
     "name": "stdout",
     "output_type": "stream",
     "text": [
      "> /Users/matthieupichaud/pCloud Drive/Photos/2018/12/imagecluster_33\n",
      "# N_files: 346\n",
      "# N_entries_tocompute: 0\n"
     ]
    },
    {
     "name": "stderr",
     "output_type": "stream",
     "text": [
      "0it [00:00, ?it/s]\n"
     ]
    },
    {
     "name": "stdout",
     "output_type": "stream",
     "text": [
      "> /Users/matthieupichaud/pCloud Drive/Photos/2018/12/imagecluster_34\n",
      "# N_files: 346\n",
      "# N_entries_tocompute: 0\n"
     ]
    },
    {
     "name": "stderr",
     "output_type": "stream",
     "text": [
      "0it [00:00, ?it/s]\n"
     ]
    },
    {
     "name": "stdout",
     "output_type": "stream",
     "text": [
      "> /Users/matthieupichaud/pCloud Drive/Photos/2018/12/imagecluster_35\n",
      "# N_files: 346\n",
      "# N_entries_tocompute: 0\n"
     ]
    },
    {
     "name": "stderr",
     "output_type": "stream",
     "text": [
      "0it [00:00, ?it/s]\n"
     ]
    },
    {
     "name": "stdout",
     "output_type": "stream",
     "text": [
      "> /Users/matthieupichaud/pCloud Drive/Photos/2018/12/imagecluster_36\n",
      "# N_files: 346\n",
      "# N_entries_tocompute: 0\n"
     ]
    },
    {
     "name": "stderr",
     "output_type": "stream",
     "text": [
      "0it [00:00, ?it/s]"
     ]
    },
    {
     "name": "stdout",
     "output_type": "stream",
     "text": [
      "# - mediainfodb dataframe updated"
     ]
    },
    {
     "name": "stderr",
     "output_type": "stream",
     "text": [
      "\n"
     ]
    },
    {
     "name": "stdout",
     "output_type": "stream",
     "text": [
      "\n",
      "# - images compared\n",
      "# - cluster initialized\n",
      "# - clusters identified\n",
      "# - file mapping updated\n",
      "306 ['20181225_083629.jpg', '20181225_083633.jpg']\n",
      "308 ['20181225_104233.jpg', 'IMG-20181225-WA0008.jpg']\n",
      "309 ['20181225_170849.jpg', 'IMG-20181225-WA0023.jpg']\n",
      "310 ['20181202_113540.jpg', 'IMG-20181202-WA0001.jpg']\n",
      "311 ['20181230_090538.jpg', 'IMG-20181230-WA0000.jpg']\n",
      "312 ['20181223_123408.jpg', 'IMG-20181223-WA0007.jpg']\n",
      "313 ['20181223_104935.jpg', 'IMG-20181223-WA0005.jpg']\n",
      "314 ['20181224_192529.jpg', '20181224_192531.jpg', 'IMG-20181225-WA0014.jpg']\n",
      "316 ['20181210_063437.jpg', '20181210_063441.jpg']\n",
      "318 ['20181212_142929.jpg', '20181212_142931.jpg']\n",
      "320 ['20181206_155103.jpg', '20181206_155105.jpg']\n",
      "322 ['20181225_182954.jpg', 'IMG-20181225-WA0020.jpg']\n",
      "323 ['20181223_112624.jpg', '20181223_112625.jpg', 'IMG-20181223-WA0006.jpg']\n",
      "325 ['20181224_123514.jpg', 'IMG-20181224-WA0003.jpg']\n",
      "326 ['20181223_105148.jpg', 'IMG-20181223-WA0004.jpg']\n",
      "332 ['IMG_2644.converted.jpg', 'IMG_2644.jpg']\n",
      "345 ['20181225_083620.jpg', 'IMG-20181225-WA0006.jpg']\n",
      "346 ['20181225_094803.jpg', 'IMG-20181225-WA0004.jpg']\n",
      "347 ['20181225_110635.jpg', 'IMG-20181225-WA0009.jpg']\n",
      "348 ['20181225_174041.jpg', 'IMG-20181225-WA0022.jpg']\n",
      "349 ['20181228_083546.jpg', 'IMG-20181228-WA0000.jpg']\n",
      "350 ['20181212_172729.jpg', 'IMG-20181212-WA0000.jpg']\n",
      "351 ['20181225_170845.jpg', 'IMG-20181225-WA0021.jpg']\n",
      "352 ['20181227_172716.jpg', 'IMG-20181228-WA0002.jpg']\n",
      "353 ['20181202_063944.jpg', 'IMG-20181202-WA0000.jpg']\n",
      "354 ['20181210_062840.jpg', 'IMG-20181210-WA0001.jpg']\n",
      "355 ['20181204_130655.jpg', 'IMG-20181204-WA0000.jpg']\n",
      "356 ['20181225_182904.jpg', 'IMG-20181225-WA0019.jpg']\n",
      "357 ['20181231_095933.jpg', 'IMG-20181231-WA0001.jpg']\n",
      "358 ['20181224_165843.jpg', 'IMG-20181225-WA0011.jpg']\n",
      "359 ['20181223_105321.jpg', 'IMG-20181223-WA0009.jpg']\n",
      "360 ['20181219_150313.jpg', 'IMG-20181219-WA0002.jpg']\n",
      "361 ['20181223_164505.jpg', 'IMG-20181223-WA0010.jpg']\n",
      "362 ['20181231_090923.jpg', 'IMG-20181231-WA0000.jpg']\n",
      "363 ['20181219_150317.jpg', 'IMG-20181219-WA0001.jpg']\n",
      "364 ['20181219_155131.jpg', 'IMG-20181219-WA0000.jpg']\n",
      "365 ['20181224_180755.jpg', 'IMG-20181225-WA0012.jpg']\n",
      "366 ['20181227_160157.jpg', 'IMG-20181228-WA0001.jpg']\n",
      "# - cluster folders created\n",
      "# - mediainfodb dataframe written to file\n",
      "====================================================================================================\n",
      "/Users/matthieupichaud/pCloud Drive/Photos/2018/06\n",
      "314\n",
      "# - file mapping created\n",
      "# - mediainfo collected\n",
      "# - missing media from media info: set()\n",
      "# N_entries_existing: 286\n",
      "> /Users/matthieupichaud/pCloud Drive/Photos/2018/06\n",
      "# N_files: 286\n",
      "# N_entries_tocompute: 16\n"
     ]
    },
    {
     "name": "stderr",
     "output_type": "stream",
     "text": [
      "100%|████████████████████████████████████████████████████████████████████████████████████████████████████████████████████████████████████████████████████████████████████████████████████████████████████| 16/16 [00:09<00:00,  1.76it/s]\n"
     ]
    },
    {
     "name": "stdout",
     "output_type": "stream",
     "text": [
      "> /Users/matthieupichaud/pCloud Drive/Photos/2018/06/imagecluster_0\n",
      "# N_files: 286\n",
      "# N_entries_tocompute: 0\n"
     ]
    },
    {
     "name": "stderr",
     "output_type": "stream",
     "text": [
      "0it [00:00, ?it/s]\n"
     ]
    },
    {
     "name": "stdout",
     "output_type": "stream",
     "text": [
      "> /Users/matthieupichaud/pCloud Drive/Photos/2018/06/imagecluster_1\n",
      "# N_files: 286\n",
      "# N_entries_tocompute: 0\n"
     ]
    },
    {
     "name": "stderr",
     "output_type": "stream",
     "text": [
      "0it [00:00, ?it/s]\n"
     ]
    },
    {
     "name": "stdout",
     "output_type": "stream",
     "text": [
      "> /Users/matthieupichaud/pCloud Drive/Photos/2018/06/imagecluster_2\n",
      "# N_files: 286\n",
      "# N_entries_tocompute: 0\n"
     ]
    },
    {
     "name": "stderr",
     "output_type": "stream",
     "text": [
      "0it [00:00, ?it/s]\n"
     ]
    },
    {
     "name": "stdout",
     "output_type": "stream",
     "text": [
      "> /Users/matthieupichaud/pCloud Drive/Photos/2018/06/imagecluster_3\n",
      "# N_files: 286\n",
      "# N_entries_tocompute: 0\n"
     ]
    },
    {
     "name": "stderr",
     "output_type": "stream",
     "text": [
      "0it [00:00, ?it/s]\n"
     ]
    },
    {
     "name": "stdout",
     "output_type": "stream",
     "text": [
      "> /Users/matthieupichaud/pCloud Drive/Photos/2018/06/imagecluster_4\n",
      "# N_files: 286\n",
      "# N_entries_tocompute: 0\n"
     ]
    },
    {
     "name": "stderr",
     "output_type": "stream",
     "text": [
      "0it [00:00, ?it/s]\n"
     ]
    },
    {
     "name": "stdout",
     "output_type": "stream",
     "text": [
      "> /Users/matthieupichaud/pCloud Drive/Photos/2018/06/imagecluster_5\n",
      "# N_files: 286\n",
      "# N_entries_tocompute: 0\n"
     ]
    },
    {
     "name": "stderr",
     "output_type": "stream",
     "text": [
      "0it [00:00, ?it/s]\n"
     ]
    },
    {
     "name": "stdout",
     "output_type": "stream",
     "text": [
      "> /Users/matthieupichaud/pCloud Drive/Photos/2018/06/imagecluster_6\n",
      "# N_files: 286\n",
      "# N_entries_tocompute: 0\n"
     ]
    },
    {
     "name": "stderr",
     "output_type": "stream",
     "text": [
      "0it [00:00, ?it/s]\n"
     ]
    },
    {
     "name": "stdout",
     "output_type": "stream",
     "text": [
      "# - mediainfodb dataframe updated\n",
      "# - images compared\n",
      "# - cluster initialized\n",
      "# - clusters identified\n",
      "# - file mapping updated\n",
      "270 ['IMG-20180626-WA0000.jpg', 'IMG-20180626-WA0004.jpg']\n",
      "278 ['20180626_071413.jpg', '20180626_071414.jpg', '20180626_071416.jpg']\n",
      "281 ['20180620_164215_001.jpg', 'IMG-20180620-WA0002.jpg']\n",
      "282 ['20180606_112424.jpg', 'IMG-20180606-WA0000.jpg']\n",
      "297 ['20180608_211737.jpg', 'IMG-20180609-WA0005.jpg', 'IMG-20180610-WA0000.jpg', 'IMG-20180616-WA0002.jpg']\n",
      "298 ['20180617_170952.jpg', 'IMG-20180617-WA0004.jpg']\n",
      "299 ['20180620_163920_006.jpg', 'IMG-20180620-WA0001.jpg']\n",
      "300 ['2018.6.6 600.JPG', 'IMG-20180606-WA0009.jpg']\n",
      "# - cluster folders created\n",
      "# - mediainfodb dataframe written to file\n",
      "====================================================================================================\n",
      "/Users/matthieupichaud/pCloud Drive/Photos/2018/01\n",
      "232\n",
      "# - file mapping created\n",
      "# - mediainfo collected\n",
      "# - missing media from media info: {'20180111_124411.jpg'}\n",
      "# N_entries_existing: 141\n",
      "> /Users/matthieupichaud/pCloud Drive/Photos/2018/01\n",
      "# N_files: 141\n",
      "# N_entries_tocompute: 66\n"
     ]
    },
    {
     "name": "stderr",
     "output_type": "stream",
     "text": [
      "100%|████████████████████████████████████████████████████████████████████████████████████████████████████████████████████████████████████████████████████████████████████████████████████████████████████| 66/66 [00:40<00:00,  1.61it/s]\n"
     ]
    },
    {
     "name": "stdout",
     "output_type": "stream",
     "text": [
      "> /Users/matthieupichaud/pCloud Drive/Photos/2018/01/imagecluster_0\n",
      "# N_files: 141\n",
      "# N_entries_tocompute: 0\n"
     ]
    },
    {
     "name": "stderr",
     "output_type": "stream",
     "text": [
      "0it [00:00, ?it/s]\n"
     ]
    },
    {
     "name": "stdout",
     "output_type": "stream",
     "text": [
      "> /Users/matthieupichaud/pCloud Drive/Photos/2018/01/imagecluster_1\n",
      "# N_files: 141\n",
      "# N_entries_tocompute: 0\n"
     ]
    },
    {
     "name": "stderr",
     "output_type": "stream",
     "text": [
      "0it [00:00, ?it/s]\n"
     ]
    },
    {
     "name": "stdout",
     "output_type": "stream",
     "text": [
      "> /Users/matthieupichaud/pCloud Drive/Photos/2018/01/imagecluster_2\n",
      "# N_files: 141\n",
      "# N_entries_tocompute: 0\n"
     ]
    },
    {
     "name": "stderr",
     "output_type": "stream",
     "text": [
      "0it [00:00, ?it/s]\n"
     ]
    },
    {
     "name": "stdout",
     "output_type": "stream",
     "text": [
      "> /Users/matthieupichaud/pCloud Drive/Photos/2018/01/imagecluster_3\n",
      "# N_files: 141\n",
      "# N_entries_tocompute: 0\n"
     ]
    },
    {
     "name": "stderr",
     "output_type": "stream",
     "text": [
      "0it [00:00, ?it/s]\n"
     ]
    },
    {
     "name": "stdout",
     "output_type": "stream",
     "text": [
      "> /Users/matthieupichaud/pCloud Drive/Photos/2018/01/imagecluster_4\n",
      "# N_files: 141\n",
      "# N_entries_tocompute: 0\n"
     ]
    },
    {
     "name": "stderr",
     "output_type": "stream",
     "text": [
      "0it [00:00, ?it/s]\n"
     ]
    },
    {
     "name": "stdout",
     "output_type": "stream",
     "text": [
      "> /Users/matthieupichaud/pCloud Drive/Photos/2018/01/imagecluster_5\n",
      "# N_files: 141\n",
      "# N_entries_tocompute: 0\n"
     ]
    },
    {
     "name": "stderr",
     "output_type": "stream",
     "text": [
      "0it [00:00, ?it/s]\n"
     ]
    },
    {
     "name": "stdout",
     "output_type": "stream",
     "text": [
      "> /Users/matthieupichaud/pCloud Drive/Photos/2018/01/imagecluster_6\n",
      "# N_files: 141\n",
      "# N_entries_tocompute: 0\n"
     ]
    },
    {
     "name": "stderr",
     "output_type": "stream",
     "text": [
      "0it [00:00, ?it/s]\n"
     ]
    },
    {
     "name": "stdout",
     "output_type": "stream",
     "text": [
      "> /Users/matthieupichaud/pCloud Drive/Photos/2018/01/imagecluster_7\n",
      "# N_files: 141\n",
      "# N_entries_tocompute: 0\n"
     ]
    },
    {
     "name": "stderr",
     "output_type": "stream",
     "text": [
      "0it [00:00, ?it/s]\n"
     ]
    },
    {
     "name": "stdout",
     "output_type": "stream",
     "text": [
      "> /Users/matthieupichaud/pCloud Drive/Photos/2018/01/imagecluster_8\n",
      "# N_files: 141\n",
      "# N_entries_tocompute: 0\n"
     ]
    },
    {
     "name": "stderr",
     "output_type": "stream",
     "text": [
      "0it [00:00, ?it/s]\n"
     ]
    },
    {
     "name": "stdout",
     "output_type": "stream",
     "text": [
      "> /Users/matthieupichaud/pCloud Drive/Photos/2018/01/imagecluster_9\n",
      "# N_files: 141\n",
      "# N_entries_tocompute: 0\n"
     ]
    },
    {
     "name": "stderr",
     "output_type": "stream",
     "text": [
      "0it [00:00, ?it/s]\n"
     ]
    },
    {
     "name": "stdout",
     "output_type": "stream",
     "text": [
      "> /Users/matthieupichaud/pCloud Drive/Photos/2018/01/imagecluster_10\n",
      "# N_files: 141\n",
      "# N_entries_tocompute: 0\n"
     ]
    },
    {
     "name": "stderr",
     "output_type": "stream",
     "text": [
      "0it [00:00, ?it/s]\n"
     ]
    },
    {
     "name": "stdout",
     "output_type": "stream",
     "text": [
      "> /Users/matthieupichaud/pCloud Drive/Photos/2018/01/imagecluster_11\n",
      "# N_files: 141\n",
      "# N_entries_tocompute: 0\n"
     ]
    },
    {
     "name": "stderr",
     "output_type": "stream",
     "text": [
      "0it [00:00, ?it/s]\n"
     ]
    },
    {
     "name": "stdout",
     "output_type": "stream",
     "text": [
      "> /Users/matthieupichaud/pCloud Drive/Photos/2018/01/imagecluster_12\n",
      "# N_files: 141\n",
      "# N_entries_tocompute: 0\n"
     ]
    },
    {
     "name": "stderr",
     "output_type": "stream",
     "text": [
      "0it [00:00, ?it/s]\n"
     ]
    },
    {
     "name": "stdout",
     "output_type": "stream",
     "text": [
      "> /Users/matthieupichaud/pCloud Drive/Photos/2018/01/imagecluster_13\n",
      "# N_files: 141\n",
      "# N_entries_tocompute: 0\n"
     ]
    },
    {
     "name": "stderr",
     "output_type": "stream",
     "text": [
      "0it [00:00, ?it/s]\n"
     ]
    },
    {
     "name": "stdout",
     "output_type": "stream",
     "text": [
      "# - mediainfodb dataframe updated\n",
      "# - images compared\n",
      "# - cluster initialized\n",
      "# - clusters identified\n",
      "# - file mapping updated\n",
      "111 ['IMG-20180121-WA0002.jpg', 'IMG-20180121-WA0011.jpg']\n",
      "122 ['IMG-20180105-WA0000.jpg', 'IMG-20180105-WA0001.jpg']\n",
      "124 ['IMG-20180106-WA0003.jpg', 'IMG-20180108-WA0000.jpg']\n",
      "125 ['IMG-20180119-WA0000.jpg', 'IMG-20180119-WA0007.jpg']\n",
      "126 ['IMG-20180105-WA0003.jpg', 'IMG-20180105-WA0004.jpg']\n",
      "127 ['IMG-20180101-WA0014.jpg', 'IMG-20180101-WA0019.jpg', 'IMG-20180101-WA0021.jpg']\n",
      "131 ['IMG-20180101-WA0015.jpg', 'IMG-20180101-WA0017.jpg']\n",
      "142 ['20180103_095406.jpg', 'IMG-20180103-WA0003.jpg']\n",
      "148 ['20180119_110403.jpg', 'IMG-20180119-WA0004.jpg']\n",
      "150 ['20180111_124359.jpg', 'IMG-20180111-WA0000.jpg']\n",
      "158 ['20180105_084201.jpg', 'IMG-20180105-WA0002.jpg']\n",
      "166 ['20180123_150534.jpg', 'IMG-20180123-WA0000.jpg']\n",
      "186 ['20180119_175051.jpg', '20180119_175054.jpg']\n",
      "198 ['20180101_015011.jpg', 'IMG-20180101-WA0018.jpg']\n",
      "199 ['20180121_102915.jpg', 'IMG-20180121-WA0006.jpg', 'IMG-20180121-WA0007.jpg']\n",
      "200 ['20180121_104231.jpg', 'IMG-20180121-WA0005.jpg', 'IMG-20180121-WA0008.jpg']\n",
      "201 ['20180121_104237.jpg', 'IMG-20180121-WA0004.jpg', 'IMG-20180121-WA0009.jpg']\n",
      "202 ['20180121_104242.jpg', 'IMG-20180121-WA0003.jpg', 'IMG-20180121-WA0010.jpg']\n",
      "203 ['20180121_115916.jpg', 'IMG-20180121-WA0001.jpg', 'IMG-20180121-WA0012.jpg']\n",
      "204 ['20180128_162416.jpg', 'IMG-20180128-WA0000.jpg']\n",
      "# - cluster folders created\n",
      "# - mediainfodb dataframe written to file\n",
      "====================================================================================================\n",
      "/Users/matthieupichaud/pCloud Drive/Photos/2018/02\n",
      "232\n",
      "# - file mapping created\n",
      "# - mediainfo collected\n",
      "# - missing media from media info: set()\n",
      "# N_entries_existing: 208\n",
      "> /Users/matthieupichaud/pCloud Drive/Photos/2018/02\n",
      "# N_files: 208\n",
      "# N_entries_tocompute: 19\n"
     ]
    },
    {
     "name": "stderr",
     "output_type": "stream",
     "text": [
      "100%|████████████████████████████████████████████████████████████████████████████████████████████████████████████████████████████████████████████████████████████████████████████████████████████████████| 19/19 [00:12<00:00,  1.52it/s]\n"
     ]
    },
    {
     "name": "stdout",
     "output_type": "stream",
     "text": [
      "> /Users/matthieupichaud/pCloud Drive/Photos/2018/02/imagecluster_0\n",
      "# N_files: 208\n",
      "# N_entries_tocompute: 0\n"
     ]
    },
    {
     "name": "stderr",
     "output_type": "stream",
     "text": [
      "0it [00:00, ?it/s]\n"
     ]
    },
    {
     "name": "stdout",
     "output_type": "stream",
     "text": [
      "> /Users/matthieupichaud/pCloud Drive/Photos/2018/02/imagecluster_1\n",
      "# N_files: 208\n",
      "# N_entries_tocompute: 0\n"
     ]
    },
    {
     "name": "stderr",
     "output_type": "stream",
     "text": [
      "0it [00:00, ?it/s]\n"
     ]
    },
    {
     "name": "stdout",
     "output_type": "stream",
     "text": [
      "> /Users/matthieupichaud/pCloud Drive/Photos/2018/02/imagecluster_2\n",
      "# N_files: 208\n",
      "# N_entries_tocompute: 0\n"
     ]
    },
    {
     "name": "stderr",
     "output_type": "stream",
     "text": [
      "0it [00:00, ?it/s]\n"
     ]
    },
    {
     "name": "stdout",
     "output_type": "stream",
     "text": [
      "# - mediainfodb dataframe updated\n",
      "# - images compared\n",
      "# - cluster initialized\n",
      "# - clusters identified\n",
      "# - file mapping updated\n",
      "202 ['IMG-20180218-WA0014.jpg', 'IMG-20180220-WA0000.jpg']\n",
      "205 ['IMG-20180218-WA0007.jpg', 'IMG-20180218-WA0018.jpg']\n",
      "206 ['IMG-20180223-WA0003.jpg', 'IMG-20180224-WA0000.jpg']\n",
      "208 ['20180225_113454.jpg', 'IMG-20180225-WA0001.jpg']\n",
      "# - cluster folders created\n",
      "# - mediainfodb dataframe written to file\n",
      "====================================================================================================\n",
      "/Users/matthieupichaud/pCloud Drive/Photos/2018/04\n",
      "263\n",
      "# - file mapping created\n",
      "# - mediainfo collected\n",
      "# - missing media from media info: set()\n",
      "# N_entries_existing: 217\n",
      "> /Users/matthieupichaud/pCloud Drive/Photos/2018/04\n",
      "# N_files: 217\n",
      "# N_entries_tocompute: 27\n"
     ]
    },
    {
     "name": "stderr",
     "output_type": "stream",
     "text": [
      " 59%|████████████████████████████████████████████████████████████████████████████████████████████████████████████████████▏                                                                               | 16/27 [00:10<00:05,  1.97it/s]"
     ]
    },
    {
     "name": "stdout",
     "output_type": "stream",
     "text": [
      "# problem with /Users/matthieupichaud/pCloud Drive/Photos/2018/04/20180420_114821.jpg\n"
     ]
    },
    {
     "name": "stderr",
     "output_type": "stream",
     "text": [
      "100%|████████████████████████████████████████████████████████████████████████████████████████████████████████████████████████████████████████████████████████████████████████████████████████████████████| 27/27 [00:16<00:00,  1.61it/s]\n"
     ]
    },
    {
     "name": "stdout",
     "output_type": "stream",
     "text": [
      "> /Users/matthieupichaud/pCloud Drive/Photos/2018/04/imagecluster_0\n",
      "# N_files: 217\n",
      "# N_entries_tocompute: 0\n"
     ]
    },
    {
     "name": "stderr",
     "output_type": "stream",
     "text": [
      "0it [00:00, ?it/s]\n"
     ]
    },
    {
     "name": "stdout",
     "output_type": "stream",
     "text": [
      "> /Users/matthieupichaud/pCloud Drive/Photos/2018/04/imagecluster_1\n",
      "# N_files: 217\n",
      "# N_entries_tocompute: 0\n"
     ]
    },
    {
     "name": "stderr",
     "output_type": "stream",
     "text": [
      "0it [00:00, ?it/s]\n"
     ]
    },
    {
     "name": "stdout",
     "output_type": "stream",
     "text": [
      "> /Users/matthieupichaud/pCloud Drive/Photos/2018/04/imagecluster_2\n",
      "# N_files: 217\n",
      "# N_entries_tocompute: 0\n"
     ]
    },
    {
     "name": "stderr",
     "output_type": "stream",
     "text": [
      "0it [00:00, ?it/s]\n"
     ]
    },
    {
     "name": "stdout",
     "output_type": "stream",
     "text": [
      "> /Users/matthieupichaud/pCloud Drive/Photos/2018/04/imagecluster_3\n",
      "# N_files: 217\n",
      "# N_entries_tocompute: 0\n"
     ]
    },
    {
     "name": "stderr",
     "output_type": "stream",
     "text": [
      "0it [00:00, ?it/s]\n"
     ]
    },
    {
     "name": "stdout",
     "output_type": "stream",
     "text": [
      "> /Users/matthieupichaud/pCloud Drive/Photos/2018/04/imagecluster_4\n",
      "# N_files: 217\n",
      "# N_entries_tocompute: 0\n"
     ]
    },
    {
     "name": "stderr",
     "output_type": "stream",
     "text": [
      "0it [00:00, ?it/s]\n"
     ]
    },
    {
     "name": "stdout",
     "output_type": "stream",
     "text": [
      "> /Users/matthieupichaud/pCloud Drive/Photos/2018/04/imagecluster_5\n",
      "# N_files: 217\n",
      "# N_entries_tocompute: 0\n"
     ]
    },
    {
     "name": "stderr",
     "output_type": "stream",
     "text": [
      "0it [00:00, ?it/s]\n"
     ]
    },
    {
     "name": "stdout",
     "output_type": "stream",
     "text": [
      "> /Users/matthieupichaud/pCloud Drive/Photos/2018/04/imagecluster_6\n",
      "# N_files: 217\n",
      "# N_entries_tocompute: 0\n"
     ]
    },
    {
     "name": "stderr",
     "output_type": "stream",
     "text": [
      "0it [00:00, ?it/s]\n"
     ]
    },
    {
     "name": "stdout",
     "output_type": "stream",
     "text": [
      "> /Users/matthieupichaud/pCloud Drive/Photos/2018/04/imagecluster_7\n",
      "# N_files: 217\n",
      "# N_entries_tocompute: 0\n"
     ]
    },
    {
     "name": "stderr",
     "output_type": "stream",
     "text": [
      "0it [00:00, ?it/s]\n"
     ]
    },
    {
     "name": "stdout",
     "output_type": "stream",
     "text": [
      "> /Users/matthieupichaud/pCloud Drive/Photos/2018/04/imagecluster_8\n",
      "# N_files: 217\n",
      "# N_entries_tocompute: 0\n"
     ]
    },
    {
     "name": "stderr",
     "output_type": "stream",
     "text": [
      "0it [00:00, ?it/s]\n"
     ]
    },
    {
     "name": "stdout",
     "output_type": "stream",
     "text": [
      "> /Users/matthieupichaud/pCloud Drive/Photos/2018/04/imagecluster_9\n",
      "# N_files: 217\n",
      "# N_entries_tocompute: 0\n"
     ]
    },
    {
     "name": "stderr",
     "output_type": "stream",
     "text": [
      "0it [00:00, ?it/s]\n"
     ]
    },
    {
     "name": "stdout",
     "output_type": "stream",
     "text": [
      "# - mediainfodb dataframe updated\n",
      "# - images compared\n",
      "# - cluster initialized\n",
      "# - clusters identified\n",
      "# - file mapping updated\n",
      "197 ['IMG-20180422-WA0010.jpg', 'IMG-20180422-WA0012.jpg']\n",
      "199 ['IMG-20180412-WA0001.jpg', 'IMG-20180413-WA0004.jpg']\n",
      "202 ['IMG-20180412-WA0000.jpg', 'IMG-20180413-WA0009.jpg']\n",
      "208 ['IMG-20180427-WA0004.jpg', 'IMG-20180429-WA0005.jpg']\n",
      "209 ['IMG-20180429-WA0008.jpg', 'IMG-20180429-WA0011.jpg']\n",
      "210 ['IMG-20180429-WA0007.jpg', 'IMG-20180429-WA0009.jpg', 'IMG-20180429-WA0010.jpg']\n",
      "211 ['IMG-20180427-WA0001.jpg', 'IMG-20180429-WA0006.jpg']\n",
      "214 ['IMG-20180406-WA0001.jpg', 'IMG-20180406-WA0002.jpg']\n",
      "215 ['IMG-20180426-WA0001.jpg', 'IMG-20180427-WA0000.jpg']\n",
      "241 ['20180409_063126.jpg', '20180409_063128.jpg']\n",
      "# - cluster folders created\n",
      "# - mediainfodb dataframe written to file\n",
      "====================================================================================================\n",
      "/Users/matthieupichaud/pCloud Drive/Photos/2018/05\n",
      "485\n",
      "# - file mapping created\n",
      "# - mediainfo collected\n",
      "# - missing media from media info: {'.IMG_4501.jpg.4R3Dt1'}\n",
      "# N_entries_existing: 393\n",
      "> /Users/matthieupichaud/pCloud Drive/Photos/2018/05\n",
      "# N_files: 393\n",
      "# N_entries_tocompute: 64\n"
     ]
    },
    {
     "name": "stderr",
     "output_type": "stream",
     "text": [
      "100%|████████████████████████████████████████████████████████████████████████████████████████████████████████████████████████████████████████████████████████████████████████████████████████████████████| 64/64 [00:41<00:00,  1.54it/s]\n"
     ]
    },
    {
     "name": "stdout",
     "output_type": "stream",
     "text": [
      "> /Users/matthieupichaud/pCloud Drive/Photos/2018/05/imagecluster_0\n",
      "# N_files: 393\n",
      "# N_entries_tocompute: 0\n"
     ]
    },
    {
     "name": "stderr",
     "output_type": "stream",
     "text": [
      "0it [00:00, ?it/s]\n"
     ]
    },
    {
     "name": "stdout",
     "output_type": "stream",
     "text": [
      "> /Users/matthieupichaud/pCloud Drive/Photos/2018/05/imagecluster_1\n",
      "# N_files: 393\n",
      "# N_entries_tocompute: 0\n"
     ]
    },
    {
     "name": "stderr",
     "output_type": "stream",
     "text": [
      "0it [00:00, ?it/s]\n"
     ]
    },
    {
     "name": "stdout",
     "output_type": "stream",
     "text": [
      "> /Users/matthieupichaud/pCloud Drive/Photos/2018/05/imagecluster_2\n",
      "# N_files: 393\n",
      "# N_entries_tocompute: 0\n"
     ]
    },
    {
     "name": "stderr",
     "output_type": "stream",
     "text": [
      "0it [00:00, ?it/s]\n"
     ]
    },
    {
     "name": "stdout",
     "output_type": "stream",
     "text": [
      "> /Users/matthieupichaud/pCloud Drive/Photos/2018/05/imagecluster_3\n",
      "# N_files: 393\n",
      "# N_entries_tocompute: 0\n"
     ]
    },
    {
     "name": "stderr",
     "output_type": "stream",
     "text": [
      "0it [00:00, ?it/s]\n"
     ]
    },
    {
     "name": "stdout",
     "output_type": "stream",
     "text": [
      "> /Users/matthieupichaud/pCloud Drive/Photos/2018/05/imagecluster_4\n",
      "# N_files: 393\n",
      "# N_entries_tocompute: 0\n"
     ]
    },
    {
     "name": "stderr",
     "output_type": "stream",
     "text": [
      "0it [00:00, ?it/s]\n"
     ]
    },
    {
     "name": "stdout",
     "output_type": "stream",
     "text": [
      "> /Users/matthieupichaud/pCloud Drive/Photos/2018/05/imagecluster_5\n",
      "# N_files: 393\n",
      "# N_entries_tocompute: 0\n"
     ]
    },
    {
     "name": "stderr",
     "output_type": "stream",
     "text": [
      "0it [00:00, ?it/s]\n"
     ]
    },
    {
     "name": "stdout",
     "output_type": "stream",
     "text": [
      "> /Users/matthieupichaud/pCloud Drive/Photos/2018/05/imagecluster_6\n",
      "# N_files: 393\n",
      "# N_entries_tocompute: 0\n"
     ]
    },
    {
     "name": "stderr",
     "output_type": "stream",
     "text": [
      "0it [00:00, ?it/s]\n"
     ]
    },
    {
     "name": "stdout",
     "output_type": "stream",
     "text": [
      "> /Users/matthieupichaud/pCloud Drive/Photos/2018/05/imagecluster_7\n",
      "# N_files: 393\n",
      "# N_entries_tocompute: 0\n"
     ]
    },
    {
     "name": "stderr",
     "output_type": "stream",
     "text": [
      "0it [00:00, ?it/s]\n"
     ]
    },
    {
     "name": "stdout",
     "output_type": "stream",
     "text": [
      "> /Users/matthieupichaud/pCloud Drive/Photos/2018/05/imagecluster_8\n",
      "# N_files: 393\n",
      "# N_entries_tocompute: 0\n"
     ]
    },
    {
     "name": "stderr",
     "output_type": "stream",
     "text": [
      "0it [00:00, ?it/s]\n"
     ]
    },
    {
     "name": "stdout",
     "output_type": "stream",
     "text": [
      "> /Users/matthieupichaud/pCloud Drive/Photos/2018/05/imagecluster_9\n",
      "# N_files: 393\n",
      "# N_entries_tocompute: 0\n"
     ]
    },
    {
     "name": "stderr",
     "output_type": "stream",
     "text": [
      "0it [00:00, ?it/s]\n"
     ]
    },
    {
     "name": "stdout",
     "output_type": "stream",
     "text": [
      "> /Users/matthieupichaud/pCloud Drive/Photos/2018/05/imagecluster_10\n",
      "# N_files: 393\n",
      "# N_entries_tocompute: 0\n"
     ]
    },
    {
     "name": "stderr",
     "output_type": "stream",
     "text": [
      "0it [00:00, ?it/s]\n"
     ]
    },
    {
     "name": "stdout",
     "output_type": "stream",
     "text": [
      "> /Users/matthieupichaud/pCloud Drive/Photos/2018/05/imagecluster_11\n",
      "# N_files: 393\n",
      "# N_entries_tocompute: 0\n"
     ]
    },
    {
     "name": "stderr",
     "output_type": "stream",
     "text": [
      "0it [00:00, ?it/s]\n"
     ]
    },
    {
     "name": "stdout",
     "output_type": "stream",
     "text": [
      "> /Users/matthieupichaud/pCloud Drive/Photos/2018/05/imagecluster_12\n",
      "# N_files: 393\n",
      "# N_entries_tocompute: 0\n"
     ]
    },
    {
     "name": "stderr",
     "output_type": "stream",
     "text": [
      "0it [00:00, ?it/s]\n"
     ]
    },
    {
     "name": "stdout",
     "output_type": "stream",
     "text": [
      "> /Users/matthieupichaud/pCloud Drive/Photos/2018/05/imagecluster_13\n",
      "# N_files: 393\n",
      "# N_entries_tocompute: 0\n"
     ]
    },
    {
     "name": "stderr",
     "output_type": "stream",
     "text": [
      "0it [00:00, ?it/s]\n"
     ]
    },
    {
     "name": "stdout",
     "output_type": "stream",
     "text": [
      "> /Users/matthieupichaud/pCloud Drive/Photos/2018/05/imagecluster_14\n",
      "# N_files: 393\n",
      "# N_entries_tocompute: 0\n"
     ]
    },
    {
     "name": "stderr",
     "output_type": "stream",
     "text": [
      "0it [00:00, ?it/s]\n"
     ]
    },
    {
     "name": "stdout",
     "output_type": "stream",
     "text": [
      "# - mediainfodb dataframe updated\n",
      "# - images compared\n",
      "# - cluster initialized\n",
      "# - clusters identified\n",
      "# - file mapping updated\n",
      "361 ['IMG-20180506-WA0003.jpg', 'IMG-20180506-WA0012.jpg']\n",
      "363 ['IMG-20180528-WA0015.jpg', 'IMG-20180530-WA0009.jpg']\n",
      "368 ['IMG-20180522-WA0001.jpg', 'IMG-20180522-WA0002.jpg']\n",
      "371 ['IMG-20180527-WA0006.jpg', 'IMG-20180527-WA0009.jpg']\n",
      "373 ['IMG-20180527-WA0005.jpg', 'IMG-20180527-WA0008.jpg']\n",
      "377 ['IMG-20180502-WA0002.jpg', 'IMG-20180502-WA0003.jpg']\n",
      "380 ['IMG-20180529-WA0000.jpg', 'IMG-20180530-WA0013.jpg']\n",
      "381 ['IMG-20180521-WA0003.jpg', 'IMG-20180521-WA0010.jpg', 'IMG-20180521-WA0011.jpg']\n",
      "382 ['IMG-20180521-WA0001.jpg', 'IMG-20180521-WA0005.jpg']\n",
      "384 ['IMG-20180521-WA0004.jpg', 'IMG-20180522-WA0004.jpg', 'IMG-20180530-WA0011.jpg']\n",
      "386 ['IMG-20180530-WA0002.jpg', 'IMG-20180530-WA0004.jpg']\n",
      "387 ['IMG-20180528-WA0000.jpg', 'IMG-20180530-WA0010.jpg']\n",
      "390 ['IMG-20180506-WA0002.jpg', 'IMG-20180506-WA0013.jpg', 'IMG-20180507-WA0025.jpg']\n",
      "393 ['20180523_161841.jpg', 'IMG-20180524-WA0016.jpg']\n",
      "394 ['20180523_162047.jpg', 'IMG-20180524-WA0013.jpg']\n",
      "397 ['20180512_163152(1).jpg', 'IMG-20180512-WA0002.jpg']\n",
      "400 ['20180523_162112.jpg', 'IMG-20180524-WA0012.jpg']\n",
      "402 ['20180523_163218.jpg', 'IMG-20180524-WA0005.jpg']\n",
      "423 ['20180522_191708.jpg', 'IMG-20180522-WA0003.jpg']\n",
      "425 ['20180523_163312.jpg', 'IMG-20180524-WA0004.jpg']\n",
      "429 ['20180514_145317.jpg', 'IMG-20180516-WA0016.jpg']\n",
      "436 ['20180523_162035.jpg', 'IMG-20180524-WA0014.jpg']\n",
      "439 ['20180523_161925.jpg', 'IMG-20180524-WA0015.jpg', 'IMG-20180524-WA0018.jpg']\n",
      "442 ['20180523_162641.jpg', 'IMG-20180524-WA0010.jpg']\n",
      "450 ['20180523_162917.jpg', 'IMG-20180524-WA0008.jpg']\n",
      "452 ['IMG-20180521-WA0008.jpeg', 'IMG-20180521-WA0009.jpg']\n",
      "# - cluster folders created\n",
      "# - mediainfodb dataframe written to file\n",
      "====================================================================================================\n",
      "/Users/matthieupichaud/pCloud Drive/Photos/2018/08\n",
      "590\n",
      "# - file mapping created\n",
      "# - mediainfo collected\n",
      "# - missing media from media info: set()\n",
      "# N_entries_existing: 456\n",
      "> /Users/matthieupichaud/pCloud Drive/Photos/2018/08\n",
      "# N_files: 456\n",
      "# N_entries_tocompute: 40\n"
     ]
    },
    {
     "name": "stderr",
     "output_type": "stream",
     "text": [
      "100%|████████████████████████████████████████████████████████████████████████████████████████████████████████████████████████████████████████████████████████████████████████████████████████████████████| 40/40 [00:18<00:00,  2.12it/s]\n"
     ]
    },
    {
     "name": "stdout",
     "output_type": "stream",
     "text": [
      "> /Users/matthieupichaud/pCloud Drive/Photos/2018/08/imagecluster_0\n",
      "# N_files: 456\n",
      "# N_entries_tocompute: 0\n"
     ]
    },
    {
     "name": "stderr",
     "output_type": "stream",
     "text": [
      "0it [00:00, ?it/s]\n"
     ]
    },
    {
     "name": "stdout",
     "output_type": "stream",
     "text": [
      "> /Users/matthieupichaud/pCloud Drive/Photos/2018/08/imagecluster_1\n",
      "# N_files: 456\n",
      "# N_entries_tocompute: 0\n"
     ]
    },
    {
     "name": "stderr",
     "output_type": "stream",
     "text": [
      "0it [00:00, ?it/s]\n"
     ]
    },
    {
     "name": "stdout",
     "output_type": "stream",
     "text": [
      "> /Users/matthieupichaud/pCloud Drive/Photos/2018/08/imagecluster_2\n",
      "# N_files: 456\n",
      "# N_entries_tocompute: 0\n"
     ]
    },
    {
     "name": "stderr",
     "output_type": "stream",
     "text": [
      "0it [00:00, ?it/s]\n"
     ]
    },
    {
     "name": "stdout",
     "output_type": "stream",
     "text": [
      "> /Users/matthieupichaud/pCloud Drive/Photos/2018/08/imagecluster_3\n",
      "# N_files: 456\n",
      "# N_entries_tocompute: 0\n"
     ]
    },
    {
     "name": "stderr",
     "output_type": "stream",
     "text": [
      "0it [00:00, ?it/s]\n"
     ]
    },
    {
     "name": "stdout",
     "output_type": "stream",
     "text": [
      "> /Users/matthieupichaud/pCloud Drive/Photos/2018/08/imagecluster_4\n",
      "# N_files: 456\n",
      "# N_entries_tocompute: 0\n"
     ]
    },
    {
     "name": "stderr",
     "output_type": "stream",
     "text": [
      "0it [00:00, ?it/s]\n"
     ]
    },
    {
     "name": "stdout",
     "output_type": "stream",
     "text": [
      "> /Users/matthieupichaud/pCloud Drive/Photos/2018/08/imagecluster_5\n",
      "# N_files: 456\n",
      "# N_entries_tocompute: 0\n"
     ]
    },
    {
     "name": "stderr",
     "output_type": "stream",
     "text": [
      "0it [00:00, ?it/s]\n"
     ]
    },
    {
     "name": "stdout",
     "output_type": "stream",
     "text": [
      "> /Users/matthieupichaud/pCloud Drive/Photos/2018/08/imagecluster_6\n",
      "# N_files: 456\n",
      "# N_entries_tocompute: 0\n"
     ]
    },
    {
     "name": "stderr",
     "output_type": "stream",
     "text": [
      "0it [00:00, ?it/s]\n"
     ]
    },
    {
     "name": "stdout",
     "output_type": "stream",
     "text": [
      "> /Users/matthieupichaud/pCloud Drive/Photos/2018/08/imagecluster_7\n",
      "# N_files: 456\n",
      "# N_entries_tocompute: 0\n"
     ]
    },
    {
     "name": "stderr",
     "output_type": "stream",
     "text": [
      "0it [00:00, ?it/s]\n"
     ]
    },
    {
     "name": "stdout",
     "output_type": "stream",
     "text": [
      "> /Users/matthieupichaud/pCloud Drive/Photos/2018/08/imagecluster_8\n",
      "# N_files: 456\n",
      "# N_entries_tocompute: 0\n"
     ]
    },
    {
     "name": "stderr",
     "output_type": "stream",
     "text": [
      "0it [00:00, ?it/s]\n"
     ]
    },
    {
     "name": "stdout",
     "output_type": "stream",
     "text": [
      "> /Users/matthieupichaud/pCloud Drive/Photos/2018/08/imagecluster_9\n",
      "# N_files: 456\n",
      "# N_entries_tocompute: 0\n"
     ]
    },
    {
     "name": "stderr",
     "output_type": "stream",
     "text": [
      "0it [00:00, ?it/s]\n"
     ]
    },
    {
     "name": "stdout",
     "output_type": "stream",
     "text": [
      "> /Users/matthieupichaud/pCloud Drive/Photos/2018/08/imagecluster_10\n",
      "# N_files: 456\n",
      "# N_entries_tocompute: 0\n"
     ]
    },
    {
     "name": "stderr",
     "output_type": "stream",
     "text": [
      "0it [00:00, ?it/s]\n"
     ]
    },
    {
     "name": "stdout",
     "output_type": "stream",
     "text": [
      "> /Users/matthieupichaud/pCloud Drive/Photos/2018/08/imagecluster_11\n",
      "# N_files: 456\n",
      "# N_entries_tocompute: 0\n"
     ]
    },
    {
     "name": "stderr",
     "output_type": "stream",
     "text": [
      "0it [00:00, ?it/s]\n"
     ]
    },
    {
     "name": "stdout",
     "output_type": "stream",
     "text": [
      "> /Users/matthieupichaud/pCloud Drive/Photos/2018/08/imagecluster_12\n",
      "# N_files: 456\n",
      "# N_entries_tocompute: 0\n"
     ]
    },
    {
     "name": "stderr",
     "output_type": "stream",
     "text": [
      "0it [00:00, ?it/s]\n"
     ]
    },
    {
     "name": "stdout",
     "output_type": "stream",
     "text": [
      "> /Users/matthieupichaud/pCloud Drive/Photos/2018/08/imagecluster_13\n",
      "# N_files: 456\n",
      "# N_entries_tocompute: 0\n"
     ]
    },
    {
     "name": "stderr",
     "output_type": "stream",
     "text": [
      "0it [00:00, ?it/s]\n"
     ]
    },
    {
     "name": "stdout",
     "output_type": "stream",
     "text": [
      "> /Users/matthieupichaud/pCloud Drive/Photos/2018/08/imagecluster_14\n",
      "# N_files: 456\n",
      "# N_entries_tocompute: 0\n"
     ]
    },
    {
     "name": "stderr",
     "output_type": "stream",
     "text": [
      "0it [00:00, ?it/s]\n"
     ]
    },
    {
     "name": "stdout",
     "output_type": "stream",
     "text": [
      "> /Users/matthieupichaud/pCloud Drive/Photos/2018/08/imagecluster_15\n",
      "# N_files: 456\n",
      "# N_entries_tocompute: 0\n"
     ]
    },
    {
     "name": "stderr",
     "output_type": "stream",
     "text": [
      "0it [00:00, ?it/s]\n"
     ]
    },
    {
     "name": "stdout",
     "output_type": "stream",
     "text": [
      "> /Users/matthieupichaud/pCloud Drive/Photos/2018/08/imagecluster_16\n",
      "# N_files: 456\n",
      "# N_entries_tocompute: 0\n"
     ]
    },
    {
     "name": "stderr",
     "output_type": "stream",
     "text": [
      "0it [00:00, ?it/s]\n"
     ]
    },
    {
     "name": "stdout",
     "output_type": "stream",
     "text": [
      "> /Users/matthieupichaud/pCloud Drive/Photos/2018/08/imagecluster_17\n",
      "# N_files: 456\n",
      "# N_entries_tocompute: 0\n"
     ]
    },
    {
     "name": "stderr",
     "output_type": "stream",
     "text": [
      "0it [00:00, ?it/s]\n"
     ]
    },
    {
     "name": "stdout",
     "output_type": "stream",
     "text": [
      "> /Users/matthieupichaud/pCloud Drive/Photos/2018/08/imagecluster_18\n",
      "# N_files: 456\n",
      "# N_entries_tocompute: 0\n"
     ]
    },
    {
     "name": "stderr",
     "output_type": "stream",
     "text": [
      "0it [00:00, ?it/s]\n"
     ]
    },
    {
     "name": "stdout",
     "output_type": "stream",
     "text": [
      "> /Users/matthieupichaud/pCloud Drive/Photos/2018/08/imagecluster_19\n",
      "# N_files: 456\n",
      "# N_entries_tocompute: 0\n"
     ]
    },
    {
     "name": "stderr",
     "output_type": "stream",
     "text": [
      "0it [00:00, ?it/s]\n"
     ]
    },
    {
     "name": "stdout",
     "output_type": "stream",
     "text": [
      "> /Users/matthieupichaud/pCloud Drive/Photos/2018/08/imagecluster_20\n",
      "# N_files: 456\n",
      "# N_entries_tocompute: 0\n"
     ]
    },
    {
     "name": "stderr",
     "output_type": "stream",
     "text": [
      "0it [00:00, ?it/s]\n"
     ]
    },
    {
     "name": "stdout",
     "output_type": "stream",
     "text": [
      "> /Users/matthieupichaud/pCloud Drive/Photos/2018/08/imagecluster_21\n",
      "# N_files: 456\n",
      "# N_entries_tocompute: 0\n"
     ]
    },
    {
     "name": "stderr",
     "output_type": "stream",
     "text": [
      "0it [00:00, ?it/s]\n"
     ]
    },
    {
     "name": "stdout",
     "output_type": "stream",
     "text": [
      "> /Users/matthieupichaud/pCloud Drive/Photos/2018/08/imagecluster_22\n",
      "# N_files: 456\n",
      "# N_entries_tocompute: 0\n"
     ]
    },
    {
     "name": "stderr",
     "output_type": "stream",
     "text": [
      "0it [00:00, ?it/s]\n"
     ]
    },
    {
     "name": "stdout",
     "output_type": "stream",
     "text": [
      "> /Users/matthieupichaud/pCloud Drive/Photos/2018/08/imagecluster_23\n",
      "# N_files: 456\n",
      "# N_entries_tocompute: 0\n"
     ]
    },
    {
     "name": "stderr",
     "output_type": "stream",
     "text": [
      "0it [00:00, ?it/s]\n"
     ]
    },
    {
     "name": "stdout",
     "output_type": "stream",
     "text": [
      "> /Users/matthieupichaud/pCloud Drive/Photos/2018/08/imagecluster_24\n",
      "# N_files: 456\n",
      "# N_entries_tocompute: 0\n"
     ]
    },
    {
     "name": "stderr",
     "output_type": "stream",
     "text": [
      "0it [00:00, ?it/s]\n"
     ]
    },
    {
     "name": "stdout",
     "output_type": "stream",
     "text": [
      "> /Users/matthieupichaud/pCloud Drive/Photos/2018/08/imagecluster_25\n",
      "# N_files: 456\n",
      "# N_entries_tocompute: 0\n"
     ]
    },
    {
     "name": "stderr",
     "output_type": "stream",
     "text": [
      "0it [00:00, ?it/s]"
     ]
    },
    {
     "name": "stdout",
     "output_type": "stream",
     "text": [
      "> /Users/matthieupichaud/pCloud Drive/Photos/2018/08/imagecluster_26\n",
      "# N_files: 456\n",
      "# N_entries_tocompute: 0\n"
     ]
    },
    {
     "name": "stderr",
     "output_type": "stream",
     "text": [
      "\n",
      "0it [00:00, ?it/s]\n"
     ]
    },
    {
     "name": "stdout",
     "output_type": "stream",
     "text": [
      "> /Users/matthieupichaud/pCloud Drive/Photos/2018/08/imagecluster_27\n",
      "# N_files: 456\n",
      "# N_entries_tocompute: 0\n"
     ]
    },
    {
     "name": "stderr",
     "output_type": "stream",
     "text": [
      "0it [00:00, ?it/s]\n"
     ]
    },
    {
     "name": "stdout",
     "output_type": "stream",
     "text": [
      "> /Users/matthieupichaud/pCloud Drive/Photos/2018/08/imagecluster_28\n",
      "# N_files: 456\n",
      "# N_entries_tocompute: 0\n"
     ]
    },
    {
     "name": "stderr",
     "output_type": "stream",
     "text": [
      "0it [00:00, ?it/s]\n"
     ]
    },
    {
     "name": "stdout",
     "output_type": "stream",
     "text": [
      "> /Users/matthieupichaud/pCloud Drive/Photos/2018/08/imagecluster_29\n",
      "# N_files: 456\n",
      "# N_entries_tocompute: 0\n"
     ]
    },
    {
     "name": "stderr",
     "output_type": "stream",
     "text": [
      "0it [00:00, ?it/s]\n"
     ]
    },
    {
     "name": "stdout",
     "output_type": "stream",
     "text": [
      "> /Users/matthieupichaud/pCloud Drive/Photos/2018/08/imagecluster_30\n",
      "# N_files: 456\n",
      "# N_entries_tocompute: 0\n"
     ]
    },
    {
     "name": "stderr",
     "output_type": "stream",
     "text": [
      "0it [00:00, ?it/s]\n"
     ]
    },
    {
     "name": "stdout",
     "output_type": "stream",
     "text": [
      "> /Users/matthieupichaud/pCloud Drive/Photos/2018/08/imagecluster_31\n",
      "# N_files: 456\n",
      "# N_entries_tocompute: 0\n"
     ]
    },
    {
     "name": "stderr",
     "output_type": "stream",
     "text": [
      "0it [00:00, ?it/s]\n"
     ]
    },
    {
     "name": "stdout",
     "output_type": "stream",
     "text": [
      "> /Users/matthieupichaud/pCloud Drive/Photos/2018/08/imagecluster_32\n",
      "# N_files: 456\n",
      "# N_entries_tocompute: 0\n"
     ]
    },
    {
     "name": "stderr",
     "output_type": "stream",
     "text": [
      "0it [00:00, ?it/s]\n"
     ]
    },
    {
     "name": "stdout",
     "output_type": "stream",
     "text": [
      "> /Users/matthieupichaud/pCloud Drive/Photos/2018/08/imagecluster_33\n",
      "# N_files: 456\n",
      "# N_entries_tocompute: 0\n"
     ]
    },
    {
     "name": "stderr",
     "output_type": "stream",
     "text": [
      "0it [00:00, ?it/s]\n"
     ]
    },
    {
     "name": "stdout",
     "output_type": "stream",
     "text": [
      "> /Users/matthieupichaud/pCloud Drive/Photos/2018/08/imagecluster_34\n",
      "# N_files: 456\n",
      "# N_entries_tocompute: 0\n"
     ]
    },
    {
     "name": "stderr",
     "output_type": "stream",
     "text": [
      "0it [00:00, ?it/s]\n"
     ]
    },
    {
     "name": "stdout",
     "output_type": "stream",
     "text": [
      "> /Users/matthieupichaud/pCloud Drive/Photos/2018/08/imagecluster_35\n",
      "# N_files: 456\n",
      "# N_entries_tocompute: 0\n"
     ]
    },
    {
     "name": "stderr",
     "output_type": "stream",
     "text": [
      "0it [00:00, ?it/s]\n"
     ]
    },
    {
     "name": "stdout",
     "output_type": "stream",
     "text": [
      "> /Users/matthieupichaud/pCloud Drive/Photos/2018/08/imagecluster_36\n",
      "# N_files: 456\n",
      "# N_entries_tocompute: 0\n"
     ]
    },
    {
     "name": "stderr",
     "output_type": "stream",
     "text": [
      "0it [00:00, ?it/s]\n"
     ]
    },
    {
     "name": "stdout",
     "output_type": "stream",
     "text": [
      "> /Users/matthieupichaud/pCloud Drive/Photos/2018/08/imagecluster_37\n",
      "# N_files: 456\n",
      "# N_entries_tocompute: 0\n"
     ]
    },
    {
     "name": "stderr",
     "output_type": "stream",
     "text": [
      "0it [00:00, ?it/s]\n"
     ]
    },
    {
     "name": "stdout",
     "output_type": "stream",
     "text": [
      "> /Users/matthieupichaud/pCloud Drive/Photos/2018/08/imagecluster_38\n",
      "# N_files: 456\n",
      "# N_entries_tocompute: 0\n"
     ]
    },
    {
     "name": "stderr",
     "output_type": "stream",
     "text": [
      "0it [00:00, ?it/s]\n"
     ]
    },
    {
     "name": "stdout",
     "output_type": "stream",
     "text": [
      "> /Users/matthieupichaud/pCloud Drive/Photos/2018/08/imagecluster_39\n",
      "# N_files: 456\n",
      "# N_entries_tocompute: 0\n"
     ]
    },
    {
     "name": "stderr",
     "output_type": "stream",
     "text": [
      "0it [00:00, ?it/s]\n"
     ]
    },
    {
     "name": "stdout",
     "output_type": "stream",
     "text": [
      "> /Users/matthieupichaud/pCloud Drive/Photos/2018/08/imagecluster_40\n",
      "# N_files: 456\n",
      "# N_entries_tocompute: 0\n"
     ]
    },
    {
     "name": "stderr",
     "output_type": "stream",
     "text": [
      "0it [00:00, ?it/s]\n"
     ]
    },
    {
     "name": "stdout",
     "output_type": "stream",
     "text": [
      "> /Users/matthieupichaud/pCloud Drive/Photos/2018/08/imagecluster_41\n",
      "# N_files: 456\n",
      "# N_entries_tocompute: 0\n"
     ]
    },
    {
     "name": "stderr",
     "output_type": "stream",
     "text": [
      "0it [00:00, ?it/s]\n"
     ]
    },
    {
     "name": "stdout",
     "output_type": "stream",
     "text": [
      "> /Users/matthieupichaud/pCloud Drive/Photos/2018/08/imagecluster_42\n",
      "# N_files: 456\n",
      "# N_entries_tocompute: 0\n"
     ]
    },
    {
     "name": "stderr",
     "output_type": "stream",
     "text": [
      "0it [00:00, ?it/s]\n"
     ]
    },
    {
     "name": "stdout",
     "output_type": "stream",
     "text": [
      "> /Users/matthieupichaud/pCloud Drive/Photos/2018/08/imagecluster_43\n",
      "# N_files: 456\n",
      "# N_entries_tocompute: 0\n"
     ]
    },
    {
     "name": "stderr",
     "output_type": "stream",
     "text": [
      "0it [00:00, ?it/s]\n"
     ]
    },
    {
     "name": "stdout",
     "output_type": "stream",
     "text": [
      "> /Users/matthieupichaud/pCloud Drive/Photos/2018/08/imagecluster_44\n",
      "# N_files: 456\n",
      "# N_entries_tocompute: 0\n"
     ]
    },
    {
     "name": "stderr",
     "output_type": "stream",
     "text": [
      "0it [00:00, ?it/s]\n"
     ]
    },
    {
     "name": "stdout",
     "output_type": "stream",
     "text": [
      "> /Users/matthieupichaud/pCloud Drive/Photos/2018/08/imagecluster_45\n",
      "# N_files: 456\n",
      "# N_entries_tocompute: 0\n"
     ]
    },
    {
     "name": "stderr",
     "output_type": "stream",
     "text": [
      "0it [00:00, ?it/s]\n"
     ]
    },
    {
     "name": "stdout",
     "output_type": "stream",
     "text": [
      "> /Users/matthieupichaud/pCloud Drive/Photos/2018/08/imagecluster_46\n",
      "# N_files: 456\n",
      "# N_entries_tocompute: 0\n"
     ]
    },
    {
     "name": "stderr",
     "output_type": "stream",
     "text": [
      "0it [00:00, ?it/s]\n"
     ]
    },
    {
     "name": "stdout",
     "output_type": "stream",
     "text": [
      "> /Users/matthieupichaud/pCloud Drive/Photos/2018/08/imagecluster_47\n",
      "# N_files: 456\n",
      "# N_entries_tocompute: 0\n"
     ]
    },
    {
     "name": "stderr",
     "output_type": "stream",
     "text": [
      "0it [00:00, ?it/s]\n"
     ]
    },
    {
     "name": "stdout",
     "output_type": "stream",
     "text": [
      "> /Users/matthieupichaud/pCloud Drive/Photos/2018/08/imagecluster_48\n",
      "# N_files: 456\n",
      "# N_entries_tocompute: 0\n"
     ]
    },
    {
     "name": "stderr",
     "output_type": "stream",
     "text": [
      "0it [00:00, ?it/s]\n"
     ]
    },
    {
     "name": "stdout",
     "output_type": "stream",
     "text": [
      "> /Users/matthieupichaud/pCloud Drive/Photos/2018/08/imagecluster_49\n",
      "# N_files: 456\n",
      "# N_entries_tocompute: 0\n"
     ]
    },
    {
     "name": "stderr",
     "output_type": "stream",
     "text": [
      "0it [00:00, ?it/s]\n"
     ]
    },
    {
     "name": "stdout",
     "output_type": "stream",
     "text": [
      "> /Users/matthieupichaud/pCloud Drive/Photos/2018/08/imagecluster_50\n",
      "# N_files: 456\n",
      "# N_entries_tocompute: 0\n"
     ]
    },
    {
     "name": "stderr",
     "output_type": "stream",
     "text": [
      "0it [00:00, ?it/s]\n"
     ]
    },
    {
     "name": "stdout",
     "output_type": "stream",
     "text": [
      "> /Users/matthieupichaud/pCloud Drive/Photos/2018/08/imagecluster_51\n",
      "# N_files: 456\n",
      "# N_entries_tocompute: 0\n"
     ]
    },
    {
     "name": "stderr",
     "output_type": "stream",
     "text": [
      "0it [00:00, ?it/s]\n"
     ]
    },
    {
     "name": "stdout",
     "output_type": "stream",
     "text": [
      "> /Users/matthieupichaud/pCloud Drive/Photos/2018/08/imagecluster_52\n",
      "# N_files: 456\n",
      "# N_entries_tocompute: 0\n"
     ]
    },
    {
     "name": "stderr",
     "output_type": "stream",
     "text": [
      "0it [00:00, ?it/s]\n"
     ]
    },
    {
     "name": "stdout",
     "output_type": "stream",
     "text": [
      "> /Users/matthieupichaud/pCloud Drive/Photos/2018/08/imagecluster_53\n",
      "# N_files: 456\n",
      "# N_entries_tocompute: 0\n"
     ]
    },
    {
     "name": "stderr",
     "output_type": "stream",
     "text": [
      "0it [00:00, ?it/s]\n"
     ]
    },
    {
     "name": "stdout",
     "output_type": "stream",
     "text": [
      "> /Users/matthieupichaud/pCloud Drive/Photos/2018/08/imagecluster_54\n",
      "# N_files: 456\n",
      "# N_entries_tocompute: 0\n"
     ]
    },
    {
     "name": "stderr",
     "output_type": "stream",
     "text": [
      "0it [00:00, ?it/s]\n"
     ]
    },
    {
     "name": "stdout",
     "output_type": "stream",
     "text": [
      "> /Users/matthieupichaud/pCloud Drive/Photos/2018/08/imagecluster_55\n",
      "# N_files: 456\n",
      "# N_entries_tocompute: 0\n"
     ]
    },
    {
     "name": "stderr",
     "output_type": "stream",
     "text": [
      "0it [00:00, ?it/s]\n"
     ]
    },
    {
     "name": "stdout",
     "output_type": "stream",
     "text": [
      "> /Users/matthieupichaud/pCloud Drive/Photos/2018/08/imagecluster_56\n",
      "# N_files: 456\n",
      "# N_entries_tocompute: 0\n"
     ]
    },
    {
     "name": "stderr",
     "output_type": "stream",
     "text": [
      "0it [00:00, ?it/s]\n"
     ]
    },
    {
     "name": "stdout",
     "output_type": "stream",
     "text": [
      "> /Users/matthieupichaud/pCloud Drive/Photos/2018/08/imagecluster_57\n",
      "# N_files: 456\n",
      "# N_entries_tocompute: 0\n"
     ]
    },
    {
     "name": "stderr",
     "output_type": "stream",
     "text": [
      "0it [00:00, ?it/s]\n"
     ]
    },
    {
     "name": "stdout",
     "output_type": "stream",
     "text": [
      "> /Users/matthieupichaud/pCloud Drive/Photos/2018/08/imagecluster_58\n",
      "# N_files: 456\n",
      "# N_entries_tocompute: 0\n"
     ]
    },
    {
     "name": "stderr",
     "output_type": "stream",
     "text": [
      "0it [00:00, ?it/s]\n"
     ]
    },
    {
     "name": "stdout",
     "output_type": "stream",
     "text": [
      "> /Users/matthieupichaud/pCloud Drive/Photos/2018/08/imagecluster_59\n",
      "# N_files: 456\n",
      "# N_entries_tocompute: 0\n"
     ]
    },
    {
     "name": "stderr",
     "output_type": "stream",
     "text": [
      "0it [00:00, ?it/s]\n"
     ]
    },
    {
     "name": "stdout",
     "output_type": "stream",
     "text": [
      "> /Users/matthieupichaud/pCloud Drive/Photos/2018/08/imagecluster_60\n",
      "# N_files: 456\n",
      "# N_entries_tocompute: 0\n"
     ]
    },
    {
     "name": "stderr",
     "output_type": "stream",
     "text": [
      "0it [00:00, ?it/s]\n"
     ]
    },
    {
     "name": "stdout",
     "output_type": "stream",
     "text": [
      "> /Users/matthieupichaud/pCloud Drive/Photos/2018/08/imagecluster_61\n",
      "# N_files: 456\n",
      "# N_entries_tocompute: 0\n"
     ]
    },
    {
     "name": "stderr",
     "output_type": "stream",
     "text": [
      "0it [00:00, ?it/s]\n"
     ]
    },
    {
     "name": "stdout",
     "output_type": "stream",
     "text": [
      "> /Users/matthieupichaud/pCloud Drive/Photos/2018/08/imagecluster_62\n",
      "# N_files: 456\n",
      "# N_entries_tocompute: 0\n"
     ]
    },
    {
     "name": "stderr",
     "output_type": "stream",
     "text": [
      "0it [00:00, ?it/s]\n"
     ]
    },
    {
     "name": "stdout",
     "output_type": "stream",
     "text": [
      "# - mediainfodb dataframe updated\n",
      "# - images compared\n",
      "# - cluster initialized\n",
      "# - clusters identified\n",
      "# - file mapping updated\n",
      "101 ['20180831_183309.jpg', 'IMG-20180831-WA0004.jpg', 'IMG-20180831-WA0007.jpg', 'IMG-20180831-WA0009.jpg']\n",
      "160 ['20180831_101841.jpg', 'IMG-20180831-WA0008.jpg']\n",
      "188 ['20180821_133620(0).jpg', '20180821_133620.jpg']\n",
      "349 ['IMG-20180831-WA0005.jpg', 'IMG-20180831-WA0006.jpg']\n",
      "350 ['IMG-20180826-WA0000.jpg', 'IMG-20180826-WA0002.jpg']\n",
      "352 ['IMG-20180828-WA0027.jpg', 'IMG-20180828-WA0032.jpg', 'IMG-20180830-WA0005.jpg']\n",
      "393 ['IMG-20180828-WA0023.jpg', 'IMG-20180828-WA0025.jpg']\n",
      "394 ['IMG-20180828-WA0030.jpg', 'IMG-20180831-WA0002.jpg']\n",
      "396 ['IMG-20180819-WA0001.jpg', 'IMG-20180819-WA0003.jpg']\n",
      "398 ['20180805_184430.jpg', '20180805_184433.jpg', 'IMG-20180806-WA0002.jpg']\n",
      "400 ['20180803_112844.jpg', 'IMG-20180803-WA0007.jpg']\n",
      "401 ['20180819_121548.jpg', 'IMG-20180819-WA0006.jpg']\n",
      "402 ['20180810_125340.jpg', 'IMG-20180810-WA0007.jpg']\n",
      "403 ['20180819_105952.jpg', 'IMG-20180819-WA0005.jpg']\n",
      "404 ['20180830_170322_001.jpg', '20180830_170322_002.jpg', '20180830_170322_003.jpg']\n",
      "407 ['20180817_110210.jpg', 'IMG-20180817-WA0006.jpg']\n",
      "408 ['20180810_130601.jpg', 'IMG-20180810-WA0005.jpg']\n",
      "409 ['20180825_145743.jpg', 'IMG-20180825-WA0002.jpg']\n",
      "410 ['20180820_093919.jpg', '20180820_093921.jpg']\n",
      "412 ['20180803_204007.jpg', '20180803_204010.jpg']\n",
      "414 ['20180810_130959.jpg', 'IMG-20180810-WA0004.jpg']\n",
      "415 ['20180830_103156.jpg', 'IMG-20180830-WA0001.jpg']\n",
      "416 ['20180819_132403.jpg', '20180819_132404.jpg', 'IMG-20180819-WA0008.jpg']\n",
      "418 ['20180828_162017.jpg', 'IMG-20180828-WA0038.jpg']\n",
      "419 ['20180801_203802.jpg', '20180801_203805.jpg', 'IMG-20180807-WA0004.jpg']\n",
      "421 ['20180828_180122.jpg', '20180828_180124.jpg']\n",
      "423 ['20180803_114740_001.jpg', '20180803_114740_002.jpg']\n",
      "425 ['20180827_190808(0).jpg', 'IMG-20180828-WA0035.jpg', '20180827_190810.jpg']\n",
      "436 ['IMG_2190.converted.jpg', 'IMG_2191.converted.jpg', 'IMG_2193.converted.jpg']\n",
      "452 ['IMG_2241.converted.jpg', 'IMG_2242.converted.jpg']\n",
      "456 ['20180816_164631_001.jpg', 'IMG-20180816-WA0002.jpg']\n",
      "457 ['20180814_091014.jpg', 'IMG-20180814-WA0001.jpg']\n",
      "458 ['20180825_144236.jpg', 'IMG-20180825-WA0003.jpg']\n",
      "459 ['20180801_105021.jpg', 'IMG-20180801-WA0004.jpg']\n",
      "460 ['20180803_115132.jpg', 'IMG-20180803-WA0008.jpg']\n",
      "461 ['20180808_113826.jpg', 'IMG-20180808-WA0001.jpg']\n",
      "462 ['20180827_184339.jpg', 'IMG-20180828-WA0036.jpg']\n",
      "463 ['20180828_170804.jpg', 'IMG-20180828-WA0022.jpg']\n",
      "464 ['20180817_112301.jpg', 'IMG-20180817-WA0005.jpg']\n",
      "465 ['20180808_113937.jpg', 'IMG-20180808-WA0000.jpg']\n",
      "466 ['20180809_142731.jpg', 'IMG-20180809-WA0001.jpg']\n",
      "467 ['20180820_142552.jpg', 'IMG-20180820-WA0001.jpg']\n",
      "468 ['20180822_093340.jpg', 'IMG-20180822-WA0000.jpg']\n",
      "469 ['20180828_175931.jpg', 'IMG-20180828-WA0026.jpg']\n",
      "470 ['20180801_112922.jpg', 'IMG-20180801-WA0003.jpg']\n",
      "471 ['20180801_122003.jpg', 'IMG-20180801-WA0001.jpg']\n",
      "472 ['20180817_113531.jpg', 'IMG-20180817-WA0007.jpg']\n",
      "473 ['20180810_125345.jpg', 'IMG-20180810-WA0003.jpg']\n",
      "474 ['20180805_134008.jpg', 'IMG-20180806-WA0004.jpg']\n",
      "475 ['20180819_102825.jpg', 'IMG-20180819-WA0002.jpg', 'IMG-20180819-WA0004.jpg']\n",
      "476 ['20180806_170310.jpg', 'IMG-20180807-WA0003.jpg']\n",
      "477 ['20180807_123240.jpg', 'IMG-20180807-WA0001.jpg']\n",
      "478 ['20180813_143438.jpg', 'IMG-20180814-WA0007.jpg']\n",
      "479 ['20180825_102030.jpg', 'IMG-20180825-WA0004.jpg']\n",
      "480 ['20180807_173850.jpg', 'IMG-20180807-WA0005.jpg']\n",
      "481 ['20180810_132145.jpg', 'IMG-20180810-WA0006.jpg']\n",
      "482 ['20180830_103018.jpg', 'IMG-20180830-WA0000.jpg']\n",
      "483 ['20180828_160058.jpg', 'IMG-20180828-WA0037.jpg']\n",
      "484 ['20180828_082033.jpg', 'IMG-20180828-WA0034.jpg']\n",
      "485 ['20180825_065252.jpg', 'IMG-20180825-WA0000.jpg']\n",
      "486 ['20180819_121828.jpg', 'IMG-20180819-WA0007.jpg']\n",
      "487 ['20180813_142744.jpg', 'IMG-20180814-WA0005.jpg']\n",
      "488 ['20180821_111126.jpg', 'IMG-20180821-WA0005.jpg', 'IMG-20180821-WA0006.jpg']\n",
      "489 ['20180830_103939.jpg', 'IMG-20180830-WA0002.jpg', 'IMG-20180830-WA0003.jpg']\n",
      "490 ['20180816_105557.jpg', 'IMG-20180816-WA0003.jpg']\n",
      "491 ['20180814_085727.jpg', 'IMG-20180814-WA0000.jpg']\n",
      "492 ['20180809_151719.jpg', 'IMG-20180814-WA0009.jpg']\n",
      "493 ['20180821_111124.jpg', 'IMG-20180821-WA0001.jpg']\n",
      "494 ['20180804_120047.jpg', 'IMG-20180805-WA0000.jpg']\n",
      "# - cluster folders created\n",
      "# - mediainfodb dataframe written to file\n",
      "====================================================================================================\n",
      "/Users/matthieupichaud/pCloud Drive/Photos/2018/09\n",
      "480\n",
      "# - file mapping created\n",
      "# - mediainfo collected\n",
      "# - missing media from media info: set()\n",
      "# N_entries_existing: 347\n",
      "> /Users/matthieupichaud/pCloud Drive/Photos/2018/09\n",
      "# N_files: 347\n",
      "# N_entries_tocompute: 82\n"
     ]
    },
    {
     "name": "stderr",
     "output_type": "stream",
     "text": [
      "100%|████████████████████████████████████████████████████████████████████████████████████████████████████████████████████████████████████████████████████████████████████████████████████████████████████| 82/82 [00:43<00:00,  1.89it/s]\n"
     ]
    },
    {
     "name": "stdout",
     "output_type": "stream",
     "text": [
      "> /Users/matthieupichaud/pCloud Drive/Photos/2018/09/imagecluster_0\n",
      "# N_files: 347\n",
      "# N_entries_tocompute: 0\n"
     ]
    },
    {
     "name": "stderr",
     "output_type": "stream",
     "text": [
      "0it [00:00, ?it/s]\n"
     ]
    },
    {
     "name": "stdout",
     "output_type": "stream",
     "text": [
      "> /Users/matthieupichaud/pCloud Drive/Photos/2018/09/imagecluster_1\n",
      "# N_files: 347\n",
      "# N_entries_tocompute: 0\n"
     ]
    },
    {
     "name": "stderr",
     "output_type": "stream",
     "text": [
      "0it [00:00, ?it/s]\n"
     ]
    },
    {
     "name": "stdout",
     "output_type": "stream",
     "text": [
      "> /Users/matthieupichaud/pCloud Drive/Photos/2018/09/imagecluster_2\n",
      "# N_files: 347\n",
      "# N_entries_tocompute: 0\n"
     ]
    },
    {
     "name": "stderr",
     "output_type": "stream",
     "text": [
      "0it [00:00, ?it/s]\n"
     ]
    },
    {
     "name": "stdout",
     "output_type": "stream",
     "text": [
      "> /Users/matthieupichaud/pCloud Drive/Photos/2018/09/imagecluster_3\n",
      "# N_files: 347\n",
      "# N_entries_tocompute: 0\n"
     ]
    },
    {
     "name": "stderr",
     "output_type": "stream",
     "text": [
      "0it [00:00, ?it/s]\n"
     ]
    },
    {
     "name": "stdout",
     "output_type": "stream",
     "text": [
      "> /Users/matthieupichaud/pCloud Drive/Photos/2018/09/imagecluster_4\n",
      "# N_files: 347\n",
      "# N_entries_tocompute: 0\n"
     ]
    },
    {
     "name": "stderr",
     "output_type": "stream",
     "text": [
      "0it [00:00, ?it/s]\n"
     ]
    },
    {
     "name": "stdout",
     "output_type": "stream",
     "text": [
      "> /Users/matthieupichaud/pCloud Drive/Photos/2018/09/imagecluster_5\n",
      "# N_files: 347\n",
      "# N_entries_tocompute: 0\n"
     ]
    },
    {
     "name": "stderr",
     "output_type": "stream",
     "text": [
      "0it [00:00, ?it/s]\n"
     ]
    },
    {
     "name": "stdout",
     "output_type": "stream",
     "text": [
      "> /Users/matthieupichaud/pCloud Drive/Photos/2018/09/imagecluster_6\n",
      "# N_files: 347\n",
      "# N_entries_tocompute: 0\n"
     ]
    },
    {
     "name": "stderr",
     "output_type": "stream",
     "text": [
      "0it [00:00, ?it/s]\n"
     ]
    },
    {
     "name": "stdout",
     "output_type": "stream",
     "text": [
      "> /Users/matthieupichaud/pCloud Drive/Photos/2018/09/imagecluster_7\n",
      "# N_files: 347\n",
      "# N_entries_tocompute: 0\n"
     ]
    },
    {
     "name": "stderr",
     "output_type": "stream",
     "text": [
      "0it [00:00, ?it/s]\n"
     ]
    },
    {
     "name": "stdout",
     "output_type": "stream",
     "text": [
      "> /Users/matthieupichaud/pCloud Drive/Photos/2018/09/imagecluster_8\n",
      "# N_files: 347\n",
      "# N_entries_tocompute: 0\n"
     ]
    },
    {
     "name": "stderr",
     "output_type": "stream",
     "text": [
      "0it [00:00, ?it/s]\n"
     ]
    },
    {
     "name": "stdout",
     "output_type": "stream",
     "text": [
      "> /Users/matthieupichaud/pCloud Drive/Photos/2018/09/imagecluster_9\n",
      "# N_files: 347\n",
      "# N_entries_tocompute: 0\n"
     ]
    },
    {
     "name": "stderr",
     "output_type": "stream",
     "text": [
      "0it [00:00, ?it/s]\n"
     ]
    },
    {
     "name": "stdout",
     "output_type": "stream",
     "text": [
      "> /Users/matthieupichaud/pCloud Drive/Photos/2018/09/imagecluster_10\n",
      "# N_files: 347\n",
      "# N_entries_tocompute: 0\n"
     ]
    },
    {
     "name": "stderr",
     "output_type": "stream",
     "text": [
      "0it [00:00, ?it/s]\n"
     ]
    },
    {
     "name": "stdout",
     "output_type": "stream",
     "text": [
      "> /Users/matthieupichaud/pCloud Drive/Photos/2018/09/imagecluster_11\n",
      "# N_files: 347\n",
      "# N_entries_tocompute: 0\n"
     ]
    },
    {
     "name": "stderr",
     "output_type": "stream",
     "text": [
      "0it [00:00, ?it/s]\n"
     ]
    },
    {
     "name": "stdout",
     "output_type": "stream",
     "text": [
      "> /Users/matthieupichaud/pCloud Drive/Photos/2018/09/imagecluster_12\n",
      "# N_files: 347\n",
      "# N_entries_tocompute: 0\n"
     ]
    },
    {
     "name": "stderr",
     "output_type": "stream",
     "text": [
      "0it [00:00, ?it/s]\n"
     ]
    },
    {
     "name": "stdout",
     "output_type": "stream",
     "text": [
      "> /Users/matthieupichaud/pCloud Drive/Photos/2018/09/imagecluster_13\n",
      "# N_files: 347\n",
      "# N_entries_tocompute: 0\n"
     ]
    },
    {
     "name": "stderr",
     "output_type": "stream",
     "text": [
      "0it [00:00, ?it/s]\n"
     ]
    },
    {
     "name": "stdout",
     "output_type": "stream",
     "text": [
      "> /Users/matthieupichaud/pCloud Drive/Photos/2018/09/imagecluster_14\n",
      "# N_files: 347\n",
      "# N_entries_tocompute: 0\n"
     ]
    },
    {
     "name": "stderr",
     "output_type": "stream",
     "text": [
      "0it [00:00, ?it/s]\n"
     ]
    },
    {
     "name": "stdout",
     "output_type": "stream",
     "text": [
      "> /Users/matthieupichaud/pCloud Drive/Photos/2018/09/imagecluster_15\n",
      "# N_files: 347\n",
      "# N_entries_tocompute: 0\n"
     ]
    },
    {
     "name": "stderr",
     "output_type": "stream",
     "text": [
      "0it [00:00, ?it/s]\n"
     ]
    },
    {
     "name": "stdout",
     "output_type": "stream",
     "text": [
      "> /Users/matthieupichaud/pCloud Drive/Photos/2018/09/imagecluster_16\n",
      "# N_files: 347\n",
      "# N_entries_tocompute: 0\n"
     ]
    },
    {
     "name": "stderr",
     "output_type": "stream",
     "text": [
      "0it [00:00, ?it/s]\n"
     ]
    },
    {
     "name": "stdout",
     "output_type": "stream",
     "text": [
      "> /Users/matthieupichaud/pCloud Drive/Photos/2018/09/imagecluster_17\n",
      "# N_files: 347\n",
      "# N_entries_tocompute: 0\n"
     ]
    },
    {
     "name": "stderr",
     "output_type": "stream",
     "text": [
      "0it [00:00, ?it/s]\n"
     ]
    },
    {
     "name": "stdout",
     "output_type": "stream",
     "text": [
      "> /Users/matthieupichaud/pCloud Drive/Photos/2018/09/imagecluster_18\n",
      "# N_files: 347\n",
      "# N_entries_tocompute: 0\n"
     ]
    },
    {
     "name": "stderr",
     "output_type": "stream",
     "text": [
      "0it [00:00, ?it/s]\n"
     ]
    },
    {
     "name": "stdout",
     "output_type": "stream",
     "text": [
      "> /Users/matthieupichaud/pCloud Drive/Photos/2018/09/imagecluster_19\n",
      "# N_files: 347\n",
      "# N_entries_tocompute: 0\n"
     ]
    },
    {
     "name": "stderr",
     "output_type": "stream",
     "text": [
      "0it [00:00, ?it/s]\n"
     ]
    },
    {
     "name": "stdout",
     "output_type": "stream",
     "text": [
      "> /Users/matthieupichaud/pCloud Drive/Photos/2018/09/imagecluster_20\n",
      "# N_files: 347\n",
      "# N_entries_tocompute: 0\n"
     ]
    },
    {
     "name": "stderr",
     "output_type": "stream",
     "text": [
      "0it [00:00, ?it/s]\n"
     ]
    },
    {
     "name": "stdout",
     "output_type": "stream",
     "text": [
      "> /Users/matthieupichaud/pCloud Drive/Photos/2018/09/imagecluster_21\n",
      "# N_files: 347\n",
      "# N_entries_tocompute: 0\n"
     ]
    },
    {
     "name": "stderr",
     "output_type": "stream",
     "text": [
      "0it [00:00, ?it/s]\n"
     ]
    },
    {
     "name": "stdout",
     "output_type": "stream",
     "text": [
      "> /Users/matthieupichaud/pCloud Drive/Photos/2018/09/imagecluster_22\n",
      "# N_files: 347\n",
      "# N_entries_tocompute: 0\n"
     ]
    },
    {
     "name": "stderr",
     "output_type": "stream",
     "text": [
      "0it [00:00, ?it/s]\n"
     ]
    },
    {
     "name": "stdout",
     "output_type": "stream",
     "text": [
      "> /Users/matthieupichaud/pCloud Drive/Photos/2018/09/imagecluster_23\n",
      "# N_files: 347\n",
      "# N_entries_tocompute: 0\n"
     ]
    },
    {
     "name": "stderr",
     "output_type": "stream",
     "text": [
      "0it [00:00, ?it/s]\n"
     ]
    },
    {
     "name": "stdout",
     "output_type": "stream",
     "text": [
      "> /Users/matthieupichaud/pCloud Drive/Photos/2018/09/imagecluster_24\n",
      "# N_files: 347\n",
      "# N_entries_tocompute: 0\n"
     ]
    },
    {
     "name": "stderr",
     "output_type": "stream",
     "text": [
      "0it [00:00, ?it/s]\n"
     ]
    },
    {
     "name": "stdout",
     "output_type": "stream",
     "text": [
      "> /Users/matthieupichaud/pCloud Drive/Photos/2018/09/imagecluster_25\n",
      "# N_files: 347\n",
      "# N_entries_tocompute: 0\n"
     ]
    },
    {
     "name": "stderr",
     "output_type": "stream",
     "text": [
      "0it [00:00, ?it/s]\n"
     ]
    },
    {
     "name": "stdout",
     "output_type": "stream",
     "text": [
      "> /Users/matthieupichaud/pCloud Drive/Photos/2018/09/imagecluster_26\n",
      "# N_files: 347\n",
      "# N_entries_tocompute: 0\n"
     ]
    },
    {
     "name": "stderr",
     "output_type": "stream",
     "text": [
      "0it [00:00, ?it/s]\n"
     ]
    },
    {
     "name": "stdout",
     "output_type": "stream",
     "text": [
      "> /Users/matthieupichaud/pCloud Drive/Photos/2018/09/imagecluster_27\n",
      "# N_files: 347\n",
      "# N_entries_tocompute: 0\n"
     ]
    },
    {
     "name": "stderr",
     "output_type": "stream",
     "text": [
      "0it [00:00, ?it/s]\n"
     ]
    },
    {
     "name": "stdout",
     "output_type": "stream",
     "text": [
      "> /Users/matthieupichaud/pCloud Drive/Photos/2018/09/imagecluster_28\n",
      "# N_files: 347\n",
      "# N_entries_tocompute: 0\n"
     ]
    },
    {
     "name": "stderr",
     "output_type": "stream",
     "text": [
      "0it [00:00, ?it/s]\n"
     ]
    },
    {
     "name": "stdout",
     "output_type": "stream",
     "text": [
      "> /Users/matthieupichaud/pCloud Drive/Photos/2018/09/imagecluster_29\n",
      "# N_files: 347\n",
      "# N_entries_tocompute: 0\n"
     ]
    },
    {
     "name": "stderr",
     "output_type": "stream",
     "text": [
      "0it [00:00, ?it/s]\n"
     ]
    },
    {
     "name": "stdout",
     "output_type": "stream",
     "text": [
      "> /Users/matthieupichaud/pCloud Drive/Photos/2018/09/imagecluster_30\n",
      "# N_files: 347\n",
      "# N_entries_tocompute: 0\n"
     ]
    },
    {
     "name": "stderr",
     "output_type": "stream",
     "text": [
      "0it [00:00, ?it/s]\n"
     ]
    },
    {
     "name": "stdout",
     "output_type": "stream",
     "text": [
      "> /Users/matthieupichaud/pCloud Drive/Photos/2018/09/imagecluster_31\n",
      "# N_files: 347\n",
      "# N_entries_tocompute: 0\n"
     ]
    },
    {
     "name": "stderr",
     "output_type": "stream",
     "text": [
      "0it [00:00, ?it/s]\n"
     ]
    },
    {
     "name": "stdout",
     "output_type": "stream",
     "text": [
      "# - mediainfodb dataframe updated\n",
      "# - images compared\n",
      "# - cluster initialized\n",
      "# - clusters identified\n",
      "# - file mapping updated\n",
      "41 ['20180920_181738.jpg', 'IMG-20180930-WA0013.jpg']\n",
      "59 ['20180923_142617.jpg', 'IMG-20180930-WA0014.jpg']\n",
      "66 ['20180923_144046.jpg', 'IMG-20180930-WA0015.jpg']\n",
      "70 ['20180923_150527.jpg', 'IMG-20180930-WA0016.jpg']\n",
      "76 ['20180930_140824.jpg', 'IMG-20180930-WA0004.jpg']\n",
      "274 ['IMG-20180915-WA0000.jpg', 'IMG-20180915-WA0001.jpg']\n",
      "291 ['IMG-20180901-WA0000.jpg', 'IMG-20180901-WA0001.jpg']\n",
      "299 ['IMG-20180901-WA0009.jpg', 'IMG-20180901-WA0010.jpg', 'IMG-20180930-WA0007.jpg']\n",
      "315 ['IMG-20180903-WA0001.jpg', 'IMG-20180903-WA0002.jpg', 'IMG-20180905-WA0001.jpg']\n",
      "317 ['IMG-20180903-WA0004.jpg', 'IMG-20180903-WA0005.jpg']\n",
      "318 ['IMG-20180903-WA0000.jpg', 'IMG-20180903-WA0006.jpg']\n",
      "320 ['20180902_110517.jpg', '20180902_110518.jpg', 'IMG-20180930-WA0009.jpg']\n",
      "323 ['20180923_135939.jpg', '20180923_135940.jpg', 'IMG-20180923-WA0002.jpg']\n",
      "325 ['20180902_102325.jpg', '20180902_102326.jpg']\n",
      "327 ['20180919_182806.jpg', '20180919_182807.jpg', '20180919_182809.jpg', 'IMG-20180922-WA0000.jpg']\n",
      "328 ['20180908_125019_001.jpg', '20180908_125019_003.jpg', '20180908_125019_004.jpg', '20180908_125019_002.jpg']\n",
      "332 ['20180909_140853.jpg', '20180909_140854.jpg']\n",
      "334 ['20180901_171540.jpg', '20180901_171542.jpg', '20180901_171545.jpg']\n",
      "337 ['20180911_132130_001.jpg', '20180911_132130_002.jpg']\n",
      "339 ['20180911_131938.jpg', 'IMG-20180911-WA0000.jpg']\n",
      "341 ['20180912_105451.jpg', 'IMG-20180912-WA0000.jpg']\n",
      "345 ['20180915_123023.jpg', 'IMG-20180915-WA0002.jpg']\n",
      "357 ['20180904_133140.jpg', 'IMG-20180904-WA0022.jpg']\n",
      "365 ['20180904_133127.jpg', 'IMG-20180904-WA0020.jpg']\n",
      "372 ['20180904_133135.jpg', 'IMG-20180904-WA0021.jpg']\n",
      "378 ['20180929_090249.jpg', '20180929_090250.jpg']\n",
      "397 ['20180919_195207_006.jpg', '20180919_195207_007.jpg', '20180919_195207_008.jpg', '20180919_195207_001.jpg', '20180919_195207_003.jpg', '20180919_195207_002.jpg', '20180919_195207_018.jpg', '20180919_195207_017.jpg', '20180919_195207_005.jpg', '20180919_195207_004.jpg', '20180919_195207_016.jpg', '20180919_195207_015.jpg', '20180919_195207_013.jpg', '20180919_195207_014.jpg', '20180919_195207_019.jpg', '20180919_195207_023.jpg', '20180919_195207_020.jpg', '20180919_195207_021.jpg', '20180919_195207_022.jpg', '20180919_195207_010.jpg', '20180919_195207_011.jpg', '20180919_195207_012.jpg', '20180919_195207_009.jpg']\n",
      "407 ['20180902_102219.jpg', 'IMG-20180904-WA0023.jpg', 'IMG-20180904-WA0024.jpg', 'IMG-20180930-WA0005.jpg']\n",
      "408 ['20180923_132513.jpg', 'IMG-20180923-WA0003.jpg']\n",
      "409 ['20180929_140744.jpg', 'IMG-20180929-WA0000.jpg']\n",
      "410 ['20180923_132432.jpg', 'IMG-20180923-WA0001.jpg']\n",
      "411 ['20180905_081940.jpg', 'IMG-20180905-WA0000.jpg']\n",
      "412 ['20180901_111020.jpg', 'IMG-20180901-WA0005.jpg']\n",
      "413 ['20180915_145316.jpg', 'IMG-20180915-WA0004.jpg']\n",
      "414 ['20180901_104425.jpg', 'IMG-20180901-WA0008.jpg']\n",
      "415 ['20180901_170229.jpg', 'IMG-20180902-WA0002.jpg']\n",
      "416 ['20180901_171352.jpg', 'IMG-20180902-WA0003.jpg']\n",
      "417 ['20180908_125018.jpg', 'IMG-20180908-WA0002.jpg']\n",
      "418 ['20180915_145811.jpg', 'IMG-20180915-WA0005.jpg']\n",
      "419 ['20180901_105639.jpg', 'IMG-20180901-WA0007.jpg']\n",
      "420 ['20180901_110023.jpg', 'IMG-20180905-WA0003.jpg']\n",
      "421 ['20180901_110027.jpg', 'IMG-20180901-WA0006.jpg']\n",
      "422 ['IMG-20180831-WA0004.jpg', 'IMG-20180831-WA0007.jpg', 'IMG-20180831-WA0009.jpg', 'IMG-20180901-WA0002.jpg', 'IMG-20180905-WA0002.jpg']\n",
      "427 ['IMG-20180831-WA0005.jpg', 'IMG-20180831-WA0006.jpg']\n",
      "# - cluster folders created\n",
      "# - mediainfodb dataframe written to file\n",
      "====================================================================================================\n",
      "/Users/matthieupichaud/pCloud Drive/Photos/2018/10\n",
      "505\n",
      "# - file mapping created\n",
      "# - mediainfo collected\n",
      "# - missing media from media info: set()\n",
      "# N_entries_existing: 403\n",
      "> /Users/matthieupichaud/pCloud Drive/Photos/2018/10\n",
      "# N_files: 403\n",
      "# N_entries_tocompute: 35\n"
     ]
    },
    {
     "name": "stderr",
     "output_type": "stream",
     "text": [
      "100%|████████████████████████████████████████████████████████████████████████████████████████████████████████████████████████████████████████████████████████████████████████████████████████████████████| 35/35 [00:16<00:00,  2.09it/s]\n"
     ]
    },
    {
     "name": "stdout",
     "output_type": "stream",
     "text": [
      "> /Users/matthieupichaud/pCloud Drive/Photos/2018/10/imagecluster_0\n",
      "# N_files: 403\n",
      "# N_entries_tocompute: 0\n"
     ]
    },
    {
     "name": "stderr",
     "output_type": "stream",
     "text": [
      "0it [00:00, ?it/s]\n"
     ]
    },
    {
     "name": "stdout",
     "output_type": "stream",
     "text": [
      "> /Users/matthieupichaud/pCloud Drive/Photos/2018/10/imagecluster_1\n",
      "# N_files: 403\n",
      "# N_entries_tocompute: 0\n"
     ]
    },
    {
     "name": "stderr",
     "output_type": "stream",
     "text": [
      "0it [00:00, ?it/s]\n"
     ]
    },
    {
     "name": "stdout",
     "output_type": "stream",
     "text": [
      "> /Users/matthieupichaud/pCloud Drive/Photos/2018/10/imagecluster_2\n",
      "# N_files: 403\n",
      "# N_entries_tocompute: 0\n"
     ]
    },
    {
     "name": "stderr",
     "output_type": "stream",
     "text": [
      "0it [00:00, ?it/s]\n"
     ]
    },
    {
     "name": "stdout",
     "output_type": "stream",
     "text": [
      "> /Users/matthieupichaud/pCloud Drive/Photos/2018/10/imagecluster_3\n",
      "# N_files: 403\n",
      "# N_entries_tocompute: 0\n"
     ]
    },
    {
     "name": "stderr",
     "output_type": "stream",
     "text": [
      "0it [00:00, ?it/s]\n"
     ]
    },
    {
     "name": "stdout",
     "output_type": "stream",
     "text": [
      "> /Users/matthieupichaud/pCloud Drive/Photos/2018/10/imagecluster_4\n",
      "# N_files: 403\n",
      "# N_entries_tocompute: 0\n"
     ]
    },
    {
     "name": "stderr",
     "output_type": "stream",
     "text": [
      "0it [00:00, ?it/s]\n"
     ]
    },
    {
     "name": "stdout",
     "output_type": "stream",
     "text": [
      "> /Users/matthieupichaud/pCloud Drive/Photos/2018/10/imagecluster_5\n",
      "# N_files: 403\n",
      "# N_entries_tocompute: 0\n"
     ]
    },
    {
     "name": "stderr",
     "output_type": "stream",
     "text": [
      "0it [00:00, ?it/s]\n"
     ]
    },
    {
     "name": "stdout",
     "output_type": "stream",
     "text": [
      "> /Users/matthieupichaud/pCloud Drive/Photos/2018/10/imagecluster_6\n",
      "# N_files: 403\n",
      "# N_entries_tocompute: 0\n"
     ]
    },
    {
     "name": "stderr",
     "output_type": "stream",
     "text": [
      "0it [00:00, ?it/s]\n"
     ]
    },
    {
     "name": "stdout",
     "output_type": "stream",
     "text": [
      "> /Users/matthieupichaud/pCloud Drive/Photos/2018/10/imagecluster_7\n",
      "# N_files: 403\n",
      "# N_entries_tocompute: 0\n"
     ]
    },
    {
     "name": "stderr",
     "output_type": "stream",
     "text": [
      "0it [00:00, ?it/s]\n"
     ]
    },
    {
     "name": "stdout",
     "output_type": "stream",
     "text": [
      "> /Users/matthieupichaud/pCloud Drive/Photos/2018/10/imagecluster_8\n",
      "# N_files: 403\n",
      "# N_entries_tocompute: 0\n"
     ]
    },
    {
     "name": "stderr",
     "output_type": "stream",
     "text": [
      "0it [00:00, ?it/s]\n"
     ]
    },
    {
     "name": "stdout",
     "output_type": "stream",
     "text": [
      "> /Users/matthieupichaud/pCloud Drive/Photos/2018/10/imagecluster_9\n",
      "# N_files: 403\n",
      "# N_entries_tocompute: 0\n"
     ]
    },
    {
     "name": "stderr",
     "output_type": "stream",
     "text": [
      "0it [00:00, ?it/s]\n"
     ]
    },
    {
     "name": "stdout",
     "output_type": "stream",
     "text": [
      "> /Users/matthieupichaud/pCloud Drive/Photos/2018/10/imagecluster_10\n",
      "# N_files: 403\n",
      "# N_entries_tocompute: 0\n"
     ]
    },
    {
     "name": "stderr",
     "output_type": "stream",
     "text": [
      "0it [00:00, ?it/s]\n"
     ]
    },
    {
     "name": "stdout",
     "output_type": "stream",
     "text": [
      "> /Users/matthieupichaud/pCloud Drive/Photos/2018/10/imagecluster_11\n",
      "# N_files: 403\n",
      "# N_entries_tocompute: 0\n"
     ]
    },
    {
     "name": "stderr",
     "output_type": "stream",
     "text": [
      "0it [00:00, ?it/s]\n"
     ]
    },
    {
     "name": "stdout",
     "output_type": "stream",
     "text": [
      "> /Users/matthieupichaud/pCloud Drive/Photos/2018/10/imagecluster_12\n",
      "# N_files: 403\n",
      "# N_entries_tocompute: 0\n"
     ]
    },
    {
     "name": "stderr",
     "output_type": "stream",
     "text": [
      "0it [00:00, ?it/s]\n"
     ]
    },
    {
     "name": "stdout",
     "output_type": "stream",
     "text": [
      "> /Users/matthieupichaud/pCloud Drive/Photos/2018/10/imagecluster_13\n",
      "# N_files: 403\n",
      "# N_entries_tocompute: 0\n"
     ]
    },
    {
     "name": "stderr",
     "output_type": "stream",
     "text": [
      "0it [00:00, ?it/s]\n"
     ]
    },
    {
     "name": "stdout",
     "output_type": "stream",
     "text": [
      "> /Users/matthieupichaud/pCloud Drive/Photos/2018/10/imagecluster_14\n",
      "# N_files: 403\n",
      "# N_entries_tocompute: 0\n"
     ]
    },
    {
     "name": "stderr",
     "output_type": "stream",
     "text": [
      "0it [00:00, ?it/s]\n"
     ]
    },
    {
     "name": "stdout",
     "output_type": "stream",
     "text": [
      "> /Users/matthieupichaud/pCloud Drive/Photos/2018/10/imagecluster_15\n",
      "# N_files: 403\n",
      "# N_entries_tocompute: 0\n"
     ]
    },
    {
     "name": "stderr",
     "output_type": "stream",
     "text": [
      "0it [00:00, ?it/s]\n"
     ]
    },
    {
     "name": "stdout",
     "output_type": "stream",
     "text": [
      "> /Users/matthieupichaud/pCloud Drive/Photos/2018/10/imagecluster_16\n",
      "# N_files: 403\n",
      "# N_entries_tocompute: 0\n"
     ]
    },
    {
     "name": "stderr",
     "output_type": "stream",
     "text": [
      "0it [00:00, ?it/s]\n"
     ]
    },
    {
     "name": "stdout",
     "output_type": "stream",
     "text": [
      "> /Users/matthieupichaud/pCloud Drive/Photos/2018/10/imagecluster_17\n",
      "# N_files: 403\n",
      "# N_entries_tocompute: 0\n"
     ]
    },
    {
     "name": "stderr",
     "output_type": "stream",
     "text": [
      "0it [00:00, ?it/s]\n"
     ]
    },
    {
     "name": "stdout",
     "output_type": "stream",
     "text": [
      "> /Users/matthieupichaud/pCloud Drive/Photos/2018/10/imagecluster_18\n",
      "# N_files: 403\n",
      "# N_entries_tocompute: 0\n"
     ]
    },
    {
     "name": "stderr",
     "output_type": "stream",
     "text": [
      "0it [00:00, ?it/s]\n"
     ]
    },
    {
     "name": "stdout",
     "output_type": "stream",
     "text": [
      "> /Users/matthieupichaud/pCloud Drive/Photos/2018/10/imagecluster_19\n",
      "# N_files: 403\n",
      "# N_entries_tocompute: 0\n"
     ]
    },
    {
     "name": "stderr",
     "output_type": "stream",
     "text": [
      "0it [00:00, ?it/s]\n"
     ]
    },
    {
     "name": "stdout",
     "output_type": "stream",
     "text": [
      "> /Users/matthieupichaud/pCloud Drive/Photos/2018/10/imagecluster_20\n",
      "# N_files: 403\n",
      "# N_entries_tocompute: 0\n"
     ]
    },
    {
     "name": "stderr",
     "output_type": "stream",
     "text": [
      "0it [00:00, ?it/s]\n"
     ]
    },
    {
     "name": "stdout",
     "output_type": "stream",
     "text": [
      "> /Users/matthieupichaud/pCloud Drive/Photos/2018/10/imagecluster_21\n",
      "# N_files: 403\n",
      "# N_entries_tocompute: 0\n"
     ]
    },
    {
     "name": "stderr",
     "output_type": "stream",
     "text": [
      "0it [00:00, ?it/s]\n"
     ]
    },
    {
     "name": "stdout",
     "output_type": "stream",
     "text": [
      "> /Users/matthieupichaud/pCloud Drive/Photos/2018/10/imagecluster_22\n",
      "# N_files: 403\n",
      "# N_entries_tocompute: 0\n"
     ]
    },
    {
     "name": "stderr",
     "output_type": "stream",
     "text": [
      "0it [00:00, ?it/s]\n"
     ]
    },
    {
     "name": "stdout",
     "output_type": "stream",
     "text": [
      "> /Users/matthieupichaud/pCloud Drive/Photos/2018/10/imagecluster_23\n",
      "# N_files: 403\n",
      "# N_entries_tocompute: 0\n"
     ]
    },
    {
     "name": "stderr",
     "output_type": "stream",
     "text": [
      "0it [00:00, ?it/s]\n"
     ]
    },
    {
     "name": "stdout",
     "output_type": "stream",
     "text": [
      "> /Users/matthieupichaud/pCloud Drive/Photos/2018/10/imagecluster_24\n",
      "# N_files: 403\n",
      "# N_entries_tocompute: 0\n"
     ]
    },
    {
     "name": "stderr",
     "output_type": "stream",
     "text": [
      "0it [00:00, ?it/s]\n"
     ]
    },
    {
     "name": "stdout",
     "output_type": "stream",
     "text": [
      "> /Users/matthieupichaud/pCloud Drive/Photos/2018/10/imagecluster_25\n",
      "# N_files: 403\n",
      "# N_entries_tocompute: 0\n"
     ]
    },
    {
     "name": "stderr",
     "output_type": "stream",
     "text": [
      "0it [00:00, ?it/s]\n"
     ]
    },
    {
     "name": "stdout",
     "output_type": "stream",
     "text": [
      "> /Users/matthieupichaud/pCloud Drive/Photos/2018/10/imagecluster_26\n",
      "# N_files: 403\n",
      "# N_entries_tocompute: 0\n"
     ]
    },
    {
     "name": "stderr",
     "output_type": "stream",
     "text": [
      "0it [00:00, ?it/s]\n"
     ]
    },
    {
     "name": "stdout",
     "output_type": "stream",
     "text": [
      "> /Users/matthieupichaud/pCloud Drive/Photos/2018/10/imagecluster_27\n",
      "# N_files: 403\n",
      "# N_entries_tocompute: 0\n"
     ]
    },
    {
     "name": "stderr",
     "output_type": "stream",
     "text": [
      "0it [00:00, ?it/s]\n"
     ]
    },
    {
     "name": "stdout",
     "output_type": "stream",
     "text": [
      "> /Users/matthieupichaud/pCloud Drive/Photos/2018/10/imagecluster_28\n",
      "# N_files: 403\n",
      "# N_entries_tocompute: 0\n"
     ]
    },
    {
     "name": "stderr",
     "output_type": "stream",
     "text": [
      "0it [00:00, ?it/s]\n"
     ]
    },
    {
     "name": "stdout",
     "output_type": "stream",
     "text": [
      "> /Users/matthieupichaud/pCloud Drive/Photos/2018/10/imagecluster_29\n",
      "# N_files: 403\n",
      "# N_entries_tocompute: 0\n"
     ]
    },
    {
     "name": "stderr",
     "output_type": "stream",
     "text": [
      "0it [00:00, ?it/s]\n"
     ]
    },
    {
     "name": "stdout",
     "output_type": "stream",
     "text": [
      "> /Users/matthieupichaud/pCloud Drive/Photos/2018/10/imagecluster_30\n",
      "# N_files: 403\n",
      "# N_entries_tocompute: 0\n"
     ]
    },
    {
     "name": "stderr",
     "output_type": "stream",
     "text": [
      "0it [00:00, ?it/s]\n"
     ]
    },
    {
     "name": "stdout",
     "output_type": "stream",
     "text": [
      "> /Users/matthieupichaud/pCloud Drive/Photos/2018/10/imagecluster_31\n",
      "# N_files: 403\n",
      "# N_entries_tocompute: 0\n"
     ]
    },
    {
     "name": "stderr",
     "output_type": "stream",
     "text": [
      "0it [00:00, ?it/s]\n"
     ]
    },
    {
     "name": "stdout",
     "output_type": "stream",
     "text": [
      "> /Users/matthieupichaud/pCloud Drive/Photos/2018/10/imagecluster_32\n",
      "# N_files: 403\n",
      "# N_entries_tocompute: 0\n"
     ]
    },
    {
     "name": "stderr",
     "output_type": "stream",
     "text": [
      "0it [00:00, ?it/s]\n"
     ]
    },
    {
     "name": "stdout",
     "output_type": "stream",
     "text": [
      "> /Users/matthieupichaud/pCloud Drive/Photos/2018/10/imagecluster_33\n",
      "# N_files: 403\n",
      "# N_entries_tocompute: 0\n"
     ]
    },
    {
     "name": "stderr",
     "output_type": "stream",
     "text": [
      "0it [00:00, ?it/s]\n"
     ]
    },
    {
     "name": "stdout",
     "output_type": "stream",
     "text": [
      "> /Users/matthieupichaud/pCloud Drive/Photos/2018/10/imagecluster_34\n",
      "# N_files: 403\n",
      "# N_entries_tocompute: 0\n"
     ]
    },
    {
     "name": "stderr",
     "output_type": "stream",
     "text": [
      "0it [00:00, ?it/s]\n"
     ]
    },
    {
     "name": "stdout",
     "output_type": "stream",
     "text": [
      "> /Users/matthieupichaud/pCloud Drive/Photos/2018/10/imagecluster_35\n",
      "# N_files: 403\n",
      "# N_entries_tocompute: 0\n"
     ]
    },
    {
     "name": "stderr",
     "output_type": "stream",
     "text": [
      "0it [00:00, ?it/s]\n"
     ]
    },
    {
     "name": "stdout",
     "output_type": "stream",
     "text": [
      "> /Users/matthieupichaud/pCloud Drive/Photos/2018/10/imagecluster_36\n",
      "# N_files: 403\n",
      "# N_entries_tocompute: 0\n"
     ]
    },
    {
     "name": "stderr",
     "output_type": "stream",
     "text": [
      "0it [00:00, ?it/s]\n"
     ]
    },
    {
     "name": "stdout",
     "output_type": "stream",
     "text": [
      "> /Users/matthieupichaud/pCloud Drive/Photos/2018/10/imagecluster_37\n",
      "# N_files: 403\n",
      "# N_entries_tocompute: 0\n"
     ]
    },
    {
     "name": "stderr",
     "output_type": "stream",
     "text": [
      "0it [00:00, ?it/s]\n"
     ]
    },
    {
     "name": "stdout",
     "output_type": "stream",
     "text": [
      "> /Users/matthieupichaud/pCloud Drive/Photos/2018/10/imagecluster_38\n",
      "# N_files: 403\n",
      "# N_entries_tocompute: 0\n"
     ]
    },
    {
     "name": "stderr",
     "output_type": "stream",
     "text": [
      "0it [00:00, ?it/s]\n"
     ]
    },
    {
     "name": "stdout",
     "output_type": "stream",
     "text": [
      "> /Users/matthieupichaud/pCloud Drive/Photos/2018/10/imagecluster_39\n",
      "# N_files: 403\n",
      "# N_entries_tocompute: 0\n"
     ]
    },
    {
     "name": "stderr",
     "output_type": "stream",
     "text": [
      "0it [00:00, ?it/s]\n"
     ]
    },
    {
     "name": "stdout",
     "output_type": "stream",
     "text": [
      "> /Users/matthieupichaud/pCloud Drive/Photos/2018/10/imagecluster_40\n",
      "# N_files: 403\n",
      "# N_entries_tocompute: 0\n"
     ]
    },
    {
     "name": "stderr",
     "output_type": "stream",
     "text": [
      "0it [00:00, ?it/s]"
     ]
    },
    {
     "name": "stdout",
     "output_type": "stream",
     "text": [
      "# - mediainfodb dataframe updated"
     ]
    },
    {
     "name": "stderr",
     "output_type": "stream",
     "text": [
      "\n"
     ]
    },
    {
     "name": "stdout",
     "output_type": "stream",
     "text": [
      "\n",
      "# - images compared\n",
      "# - cluster initialized\n",
      "# - clusters identified\n",
      "# - file mapping updated\n",
      "67 ['IMG-20181031-WA0013.jpg', 'IMG_3992.JPG']\n",
      "138 ['20181031_180712.jpg', 'IMG-20181031-WA0008.jpg']\n",
      "184 ['20181031_181229.jpg', 'IMG-20181031-WA0007.jpg']\n",
      "356 ['20181013_164920.jpg', '20181013_164929.jpg', '20181013_164912.jpg', '20181013_164933.jpg', '20181013_164918.jpg', '20181013_164936.jpg']\n",
      "360 ['20181027_150238.jpg', '20181027_150237.jpg', '20181027_150241.jpg', 'IMG-20181027-WA0019.jpg', 'IMG-20181027-WA0020.jpg', 'IMG-20181027-WA0021.jpg']\n",
      "361 ['20181020_154527.jpg', 'IMG-20181020-WA0004.jpg']\n",
      "362 ['20181022_163313.jpg', 'IMG-20181022-WA0003.jpg']\n",
      "363 ['20181022_151941.jpg', '20181022_151942.jpg']\n",
      "365 ['20181026_145007.jpg', '20181026_145009.jpg']\n",
      "367 ['20181026_164213_001.jpg', 'IMG-20181026-WA0009.jpg']\n",
      "368 ['20181014_154602.jpg', '20181014_154603.jpg']\n",
      "370 ['20181014_151028.jpg', '20181014_151032.jpg', 'IMG-20181015-WA0003.jpg']\n",
      "372 ['20181026_161845.jpg', '20181026_161848.jpg', 'IMG-20181026-WA0013.jpg']\n",
      "374 ['20181022_151858.jpg', '20181022_151859.jpg', 'IMG-20181022-WA0002.jpg']\n",
      "376 ['20181014_133330.jpg', '20181014_133337.jpg', '20181014_133332.jpg']\n",
      "379 ['20181025_125058.jpg', '20181025_125100.jpg']\n",
      "381 ['20181030_214243.jpg', 'IMG-20181030-WA0000.jpg']\n",
      "382 ['20181014_140434.jpg', '20181014_140435.jpg', 'IMG-20181015-WA0005.jpg']\n",
      "411 ['2018-10-10 636.JPG', 'IMG_3997.JPG']\n",
      "412 ['20181028_091938.jpg', 'IMG-20181029-WA0000.jpg']\n",
      "413 ['20181021_151157.jpg', 'IMG-20181021-WA0014.jpg']\n",
      "414 ['20181026_162459.jpg', 'IMG-20181026-WA0021.jpg']\n",
      "415 ['20181026_162504.jpg', 'IMG-20181027-WA0010.jpg']\n",
      "416 ['20181020_151659.jpg', 'IMG-20181021-WA0017.jpg']\n",
      "417 ['20181026_164210.jpg', 'IMG-20181026-WA0017.jpg']\n",
      "418 ['20181027_094824.jpg', 'IMG-20181027-WA0002.jpg']\n",
      "419 ['20181008_162819.jpg', 'IMG-20181008-WA0000.jpg']\n",
      "420 ['20181026_163849.jpg', 'IMG-20181026-WA0018.jpg']\n",
      "421 ['20181026_161721.jpg', 'IMG-20181026-WA0014.jpg']\n",
      "422 ['20181026_162407.jpg', 'IMG-20181026-WA0012.jpg']\n",
      "423 ['20181002_152833.jpg', 'IMG-20181002-WA0000.jpg']\n",
      "424 ['20181021_125458.jpg', 'IMG-20181021-WA0015.jpg']\n",
      "425 ['20181021_151721.jpg', 'IMG-20181021-WA0013.jpg']\n",
      "426 ['20181021_062720.jpg', 'IMG-20181021-WA0000.jpg']\n",
      "427 ['20181020_115117.jpg', 'IMG-20181020-WA0002.jpg']\n",
      "428 ['20181020_163337.jpg', 'IMG-20181020-WA0006.jpg']\n",
      "429 ['20181014_154740.jpg', 'IMG-20181015-WA0002.jpg']\n",
      "430 ['20181024_213558.jpg', 'IMG-20181026-WA0023.jpg']\n",
      "431 ['20181006_173653.jpg', 'IMG-20181006-WA0000.jpg']\n",
      "432 ['20181027_150117.jpg', 'IMG-20181027-WA0018.jpg']\n",
      "433 ['20181020_113249.jpg', 'IMG-20181020-WA0001.jpg']\n",
      "434 ['20181014_133814.jpg', 'IMG-20181015-WA0004.jpg']\n",
      "435 ['20181026_164805.jpg', 'IMG-20181026-WA0016.jpg']\n",
      "436 ['20181026_154126.jpg', 'IMG-20181026-WA0015.jpg']\n",
      "# - cluster folders created\n",
      "# - mediainfodb dataframe written to file\n",
      "====================================================================================================\n",
      "/Users/matthieupichaud/pCloud Drive/Photos/2018/11\n",
      "258\n",
      "# - file mapping created\n",
      "# - mediainfo collected\n",
      "# - missing media from media info: set()\n",
      "# N_entries_existing: 220\n",
      "> /Users/matthieupichaud/pCloud Drive/Photos/2018/11\n",
      "# N_files: 220\n",
      "# N_entries_tocompute: 7\n"
     ]
    },
    {
     "name": "stderr",
     "output_type": "stream",
     "text": [
      "100%|██████████████████████████████████████████████████████████████████████████████████████████████████████████████████████████████████████████████████████████████████████████████████████████████████████| 7/7 [00:03<00:00,  1.86it/s]\n"
     ]
    },
    {
     "name": "stdout",
     "output_type": "stream",
     "text": [
      "> /Users/matthieupichaud/pCloud Drive/Photos/2018/11/imagecluster_0\n",
      "# N_files: 220\n",
      "# N_entries_tocompute: 0\n"
     ]
    },
    {
     "name": "stderr",
     "output_type": "stream",
     "text": [
      "0it [00:00, ?it/s]\n"
     ]
    },
    {
     "name": "stdout",
     "output_type": "stream",
     "text": [
      "> /Users/matthieupichaud/pCloud Drive/Photos/2018/11/imagecluster_1\n",
      "# N_files: 220\n",
      "# N_entries_tocompute: 0\n"
     ]
    },
    {
     "name": "stderr",
     "output_type": "stream",
     "text": [
      "0it [00:00, ?it/s]\n"
     ]
    },
    {
     "name": "stdout",
     "output_type": "stream",
     "text": [
      "> /Users/matthieupichaud/pCloud Drive/Photos/2018/11/imagecluster_2\n",
      "# N_files: 220\n",
      "# N_entries_tocompute: 0\n"
     ]
    },
    {
     "name": "stderr",
     "output_type": "stream",
     "text": [
      "0it [00:00, ?it/s]\n"
     ]
    },
    {
     "name": "stdout",
     "output_type": "stream",
     "text": [
      "> /Users/matthieupichaud/pCloud Drive/Photos/2018/11/imagecluster_3\n",
      "# N_files: 220\n",
      "# N_entries_tocompute: 0\n"
     ]
    },
    {
     "name": "stderr",
     "output_type": "stream",
     "text": [
      "0it [00:00, ?it/s]\n"
     ]
    },
    {
     "name": "stdout",
     "output_type": "stream",
     "text": [
      "> /Users/matthieupichaud/pCloud Drive/Photos/2018/11/imagecluster_4\n",
      "# N_files: 220\n",
      "# N_entries_tocompute: 0\n"
     ]
    },
    {
     "name": "stderr",
     "output_type": "stream",
     "text": [
      "0it [00:00, ?it/s]\n"
     ]
    },
    {
     "name": "stdout",
     "output_type": "stream",
     "text": [
      "> /Users/matthieupichaud/pCloud Drive/Photos/2018/11/imagecluster_5\n",
      "# N_files: 220\n",
      "# N_entries_tocompute: 0\n"
     ]
    },
    {
     "name": "stderr",
     "output_type": "stream",
     "text": [
      "0it [00:00, ?it/s]\n"
     ]
    },
    {
     "name": "stdout",
     "output_type": "stream",
     "text": [
      "> /Users/matthieupichaud/pCloud Drive/Photos/2018/11/imagecluster_6\n",
      "# N_files: 220\n",
      "# N_entries_tocompute: 0\n"
     ]
    },
    {
     "name": "stderr",
     "output_type": "stream",
     "text": [
      "0it [00:00, ?it/s]\n"
     ]
    },
    {
     "name": "stdout",
     "output_type": "stream",
     "text": [
      "> /Users/matthieupichaud/pCloud Drive/Photos/2018/11/imagecluster_7\n",
      "# N_files: 220\n",
      "# N_entries_tocompute: 0\n"
     ]
    },
    {
     "name": "stderr",
     "output_type": "stream",
     "text": [
      "0it [00:00, ?it/s]\n"
     ]
    },
    {
     "name": "stdout",
     "output_type": "stream",
     "text": [
      "> /Users/matthieupichaud/pCloud Drive/Photos/2018/11/imagecluster_8\n",
      "# N_files: 220\n",
      "# N_entries_tocompute: 0\n"
     ]
    },
    {
     "name": "stderr",
     "output_type": "stream",
     "text": [
      "0it [00:00, ?it/s]\n"
     ]
    },
    {
     "name": "stdout",
     "output_type": "stream",
     "text": [
      "> /Users/matthieupichaud/pCloud Drive/Photos/2018/11/imagecluster_9\n",
      "# N_files: 220\n",
      "# N_entries_tocompute: 0\n"
     ]
    },
    {
     "name": "stderr",
     "output_type": "stream",
     "text": [
      "0it [00:00, ?it/s]\n"
     ]
    },
    {
     "name": "stdout",
     "output_type": "stream",
     "text": [
      "> /Users/matthieupichaud/pCloud Drive/Photos/2018/11/imagecluster_10\n",
      "# N_files: 220\n",
      "# N_entries_tocompute: 0\n"
     ]
    },
    {
     "name": "stderr",
     "output_type": "stream",
     "text": [
      "0it [00:00, ?it/s]\n"
     ]
    },
    {
     "name": "stdout",
     "output_type": "stream",
     "text": [
      "> /Users/matthieupichaud/pCloud Drive/Photos/2018/11/imagecluster_11\n",
      "# N_files: 220\n",
      "# N_entries_tocompute: 0\n"
     ]
    },
    {
     "name": "stderr",
     "output_type": "stream",
     "text": [
      "0it [00:00, ?it/s]\n"
     ]
    },
    {
     "name": "stdout",
     "output_type": "stream",
     "text": [
      "> /Users/matthieupichaud/pCloud Drive/Photos/2018/11/imagecluster_12\n",
      "# N_files: 220\n",
      "# N_entries_tocompute: 0\n"
     ]
    },
    {
     "name": "stderr",
     "output_type": "stream",
     "text": [
      "0it [00:00, ?it/s]\n"
     ]
    },
    {
     "name": "stdout",
     "output_type": "stream",
     "text": [
      "> /Users/matthieupichaud/pCloud Drive/Photos/2018/11/imagecluster_13\n",
      "# N_files: 220\n",
      "# N_entries_tocompute: 0\n"
     ]
    },
    {
     "name": "stderr",
     "output_type": "stream",
     "text": [
      "0it [00:00, ?it/s]\n"
     ]
    },
    {
     "name": "stdout",
     "output_type": "stream",
     "text": [
      "> /Users/matthieupichaud/pCloud Drive/Photos/2018/11/imagecluster_14\n",
      "# N_files: 220\n",
      "# N_entries_tocompute: 0\n"
     ]
    },
    {
     "name": "stderr",
     "output_type": "stream",
     "text": [
      "0it [00:00, ?it/s]\n"
     ]
    },
    {
     "name": "stdout",
     "output_type": "stream",
     "text": [
      "> /Users/matthieupichaud/pCloud Drive/Photos/2018/11/imagecluster_15\n",
      "# N_files: 220\n",
      "# N_entries_tocompute: 0\n"
     ]
    },
    {
     "name": "stderr",
     "output_type": "stream",
     "text": [
      "0it [00:00, ?it/s]\n"
     ]
    },
    {
     "name": "stdout",
     "output_type": "stream",
     "text": [
      "> /Users/matthieupichaud/pCloud Drive/Photos/2018/11/imagecluster_16\n",
      "# N_files: 220\n",
      "# N_entries_tocompute: 0\n"
     ]
    },
    {
     "name": "stderr",
     "output_type": "stream",
     "text": [
      "0it [00:00, ?it/s]\n"
     ]
    },
    {
     "name": "stdout",
     "output_type": "stream",
     "text": [
      "> /Users/matthieupichaud/pCloud Drive/Photos/2018/11/imagecluster_17\n",
      "# N_files: 220\n",
      "# N_entries_tocompute: 0\n"
     ]
    },
    {
     "name": "stderr",
     "output_type": "stream",
     "text": [
      "0it [00:00, ?it/s]\n"
     ]
    },
    {
     "name": "stdout",
     "output_type": "stream",
     "text": [
      "> /Users/matthieupichaud/pCloud Drive/Photos/2018/11/imagecluster_18\n",
      "# N_files: 220\n",
      "# N_entries_tocompute: 0\n"
     ]
    },
    {
     "name": "stderr",
     "output_type": "stream",
     "text": [
      "0it [00:00, ?it/s]\n"
     ]
    },
    {
     "name": "stdout",
     "output_type": "stream",
     "text": [
      "> /Users/matthieupichaud/pCloud Drive/Photos/2018/11/imagecluster_19\n",
      "# N_files: 220\n",
      "# N_entries_tocompute: 0\n"
     ]
    },
    {
     "name": "stderr",
     "output_type": "stream",
     "text": [
      "0it [00:00, ?it/s]\n"
     ]
    },
    {
     "name": "stdout",
     "output_type": "stream",
     "text": [
      "> /Users/matthieupichaud/pCloud Drive/Photos/2018/11/imagecluster_20\n",
      "# N_files: 220\n",
      "# N_entries_tocompute: 0\n"
     ]
    },
    {
     "name": "stderr",
     "output_type": "stream",
     "text": [
      "0it [00:00, ?it/s]\n"
     ]
    },
    {
     "name": "stdout",
     "output_type": "stream",
     "text": [
      "> /Users/matthieupichaud/pCloud Drive/Photos/2018/11/imagecluster_21\n",
      "# N_files: 220\n",
      "# N_entries_tocompute: 0\n"
     ]
    },
    {
     "name": "stderr",
     "output_type": "stream",
     "text": [
      "0it [00:00, ?it/s]\n"
     ]
    },
    {
     "name": "stdout",
     "output_type": "stream",
     "text": [
      "> /Users/matthieupichaud/pCloud Drive/Photos/2018/11/imagecluster_22\n",
      "# N_files: 220\n",
      "# N_entries_tocompute: 0\n"
     ]
    },
    {
     "name": "stderr",
     "output_type": "stream",
     "text": [
      "0it [00:00, ?it/s]\n"
     ]
    },
    {
     "name": "stdout",
     "output_type": "stream",
     "text": [
      "> /Users/matthieupichaud/pCloud Drive/Photos/2018/11/imagecluster_23\n",
      "# N_files: 220\n",
      "# N_entries_tocompute: 0\n"
     ]
    },
    {
     "name": "stderr",
     "output_type": "stream",
     "text": [
      "0it [00:00, ?it/s]\n"
     ]
    },
    {
     "name": "stdout",
     "output_type": "stream",
     "text": [
      "> /Users/matthieupichaud/pCloud Drive/Photos/2018/11/imagecluster_24\n",
      "# N_files: 220\n",
      "# N_entries_tocompute: 0\n"
     ]
    },
    {
     "name": "stderr",
     "output_type": "stream",
     "text": [
      "0it [00:00, ?it/s]\n"
     ]
    },
    {
     "name": "stdout",
     "output_type": "stream",
     "text": [
      "> /Users/matthieupichaud/pCloud Drive/Photos/2018/11/imagecluster_25\n",
      "# N_files: 220\n",
      "# N_entries_tocompute: 0\n"
     ]
    },
    {
     "name": "stderr",
     "output_type": "stream",
     "text": [
      "0it [00:00, ?it/s]\n"
     ]
    },
    {
     "name": "stdout",
     "output_type": "stream",
     "text": [
      "# - mediainfodb dataframe updated\n",
      "# - images compared\n",
      "# - cluster initialized\n",
      "# - clusters identified\n",
      "# - file mapping updated\n",
      "169 ['IMG-20181104-WA0000.jpg', 'IMG-20181104-WA0001.jpg']\n",
      "192 ['20181111_194525.jpg', '20181111_194527.jpg']\n",
      "194 ['20181124_163043.jpg', 'IMG-20181125-WA0015.jpg']\n",
      "195 ['20181121_174201.jpg', '20181121_174204.jpg']\n",
      "197 ['20181126_152350.jpg', 'IMG-20181126-WA0003.jpg']\n",
      "198 ['20181103_144328.jpg', '20181103_144329.jpg']\n",
      "206 ['20181111_194522.jpg', 'IMG-20181112-WA0000.jpg']\n",
      "207 ['20181124_121923.jpg', 'IMG-20181125-WA0011.jpg']\n",
      "208 ['20181124_225535.jpg', 'IMG-20181125-WA0001.jpg']\n",
      "209 ['20181124_225553.jpg', 'IMG-20181125-WA0000.jpg']\n",
      "210 ['20181126_161041.jpg', 'IMG-20181126-WA0000.jpg']\n",
      "211 ['20181126_152302.jpg', 'IMG-20181126-WA0004.jpg']\n",
      "212 ['20181124_163553.jpg', 'IMG-20181125-WA0008.jpg']\n",
      "213 ['20181124_110352.jpg', 'IMG-20181125-WA0013.jpg']\n",
      "214 ['20181124_164808.jpg', 'IMG-20181125-WA0006.jpg']\n",
      "215 ['20181124_163010.jpg', 'IMG-20181125-WA0009.jpg']\n",
      "216 ['20181126_151954.jpg', 'IMG-20181126-WA0005.jpg']\n",
      "217 ['20181124_164755.jpg', 'IMG-20181125-WA0007.jpg']\n",
      "218 ['20181126_160829.jpg', 'IMG-20181126-WA0001.jpg']\n",
      "219 ['20181127_180033.jpg', 'IMG-20181129-WA0001.jpg']\n",
      "220 ['20181124_171228.jpg', 'IMG-20181125-WA0004.jpg']\n",
      "221 ['20181124_121756.jpg', 'IMG-20181125-WA0012.jpg']\n",
      "222 ['20181124_162135.jpg', 'IMG-20181125-WA0010.jpg']\n",
      "223 ['20181124_203836.jpg', 'IMG-20181125-WA0003.jpg']\n",
      "224 ['20181103_144531.jpg', 'IMG-20181103-WA0001.jpg']\n",
      "225 ['20181103_143434.jpg', 'IMG-20181103-WA0002.jpg']\n",
      "# - cluster folders created\n",
      "# - mediainfodb dataframe written to file\n"
     ]
    }
   ],
   "source": [
    "#media_repo = \"/Users/matthieupichaud/pCloud Drive/test/\"\n",
    "media_repo = \"/Users/matthieupichaud/pCloud Drive/Photos\"\n",
    "\n",
    "# - update media db\n",
    "for year in [\"2018\"]: #folder_listnumericsubfolder(media_repo):\n",
    "    for month in folder_listnumericsubfolder(os.path.join(media_repo, year)):\n",
    "        \n",
    "        folder_candidate = os.path.join(f\"{media_repo}/{year}/{month}\")\n",
    "        mediainfodb_candidate = os.path.join(\n",
    "                                    folder_candidate,\n",
    "                                    f\"media_info_{year}{month}.tsv.gz\")\n",
    "        if not os.path.exists(mediainfodb_candidate):\n",
    "            mediainfodb_candidate=mediainfodb_candidate.replace(\".gz\",\"\")\n",
    "        \n",
    "        if not os.path.exists(folder_candidate):  continue\n",
    "        if not os.path.exists(mediainfodb_candidate) : continue\n",
    "        \n",
    "        print(\"=\"*100+\"\\n\"+folder_candidate)\n",
    "        \n",
    "        # - file mapping\n",
    "        fn_d = mediafolder_map(folder_candidate)\n",
    "        #fn_l = folter_listfiles(folder_candidate)\n",
    "        #fn_d = {os.path.basename(_):_ for _ in fn_l}\n",
    "        print(\"# - file mapping created\")\n",
    "        \n",
    "        # - read original media info db\n",
    "        mediainfo_original_df = pd.read_csv(mediainfodb_candidate, sep=\"\\t\")\n",
    "        mediainfo_original_d = mediainfo_original_df.to_dict(orient=\"index\")\n",
    "        print(\"# - mediainfo collected\")\n",
    "        \n",
    "        # - update media info db with new images\n",
    "        basename_original_l = mediainfo_original_df[\"basename\"].to_list()\n",
    "        basename_new_l = set(fn_d.keys()) - set(basename_original_l)\n",
    "        if len(basename_new_l)==0: continue # skip processing if there is no new media file in media folder\n",
    "        \n",
    "        print(\"# - missing media from media info:\", set(basename_original_l) - set(fn_d.keys()))\n",
    "        \n",
    "        mediainfodb_new_df = media_todb(\n",
    "                                        folder_candidate,\n",
    "                                        skipfolder=[\"Corbeille\"],\n",
    "                                        media_info_d = mediainfo_original_d,\n",
    "                                        outputtype=\"dataframe\")\n",
    "        print(\"# - mediainfodb dataframe updated\")\n",
    "        \n",
    "        # - compare images from media info db\n",
    "        image_similar_l = mediadb_imagecompare(\n",
    "                                        mediainfodb_new_df,\n",
    "                                        bitdiff_target=10)\n",
    "        print(\"# - images compared\")\n",
    "        \n",
    "        # - init image clusters\n",
    "        cluster_d = {_:i for i,_ in enumerate(list(fn_d.keys()))}\n",
    "        cluster_content_d = {}\n",
    "        for fn, i in cluster_d.items():\n",
    "            cluster_content_d[i] = [fn]\n",
    "        print(\"# - cluster initialized\")\n",
    "        # - cluster similar images\n",
    "        for fn1, fn2, bitscore in image_similar_l:\n",
    "            size1 = mediainfodb_new_df[mediainfodb_new_df[\"basename\"]==fn1].filesize.values[0]\n",
    "            size2 = mediainfodb_new_df[mediainfodb_new_df[\"basename\"]==fn2].filesize.values[0]\n",
    "            cluster1 = cluster_d[fn1]\n",
    "            cluster2 = cluster_d[fn2]\n",
    "            if cluster_d[fn1]==cluster_d[fn2]: continue\n",
    "            if size1 <= size2: cluster_ = cluster2; cluster_drop = cluster1\n",
    "            else:              cluster_ = cluster1; cluster_drop = cluster2\n",
    "            cluster_content = cluster_content_d[cluster1]+cluster_content_d[cluster2]\n",
    "            for fn in cluster_content: cluster_d[fn] = cluster_\n",
    "            cluster_content_d[cluster_] = cluster_content\n",
    "            del cluster_content_d[cluster_drop]\n",
    "        print(\"# - clusters identified\")\n",
    "        \n",
    "        # - flatten folder\n",
    "        folder_flatten(folder_candidate, \"flatten.sh\", prefix=[\"imagecluster_\"])\n",
    "        !bash flatten.sh\n",
    "        \n",
    "        # - update file mapping after flatten folder\n",
    "        fn_l = folder_listfiles(folder_candidate)\n",
    "        fn_d = {os.path.basename(_):_ for _ in fn_l}\n",
    "        print(\"# - file mapping updated\")\n",
    "        \n",
    "        # - create folders for each cluster\n",
    "        script_fn = \"cluster.sh\"\n",
    "        icluster = 0\n",
    "        with open(script_fn, \"wt\") as fo:\n",
    "            print(\"set +e\", file=fo)\n",
    "            for k in cluster_content_d.keys():\n",
    "                if len(cluster_content_d[k])>1:\n",
    "                    print(k, cluster_content_d[k])\n",
    "                    # - create cluster folder\n",
    "                    cluster_folder = os.path.join(folder_candidate, f\"imagecluster_{icluster}\")\n",
    "                    #os.mkdir(cluster_folder)\n",
    "                    print(f\"mkdir '{cluster_folder}'\", file=fo)\n",
    "                    # - copy files\n",
    "                    for fn in cluster_content_d[k]:\n",
    "                        #shutil.move(fn_d[fn], cluster_folder)\n",
    "                        print(f\"mv '{fn_d[fn]}' '{cluster_folder}'\", file=fo)\n",
    "                    icluster+=1\n",
    "        !bash cluster.sh\n",
    "        print(\"# - cluster folders created\")\n",
    "        \n",
    "        # - write media info db\n",
    "        mediainfodb_new_df.to_csv(\n",
    "                            mediainfodb_candidate,\n",
    "                            sep=\"\\t\", index=False)\n",
    "        print(\"# - mediainfodb dataframe written to file\")\n",
    "    \n",
    "    "
   ]
  },
  {
   "cell_type": "markdown",
   "metadata": {},
   "source": [
    "## Compare content"
   ]
  },
  {
   "cell_type": "code",
   "execution_count": null,
   "metadata": {},
   "outputs": [],
   "source": [
    "imagefolder_map_d = mediafolder_map(\"/Users/matthieupichaud/pCloud Drive/Photos/\")\n",
    "videofolder_map_d = mediafolder_map(\"/Users/matthieupichaud/pCloud Drive/Videos/\")\n",
    "query_map_d = mediafolder_map(\"/Volumes/TV/PhotosGoogleLN/Takeout/Google Photos\")"
   ]
  },
  {
   "cell_type": "code",
   "execution_count": null,
   "metadata": {},
   "outputs": [],
   "source": [
    "set(query_map_d.keys()) - set(imagefolder_map_d.keys()) - set(videofolder_map_d.keys()) "
   ]
  },
  {
   "cell_type": "markdown",
   "metadata": {},
   "source": [
    "## Identify corrupted images"
   ]
  },
  {
   "cell_type": "code",
   "execution_count": null,
   "metadata": {},
   "outputs": [],
   "source": [
    "from PIL import Image, ImageFile\n",
    "from collections import Counter\n",
    "import numpy as np\n",
    "\n",
    "ImageFile.LOAD_TRUNCATED_IMAGES = True\n",
    "\n",
    "def image_colordistrib_test(fn):\n",
    "    img = Image.open(fn)\n",
    "    img.thumbnail((100, 100))\n",
    "    im=img.getdata()\n",
    "    im2arr = np.array(im)\n",
    "    unique, counts = np.unique(im2arr, return_counts=True, axis=0)\n",
    "    for k,v in zip(unique.tolist(), counts.tolist()):\n",
    "        if tuple(k)==(128, 128, 128):\n",
    "            Nitems = counts.sum()\n",
    "            ratio= v/Nitems\n",
    "            return ratio, v, Nitems, k\n",
    "    return 0,0,0\n",
    "\n",
    "#image_fn=\"/Users/matthieupichaud/Downloads/20180203_152235.jpg\"\n",
    "#image_fn=\"/Users/matthieupichaud/pCloud Drive/Photos/0000/00/DSCN2424.JPG\"\n",
    "image_fn=\"/Users/matthieupichaud/Downloads/20180218_140908.jpg\"\n",
    "\n",
    "image_colordistrib_test(image_fn)"
   ]
  },
  {
   "cell_type": "code",
   "execution_count": null,
   "metadata": {},
   "outputs": [],
   "source": [
    "imagefolder_map_d = mediafolder_map(\"/Users/matthieupichaud/pCloud Drive/Photos/\")"
   ]
  },
  {
   "cell_type": "code",
   "execution_count": null,
   "metadata": {},
   "outputs": [],
   "source": [
    "# - initialize\n",
    "qc_d={}"
   ]
  },
  {
   "cell_type": "code",
   "execution_count": null,
   "metadata": {},
   "outputs": [],
   "source": [
    "# - iterate\n",
    "for i, [bn, fn] in enumerate(imagefolder_map_d.items()):\n",
    "    if bn in qc_d.keys(): continue\n",
    "    try:\n",
    "        qc_d[bn]=image_colordistrib_test(fn)\n",
    "        if i%100==0: print(i)\n",
    "    except:\n",
    "        qc_d[bn]=-1"
   ]
  },
  {
   "cell_type": "code",
   "execution_count": null,
   "metadata": {},
   "outputs": [],
   "source": [
    "kdrop=[k for k,v in qc_d.items() if v==-1]"
   ]
  },
  {
   "cell_type": "code",
   "execution_count": null,
   "metadata": {},
   "outputs": [],
   "source": [
    "for k in kdrop: del qc_d[k]"
   ]
  },
  {
   "cell_type": "code",
   "execution_count": null,
   "metadata": {},
   "outputs": [],
   "source": [
    "colordistrib_df=pd.DataFrame.from_dict(qc_d, orient=\"index\")"
   ]
  },
  {
   "cell_type": "code",
   "execution_count": null,
   "metadata": {},
   "outputs": [],
   "source": [
    "recoverylist_s=set(colordistrib_df[colordistrib_df[0]>0.1].index.tolist())"
   ]
  },
  {
   "cell_type": "code",
   "execution_count": null,
   "metadata": {},
   "outputs": [],
   "source": [
    "for i in range(1,15):\n",
    "    backup_zip=f\"/Volumes/TV/PhotosGoogleLN/takeout-20221229T211606Z-0{str(i).zfill(2)}.zip\"\n",
    "    print(backup_zip)\n",
    "    wd=\"/Users/matthieupichaud/Downloads/tmp_PhotosGoogleLN/\" \n",
    "    # - unzip folder\n",
    "    !ditto -x -k \"{backup_zip}\" \"{wd}\"\n",
    "    # - list media\n",
    "    query_map_d = mediafolder_map(wd)\n",
    "    for k,v in query_map_d.items():\n",
    "        if k in recoverylist_s:\n",
    "            print(v, \"found\", len(recoverylist_s))\n",
    "            !cp \"{v}\" tmp/\n",
    "            recoverylist_s.remove(k)"
   ]
  },
  {
   "cell_type": "code",
   "execution_count": null,
   "metadata": {},
   "outputs": [],
   "source": [
    "recoverylist_s"
   ]
  },
  {
   "cell_type": "code",
   "execution_count": null,
   "metadata": {},
   "outputs": [],
   "source": []
  },
  {
   "cell_type": "code",
   "execution_count": null,
   "metadata": {},
   "outputs": [],
   "source": []
  },
  {
   "cell_type": "code",
   "execution_count": null,
   "metadata": {},
   "outputs": [],
   "source": []
  },
  {
   "cell_type": "code",
   "execution_count": null,
   "metadata": {},
   "outputs": [],
   "source": []
  },
  {
   "cell_type": "code",
   "execution_count": null,
   "metadata": {},
   "outputs": [],
   "source": [
    "image_colordistrib_test(imagefolder_map_d[\"20180301_065232.jpg\"])"
   ]
  },
  {
   "cell_type": "code",
   "execution_count": null,
   "metadata": {},
   "outputs": [],
   "source": [
    "colordistrib_df[0].hist()"
   ]
  },
  {
   "cell_type": "code",
   "execution_count": null,
   "metadata": {},
   "outputs": [],
   "source": [
    "Image.open(imagefolder_map_d[\"20180301_065232.jpg\"]).show()"
   ]
  },
  {
   "cell_type": "code",
   "execution_count": null,
   "metadata": {},
   "outputs": [],
   "source": [
    "import pickle\n",
    "\n",
    "with open('qc_d.pickle', 'wb') as handle:\n",
    "    pickle.dump(qc_d, handle, protocol=pickle.HIGHEST_PROTOCOL)"
   ]
  },
  {
   "cell_type": "code",
   "execution_count": null,
   "metadata": {},
   "outputs": [],
   "source": [
    "len(qc_d)"
   ]
  },
  {
   "cell_type": "code",
   "execution_count": null,
   "metadata": {},
   "outputs": [],
   "source": []
  },
  {
   "cell_type": "code",
   "execution_count": null,
   "metadata": {},
   "outputs": [],
   "source": [
    "# LN\n",
    "backup_folder=\"/Volumes/TV/PhotosGoogleLN/\"\n",
    "\n",
    "# - arguments\n",
    "imagefolder_out = \"/Users/matthieupichaud/pCloud Drive/Photos\"\n",
    "videofolder_out = \"/Users/matthieupichaud/pCloud Drive/Videos\"\n",
    "\n",
    "for suffix in ['001', '002', '003', '004','005', '006','008', '009','010', '011','012']:\n",
    "    backup_zip=os.path.join(backup_folder, f\"takeout-20221229T211606Z-{suffix}.zip\")\n",
    "    print(backup_zip)\n",
    "    wd=\"/Users/matthieupichaud/Downloads/tmp_PhotosGoogleLN/\" \n",
    "    # - unzip folder\n",
    "    !ditto -x -k \"{backup_zip}\" \"{wd}\"\n",
    "    # - convert and copy HEIC\n",
    "    #mediafolder_heicconvert(wd)\n",
    "    # - create backup script\n",
    "    #media2backupscript(wd, imagefolder_out, videofolder_out, \"backup.sh\", escape_space=0)\n",
    "    # - run script\n",
    "    #!bash backup.sh > /dev/null\n",
    "    # - control\n",
    "    query_map_d = mediafolder_map(wd)\n",
    "    imagefolder_map_d = mediafolder_map(imagefolder_out)\n",
    "    videofolder_map_d = mediafolder_map(videofolder_out)\n",
    "    print(set(query_map_d.keys()) - set(imagefolder_map_d.keys()) - set(videofolder_map_d.keys()))\n",
    "    print(\"=\"*50)\n",
    "    # - remove\n",
    "    !rm -rf {wd}"
   ]
  }
 ],
 "metadata": {
  "interpreter": {
   "hash": "aee8b7b246df8f9039afb4144a1f6fd8d2ca17a180786b69acc140d282b71a49"
  },
  "kernelspec": {
   "display_name": "Python 3 (ipykernel)",
   "language": "python",
   "name": "python3"
  },
  "language_info": {
   "codemirror_mode": {
    "name": "ipython",
    "version": 3
   },
   "file_extension": ".py",
   "mimetype": "text/x-python",
   "name": "python",
   "nbconvert_exporter": "python",
   "pygments_lexer": "ipython3",
   "version": "3.10.8"
  }
 },
 "nbformat": 4,
 "nbformat_minor": 4
}
